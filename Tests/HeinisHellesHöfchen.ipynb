{
 "cells": [
  {
   "cell_type": "code",
   "execution_count": null,
   "metadata": {},
   "outputs": [],
   "source": [
    "# Pakete etc. \n",
    "# Pandas, Numpy und Matplotlib davor über Miniforge Prompt herunterladen sonst geht hier gar nix\n",
    "# Panda is pandas dataframe\n",
    "# numpy is number array (general python tool)\n",
    "\n",
    "import csv\n",
    "import glob\n",
    "import matplotlib.pyplot as plt\n",
    "import numpy as np\n",
    "import os\n",
    "import pandas as pnd\n",
    "import seaborn as sns\n",
    "import sklearn\n",
    "import timeit\n",
    "\n",
    "\n",
    "#from collections import Counter\n",
    "#from functions.KNN import*\n",
    "#from functions.PCA import pca\n",
    "from pathlib import Path\n",
    "from collections import Counter\n",
    "from scipy import spatial\n",
    "from scipy.spatial import KDTree\n",
    "from scipy.stats import mode\n",
    "from sklearn.metrics import confusion_matrix"
   ]
  },
  {
   "cell_type": "code",
   "execution_count": null,
   "metadata": {},
   "outputs": [],
   "source": [
    "import os\n",
    "print(os.getcwd())\n",
    "os.chdir('C:\\Users\\heinr\\Documents\\GitHub\\topic01_team04')"
   ]
  },
  {
   "cell_type": "code",
   "execution_count": null,
   "metadata": {},
   "outputs": [],
   "source": [
    "print('\\n')\n",
    "# Import der Dateien \n",
    "# ANMERKUNG: Funktioniert auch nur, wenn die Dateien in der SELBEN Directory wie das Skript sind -> Im Git-Ordner\n",
    "# Problem mit Git da CSV-Dateien zu groß sind um sie zu committen, sonst kann man gar nix mehr pushen \n",
    "# Dateien in GitHub Desktop ab in .gitignore, dann verpisst sich das Problem\n",
    "\n",
    "testdata = pnd.read_csv('fashion-mnist_test.csv')\n",
    "traindata = pnd.read_csv('fashion-mnist_train.csv')\n",
    "# 1. Spalte wird gedropped/ gelöscht, weil dort die Kategorie des Kleidungsstücks steht & kein Intensitätswert eines Pixels, danach sind es 28 x 28 = 784 columns\n",
    "testdata_pixel = testdata.drop(testdata.columns[0], axis=1).to_numpy()\n",
    "traindata_pixel = traindata.drop(traindata.columns[0], axis=1).to_numpy()\n",
    "# numpy array mit Kategorien der Kleidungsstücke wird erstellt\n",
    "label_train = traindata[traindata.columns[0]].to_numpy()\n",
    "label_test = testdata[testdata.columns[0]].to_numpy()\n",
    "#class_names = np.array(\"T-shirt / Top\", \"Trouser\", \"Pullover\", \"Dress\", \"Coat\", \"Sandal\", \"Shirt\", \"Sneaker\", \"Bag\", \"Ankle Boot\")\n",
    "\n"
   ]
  },
  {
   "cell_type": "code",
   "execution_count": null,
   "metadata": {},
   "outputs": [],
   "source": [
    "img = traindata_pixel.reshape((-1,28,28)) #only relevant for visualisation\n",
    "variable_type = type(img)\n",
    "\n",
    "if variable_type is np.ndarray:\n",
    "    print(\"Variable is an array\")\n",
    "elif variable_type is list:\n",
    "    print(\"Variable is a list\")\n",
    "elif variable_type is np.matrix:\n",
    "    print(\"Variable is a matrix\")\n",
    "else:\n",
    "    print(\"Variable has a different type\")\n"
   ]
  },
  {
   "cell_type": "code",
   "execution_count": null,
   "metadata": {},
   "outputs": [],
   "source": [
    "num_img = traindata_pixel.shape[0]\n",
    "\n",
    "# Display first 10 images\n",
    "plt.imshow(img[;9], cmap='gray')\n",
    "plt.axis('off')  # Remove axis labels\n",
    "plt.show()"
   ]
  },
  {
   "cell_type": "code",
   "execution_count": null,
   "metadata": {},
   "outputs": [],
   "source": [
    "\n",
    "import jupyter_client\n",
    "\n",
    "\n",
    "jupyter nbconvert --to pdf Report.ipynb\n"
   ]
  },
  {
   "cell_type": "code",
   "execution_count": null,
   "metadata": {},
   "outputs": [],
   "source": [
    "jupyter nbconvert --to pdf <path/to/your/notebook.ipynb>\n"
   ]
  },
  {
   "cell_type": "markdown",
   "metadata": {},
   "source": [
    "Object classification and recognition extensive field in computer vision with many applications ranging from facial recognition to autonomous driving\n",
    "- Different algorithms optimal for different Datasets: Traditional machine learning algorithms such as SVMs, KNNs, regression Algorithms\n",
    "- Neural networks for image recognition: CNNs\n",
    "*letzte beiden Punkte bitte gut recherchieren und zitieren thx*\n",
    "\n",
    "- Evtl. bereits bestehende CNN und KNN Algorithmen zitieren?\n",
    "\n",
    "Project is divided into three parts: Data preparation, KNN, CNN\n",
    "\n",
    "\n",
    "Short KNN introduction: KNN is algorithm, that assigns each training image to a point in a multidimensional space\n",
    "- test image is positioned -> class assigned, that the majority of k-nearest neighbors belong to\n",
    "(evtl. bessere Formulierung? citation needed)\n",
    "\n",
    "CNN:\n",
    "- explanation (evtl mittels Hannahs PDF)\n",
    "Modification of established vgg-architecture (citation needed)"
   ]
  },
  {
   "cell_type": "markdown",
   "metadata": {},
   "source": [
    "## Introduction\n",
    "\n",
    "Whether it is Zalando, Amazon or Shein, the online fashion market is continously growing. In 2023, predictions say the global fashion e-commerce market will surpass a value of 820 billion U.S. dollars. \n",
    "<span style='color:red'>\n",
    "[Quelle 1]\n",
    "</span>\n",
    "Therefore, there is a demand for optimizing classification algorithms for clothing recognition. The Zalando Fashion-MNIST dataset is serves as an optimal tool for for benchmarking machine learning algorithms. It is a a balanced dataset comprised of 60,000 training images and 10,000 test images. \n",
    "<span style='color:red'>\n",
    "[Quelle 2]\n",
    "</span>\n",
    "In this project the classification algorithms K-nearest neighbors (KNN) and Convolutional Neural Network (CNN) algorithms were implemented and compared. The first one being a simple, but effective standard machine learning algorithm, while the Convolutional Neural Network algorithm is a complex modern attempt of imitating the neuron structure of the brain. \n",
    "<span style='color:red'>\n",
    "[Quelle 3 & 4]\n",
    "</span>\n",
    "Prior to applying the algorithms to the dataset, preprocessing was performed in the form of normalization of the data and dimensional reduction using principal component analysis (PCA).<br>\n",
    "The KNN algorithm algorithm organizes the data into cohesive clusters or subsets and categorizes newly inputted data by comparing it to previously trained data. The input is assigned to the class that shares the highest similarity with its nearest neighbors. \n",
    "<span style='color:red'>\n",
    "[Quelle 3] <br>\n",
    "</span>\n",
    "CNN belongs to the artificial neural networks and is specialized in image analysis. Convolutions are applied to the images in order to recognize patterns. This technique can be used for classification problems, as it is done in this project. \n",
    "<span style='color:red'>\n",
    "[Quelle 4] <br>\n",
    "</span>"
   ]
  },
  {
   "cell_type": "markdown",
   "metadata": {},
   "source": [
    "## Dataset\n",
    "<div>\n",
    "<img src=\"../../Plots/projectsummary.png\" width=600>\n",
    "</div>\n",
    "<span style=\"color:red\"> \n",
    "Vllt stattdessen jeweils 1 image von allen Klassen\n",
    "</span>"
   ]
  },
  {
   "cell_type": "markdown",
   "metadata": {},
   "source": [
    "## Evaluation Methods\n",
    "<span style=\"color:light\">\n",
    "chi-square würde ich als Begriff nicht verwenden, ich würde lieber sagen:\n",
    "\"We substracted the expected values of the confusion matrix from the observed values. Expected values means the values th would be observed if the algorithm was unbiased and each class could be detected just as good as every other class.\"\n",
    "Gerne auch mit alternativer Formulierung, aber so in der Art\n",
    "</span>"
   ]
  },
  {
   "cell_type": "markdown",
   "metadata": {},
   "source": [
    "## Basti Anmerkungen CNN\n",
    "<span style=\"color:lightblue\">\n",
    "\"These become more and more sophisticated the deeper the network becomes\" Das ist der Grundgedanke, aber wir wissen nicht, ob das wirklich so ist, deshalb würde ich eher schreiben, dass wir hoffen, dass es so funktioniert.\n",
    "\"After each convolution layer a nonlinear activation function is applied. It determines which neurons are activated in the CNN.\" Was ist damit gemeint? ReLU ist ja zumindest teilweise linear?\n",
    "\"This function outputs the input directly if it is positive, and zero otherwise.\" Nein, die gibt den Input einfach weiter, wenn er positiv ist\n",
    "\"Most commonly used is the max pooling\" Vorsicht mit solchen Aussagen, immer lieber abschwächen und sagen, dass es commonly used ist und dass wir es verwendet haben, dann sind wir fein raus"
   ]
  },
  {
   "cell_type": "markdown",
   "metadata": {},
   "source": [
    "## Discussion\n",
    "The preparation of the data, done by performing a Z-transformation and a PCA was implemented successfully. \n",
    "KNN: \n",
    "- optimal number of k gefunden & optimal number of PC's bzw percentage of variance"
   ]
  },
  {
   "cell_type": "markdown",
   "metadata": {},
   "source": [
    "## Bibliography\n",
    "\n",
    "1. Statista\n",
    "2. Fashion MNIST dataset\n",
    "3. Taunk K., De S., Verma S., Swetapadma A. A brief review of nearest neighbor algorithm for learning and classification; Proceedings of the 2019 International Conference on Intelligent Computing and Control Systems (ICCS); Madurai, India. 15–17 May 2019; pp. 1255–1260.\n",
    "4. Uhrig R.E. Introduction to artificial neural networks; Proceedings of the IECON’95-21st Annual Conference on IEEE Industrial Electronics; Orlando, FL, USA. 6–10 November 1995; [(accessed on 26 October 2022)]. pp. 33–37."
   ]
  }
 ],
 "metadata": {
  "kernelspec": {
   "display_name": "Python 3",
   "language": "python",
   "name": "python3"
  },
  "language_info": {
   "codemirror_mode": {
    "name": "ipython",
    "version": 3
   },
   "file_extension": ".py",
   "mimetype": "text/x-python",
   "name": "python",
   "nbconvert_exporter": "python",
   "pygments_lexer": "ipython3",
   "version": "3.11.4"
  },
  "orig_nbformat": 4
 },
 "nbformat": 4,
 "nbformat_minor": 2
}
