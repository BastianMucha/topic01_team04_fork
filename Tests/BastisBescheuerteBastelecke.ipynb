{
 "cells": [
  {
   "cell_type": "code",
   "execution_count": 2,
   "metadata": {},
   "outputs": [],
   "source": [
    "import csv\n",
    "import glob\n",
    "import matplotlib.pyplot as plt\n",
    "import numpy as np\n",
    "import os\n",
    "import pandas as pnd\n",
    "import seaborn as sns\n",
    "import sklearn\n",
    "import timeit\n",
    "\n",
    "\n",
    "from collections import Counter\n",
    "from functions.KNN import*\n",
    "from functions.PCA import pca\n",
    "from pathlib import Path\n",
    "from scipy import spatial\n",
    "from scipy.spatial import KDTree\n",
    "from scipy.stats import mode\n",
    "from sklearn.metrics import confusion_matrix\n",
    "\n",
    "\n",
    "dataset = 1\n",
    "match dataset:\n",
    "    case 1:\n",
    "        test = 'fashion-mnist_test.csv'\n",
    "        train = 'fashion-mnist_train.csv'\n",
    "    case 2: \n",
    "        test = \"mnist_test.csv\"\n",
    "        train = \"mnist_train.csv\"\n",
    "testdata = pnd.read_csv(test)\n",
    "traindata = pnd.read_csv(train)\n",
    "\n",
    "\n",
    "testdata_pixel = testdata.drop(testdata.columns[0], axis=1).to_numpy()\n",
    "traindata_pixel = traindata.drop(traindata.columns[0], axis=1).to_numpy()\n",
    "label_train = traindata[traindata.columns[0]].to_numpy()\n",
    "label_test = testdata[testdata.columns[0]].to_numpy()\n",
    "\n",
    "class_names = np.array([\"T-shirt / Top\", \"Trouser\", \"Pullover\", \"Dress\", \"Coat\", \"Sandal\", \"Shirt\", \"Sneaker\", \"Bag\", \"Ankle Boot\"])"
   ]
  },
  {
   "cell_type": "code",
   "execution_count": null,
   "metadata": {},
   "outputs": [],
   "source": [
    "filepath = Path('C:/Users/awark')  \n",
    "filepath.parent.mkdir(parents=True, exist_ok=True)  \n",
    "\n",
    "PCs_train, PCs_test = pca(traindata_pixel,testdata_pixel,1)\n",
    "\n",
    "def knn_kdtree(PCs_train, PCs_test, k, label_train, label_test, testsize):\n",
    "    \"\"\"returns the accuray of the KNN for test images\n",
    "\n",
    "    Args:\n",
    "        PCs_train (numpy array): transformed training data\n",
    "        PCs_test (numpy array): transformed testing data\n",
    "        k (int): number of neighbours \n",
    "        label_train (numpy array 1D): labels of training data\n",
    "        label_test (numpy array 1D): labels of testing data\n",
    "        testsize (int): number of testing images you want to classify at a time\n",
    "        \n",
    "    Returns:\n",
    "        knn for number of testsize images\n",
    "    \"\"\"\n",
    "    result = np.array([])\n",
    "    kd_tree = spatial.KDTree(PCs_train,leafsize=10)\n",
    "    for i in range(0, len(label_test), testsize):\n",
    "        dist, neighbour_index = kd_tree.query(PCs_test[i:i+testsize, None],p=2,k=k, workers = -1)\n",
    "        neighbour_label = label_train[neighbour_index]\n",
    "        batch_result = [mode(neighbour_label,axis=2)[0]]\n",
    "        batch_result = np.array(batch_result)\n",
    "        batch_result = np.squeeze(batch_result)\n",
    "        batch_result = batch_result.astype(int)\n",
    "        result = result.astype(int)\n",
    "        result = np.concatenate((result, batch_result), axis=0)\n",
    "    return result"
   ]
  },
  {
   "cell_type": "code",
   "execution_count": null,
   "metadata": {},
   "outputs": [],
   "source": [
    "total_var_results=[]\n",
    "for k in range(2, 16): \n",
    "    new_column = knn_kdtree(PCs_train, PCs_test, k, label_train, label_test, 40).tolist()\n",
    "    total_var_results.append(new_column)\n",
    "total_var_results = pnd.DataFrame(total_var_results).transpose()  \n",
    "total_var_results.to_csv('out.csv', sep=',', index=False) "
   ]
  }
 ],
 "metadata": {
  "kernelspec": {
   "display_name": "compmeth2022",
   "language": "python",
   "name": "python3"
  },
  "language_info": {
   "codemirror_mode": {
    "name": "ipython",
    "version": 3
   },
   "file_extension": ".py",
   "mimetype": "text/x-python",
   "name": "python",
   "nbconvert_exporter": "python",
   "pygments_lexer": "ipython3",
   "version": "3.10.4"
  },
  "orig_nbformat": 4
 },
 "nbformat": 4,
 "nbformat_minor": 2
}
