{
 "cells": [
  {
   "cell_type": "code",
   "execution_count": 26,
   "metadata": {},
   "outputs": [
    {
     "name": "stdout",
     "output_type": "stream",
     "text": [
      "[0 1 2 ... 8 8 1]\n",
      "(784, 784)\n",
      "Our eigenvectors explain 90.06328752165619 percent of total variance\n",
      "137 eigenvectors are used\n"
     ]
    }
   ],
   "source": [
    "import numpy as np\n",
    "import pandas as pnd\n",
    "import matplotlib.pyplot as plt\n",
    "import tensorflow as tf\n",
    "from tensorflow import keras\n",
    "from tensorflow.keras.models import Sequential\n",
    "from tensorflow.keras.layers import Conv2D, MaxPooling2D, Dense, Flatten, Dropout, BatchNormalization\n",
    "from functions.KNN import *\n",
    "from collections import Counter\n",
    "from functions.PCA import *\n",
    "import sklearn\n",
    "from sklearn.metrics import confusion_matrix\n",
    "\n",
    "dataset = 1\n",
    "match dataset:\n",
    "    case 1:\n",
    "        test = 'fashion-mnist_test.csv'\n",
    "        train = 'fashion-mnist_train.csv'\n",
    "    case 2: \n",
    "        test = \"mnist_test.csv\"\n",
    "        train = \"mnist_train.csv\"\n",
    "testdata = pnd.read_csv(test)\n",
    "traindata = pnd.read_csv(train)\n",
    "testdata_pixel = testdata.drop(testdata.columns[0], axis=1).to_numpy()\n",
    "traindata_pixel = traindata.drop(traindata.columns[0], axis=1).to_numpy()\n",
    "label_train = traindata[traindata.columns[0]].to_numpy()\n",
    "label_test = testdata[testdata.columns[0]].to_numpy()\n",
    "\n",
    "\n",
    "cnn_test = testdata_pixel.reshape(-1,28,28) /255.0\n",
    "cnn_train = traindata_pixel.reshape(-1,28,28) /255.0\n",
    "cnn_test = np.expand_dims(cnn_test,axis=3)\n",
    "cnn_train = np.expand_dims(cnn_train,axis=3)\n",
    "cnn_label_test = tf.keras.utils.to_categorical(label_test)\n",
    "cnn_label_train = tf.keras.utils.to_categorical(label_train)\n",
    "\n",
    "img = traindata_pixel.reshape((-1,28,28)) #only relevant for visualisation\n",
    "num_img = traindata_pixel.shape[0]\n",
    "PCs_train, PCs_test = pca(traindata_pixel,testdata_pixel,0.9)"
   ]
  },
  {
   "cell_type": "code",
   "execution_count": 7,
   "metadata": {},
   "outputs": [
    {
     "name": "stdout",
     "output_type": "stream",
     "text": [
      "Epoch 1/20\n",
      "128/938 [===>..........................] - ETA: 1:13 - loss: 0.7434 - accuracy: 0.7297"
     ]
    },
    {
     "ename": "KeyboardInterrupt",
     "evalue": "",
     "output_type": "error",
     "traceback": [
      "\u001b[1;31m---------------------------------------------------------------------------\u001b[0m",
      "\u001b[1;31mKeyboardInterrupt\u001b[0m                         Traceback (most recent call last)",
      "\u001b[1;32mc:\\Users\\awark\\Bioinfo Projekt\\AnastasiasAufgeräumtesAtelier.ipynb Cell 2\u001b[0m in \u001b[0;36m<cell line: 41>\u001b[1;34m()\u001b[0m\n\u001b[0;32m     <a href='vscode-notebook-cell:/c%3A/Users/awark/Bioinfo%20Projekt/AnastasiasAufger%C3%A4umtesAtelier.ipynb#W1sZmlsZQ%3D%3D?line=25'>26</a>\u001b[0m bastis_model\u001b[39m.\u001b[39mcompile(\n\u001b[0;32m     <a href='vscode-notebook-cell:/c%3A/Users/awark/Bioinfo%20Projekt/AnastasiasAufger%C3%A4umtesAtelier.ipynb#W1sZmlsZQ%3D%3D?line=26'>27</a>\u001b[0m   \u001b[39m'\u001b[39m\u001b[39madam\u001b[39m\u001b[39m'\u001b[39m,\n\u001b[0;32m     <a href='vscode-notebook-cell:/c%3A/Users/awark/Bioinfo%20Projekt/AnastasiasAufger%C3%A4umtesAtelier.ipynb#W1sZmlsZQ%3D%3D?line=27'>28</a>\u001b[0m   loss\u001b[39m=\u001b[39m\u001b[39m'\u001b[39m\u001b[39mcategorical_crossentropy\u001b[39m\u001b[39m'\u001b[39m,\n\u001b[0;32m     <a href='vscode-notebook-cell:/c%3A/Users/awark/Bioinfo%20Projekt/AnastasiasAufger%C3%A4umtesAtelier.ipynb#W1sZmlsZQ%3D%3D?line=28'>29</a>\u001b[0m   metrics\u001b[39m=\u001b[39m[\u001b[39m'\u001b[39m\u001b[39maccuracy\u001b[39m\u001b[39m'\u001b[39m],\n\u001b[0;32m     <a href='vscode-notebook-cell:/c%3A/Users/awark/Bioinfo%20Projekt/AnastasiasAufger%C3%A4umtesAtelier.ipynb#W1sZmlsZQ%3D%3D?line=29'>30</a>\u001b[0m )\n\u001b[0;32m     <a href='vscode-notebook-cell:/c%3A/Users/awark/Bioinfo%20Projekt/AnastasiasAufger%C3%A4umtesAtelier.ipynb#W1sZmlsZQ%3D%3D?line=30'>31</a>\u001b[0m tf\u001b[39m.\u001b[39mkeras\u001b[39m.\u001b[39mcallbacks\u001b[39m.\u001b[39mEarlyStopping(\n\u001b[0;32m     <a href='vscode-notebook-cell:/c%3A/Users/awark/Bioinfo%20Projekt/AnastasiasAufger%C3%A4umtesAtelier.ipynb#W1sZmlsZQ%3D%3D?line=31'>32</a>\u001b[0m     monitor\u001b[39m=\u001b[39m\u001b[39m'\u001b[39m\u001b[39maccuracy\u001b[39m\u001b[39m'\u001b[39m,\n\u001b[0;32m     <a href='vscode-notebook-cell:/c%3A/Users/awark/Bioinfo%20Projekt/AnastasiasAufger%C3%A4umtesAtelier.ipynb#W1sZmlsZQ%3D%3D?line=32'>33</a>\u001b[0m     min_delta\u001b[39m=\u001b[39m\u001b[39m0.01\u001b[39m,\n\u001b[1;32m   (...)\u001b[0m\n\u001b[0;32m     <a href='vscode-notebook-cell:/c%3A/Users/awark/Bioinfo%20Projekt/AnastasiasAufger%C3%A4umtesAtelier.ipynb#W1sZmlsZQ%3D%3D?line=38'>39</a>\u001b[0m     start_from_epoch\u001b[39m=\u001b[39m\u001b[39m0\u001b[39m\n\u001b[0;32m     <a href='vscode-notebook-cell:/c%3A/Users/awark/Bioinfo%20Projekt/AnastasiasAufger%C3%A4umtesAtelier.ipynb#W1sZmlsZQ%3D%3D?line=39'>40</a>\u001b[0m )\n\u001b[1;32m---> <a href='vscode-notebook-cell:/c%3A/Users/awark/Bioinfo%20Projekt/AnastasiasAufger%C3%A4umtesAtelier.ipynb#W1sZmlsZQ%3D%3D?line=40'>41</a>\u001b[0m bastis_model\u001b[39m.\u001b[39;49mfit(\n\u001b[0;32m     <a href='vscode-notebook-cell:/c%3A/Users/awark/Bioinfo%20Projekt/AnastasiasAufger%C3%A4umtesAtelier.ipynb#W1sZmlsZQ%3D%3D?line=41'>42</a>\u001b[0m   cnn_train,\n\u001b[0;32m     <a href='vscode-notebook-cell:/c%3A/Users/awark/Bioinfo%20Projekt/AnastasiasAufger%C3%A4umtesAtelier.ipynb#W1sZmlsZQ%3D%3D?line=42'>43</a>\u001b[0m   cnn_label_train,\n\u001b[0;32m     <a href='vscode-notebook-cell:/c%3A/Users/awark/Bioinfo%20Projekt/AnastasiasAufger%C3%A4umtesAtelier.ipynb#W1sZmlsZQ%3D%3D?line=43'>44</a>\u001b[0m   validation_data\u001b[39m=\u001b[39;49m(cnn_test, cnn_label_test),\n\u001b[0;32m     <a href='vscode-notebook-cell:/c%3A/Users/awark/Bioinfo%20Projekt/AnastasiasAufger%C3%A4umtesAtelier.ipynb#W1sZmlsZQ%3D%3D?line=44'>45</a>\u001b[0m   epochs\u001b[39m=\u001b[39;49m\u001b[39m20\u001b[39;49m,\n\u001b[0;32m     <a href='vscode-notebook-cell:/c%3A/Users/awark/Bioinfo%20Projekt/AnastasiasAufger%C3%A4umtesAtelier.ipynb#W1sZmlsZQ%3D%3D?line=45'>46</a>\u001b[0m   batch_size\u001b[39m=\u001b[39;49m\u001b[39m64\u001b[39;49m\n\u001b[0;32m     <a href='vscode-notebook-cell:/c%3A/Users/awark/Bioinfo%20Projekt/AnastasiasAufger%C3%A4umtesAtelier.ipynb#W1sZmlsZQ%3D%3D?line=46'>47</a>\u001b[0m )\n",
      "File \u001b[1;32mc:\\Users\\awark\\mambaforge\\envs\\compmeth2022\\lib\\site-packages\\keras\\utils\\traceback_utils.py:65\u001b[0m, in \u001b[0;36mfilter_traceback.<locals>.error_handler\u001b[1;34m(*args, **kwargs)\u001b[0m\n\u001b[0;32m     63\u001b[0m filtered_tb \u001b[39m=\u001b[39m \u001b[39mNone\u001b[39;00m\n\u001b[0;32m     64\u001b[0m \u001b[39mtry\u001b[39;00m:\n\u001b[1;32m---> 65\u001b[0m     \u001b[39mreturn\u001b[39;00m fn(\u001b[39m*\u001b[39margs, \u001b[39m*\u001b[39m\u001b[39m*\u001b[39mkwargs)\n\u001b[0;32m     66\u001b[0m \u001b[39mexcept\u001b[39;00m \u001b[39mException\u001b[39;00m \u001b[39mas\u001b[39;00m e:\n\u001b[0;32m     67\u001b[0m     filtered_tb \u001b[39m=\u001b[39m _process_traceback_frames(e\u001b[39m.\u001b[39m__traceback__)\n",
      "File \u001b[1;32mc:\\Users\\awark\\mambaforge\\envs\\compmeth2022\\lib\\site-packages\\keras\\engine\\training.py:1685\u001b[0m, in \u001b[0;36mModel.fit\u001b[1;34m(self, x, y, batch_size, epochs, verbose, callbacks, validation_split, validation_data, shuffle, class_weight, sample_weight, initial_epoch, steps_per_epoch, validation_steps, validation_batch_size, validation_freq, max_queue_size, workers, use_multiprocessing)\u001b[0m\n\u001b[0;32m   1677\u001b[0m \u001b[39mwith\u001b[39;00m tf\u001b[39m.\u001b[39mprofiler\u001b[39m.\u001b[39mexperimental\u001b[39m.\u001b[39mTrace(\n\u001b[0;32m   1678\u001b[0m     \u001b[39m\"\u001b[39m\u001b[39mtrain\u001b[39m\u001b[39m\"\u001b[39m,\n\u001b[0;32m   1679\u001b[0m     epoch_num\u001b[39m=\u001b[39mepoch,\n\u001b[1;32m   (...)\u001b[0m\n\u001b[0;32m   1682\u001b[0m     _r\u001b[39m=\u001b[39m\u001b[39m1\u001b[39m,\n\u001b[0;32m   1683\u001b[0m ):\n\u001b[0;32m   1684\u001b[0m     callbacks\u001b[39m.\u001b[39mon_train_batch_begin(step)\n\u001b[1;32m-> 1685\u001b[0m     tmp_logs \u001b[39m=\u001b[39m \u001b[39mself\u001b[39;49m\u001b[39m.\u001b[39;49mtrain_function(iterator)\n\u001b[0;32m   1686\u001b[0m     \u001b[39mif\u001b[39;00m data_handler\u001b[39m.\u001b[39mshould_sync:\n\u001b[0;32m   1687\u001b[0m         context\u001b[39m.\u001b[39masync_wait()\n",
      "File \u001b[1;32mc:\\Users\\awark\\mambaforge\\envs\\compmeth2022\\lib\\site-packages\\tensorflow\\python\\util\\traceback_utils.py:150\u001b[0m, in \u001b[0;36mfilter_traceback.<locals>.error_handler\u001b[1;34m(*args, **kwargs)\u001b[0m\n\u001b[0;32m    148\u001b[0m filtered_tb \u001b[39m=\u001b[39m \u001b[39mNone\u001b[39;00m\n\u001b[0;32m    149\u001b[0m \u001b[39mtry\u001b[39;00m:\n\u001b[1;32m--> 150\u001b[0m   \u001b[39mreturn\u001b[39;00m fn(\u001b[39m*\u001b[39margs, \u001b[39m*\u001b[39m\u001b[39m*\u001b[39mkwargs)\n\u001b[0;32m    151\u001b[0m \u001b[39mexcept\u001b[39;00m \u001b[39mException\u001b[39;00m \u001b[39mas\u001b[39;00m e:\n\u001b[0;32m    152\u001b[0m   filtered_tb \u001b[39m=\u001b[39m _process_traceback_frames(e\u001b[39m.\u001b[39m__traceback__)\n",
      "File \u001b[1;32mc:\\Users\\awark\\mambaforge\\envs\\compmeth2022\\lib\\site-packages\\tensorflow\\python\\eager\\polymorphic_function\\polymorphic_function.py:894\u001b[0m, in \u001b[0;36mFunction.__call__\u001b[1;34m(self, *args, **kwds)\u001b[0m\n\u001b[0;32m    891\u001b[0m compiler \u001b[39m=\u001b[39m \u001b[39m\"\u001b[39m\u001b[39mxla\u001b[39m\u001b[39m\"\u001b[39m \u001b[39mif\u001b[39;00m \u001b[39mself\u001b[39m\u001b[39m.\u001b[39m_jit_compile \u001b[39melse\u001b[39;00m \u001b[39m\"\u001b[39m\u001b[39mnonXla\u001b[39m\u001b[39m\"\u001b[39m\n\u001b[0;32m    893\u001b[0m \u001b[39mwith\u001b[39;00m OptionalXlaContext(\u001b[39mself\u001b[39m\u001b[39m.\u001b[39m_jit_compile):\n\u001b[1;32m--> 894\u001b[0m   result \u001b[39m=\u001b[39m \u001b[39mself\u001b[39m\u001b[39m.\u001b[39m_call(\u001b[39m*\u001b[39margs, \u001b[39m*\u001b[39m\u001b[39m*\u001b[39mkwds)\n\u001b[0;32m    896\u001b[0m new_tracing_count \u001b[39m=\u001b[39m \u001b[39mself\u001b[39m\u001b[39m.\u001b[39mexperimental_get_tracing_count()\n\u001b[0;32m    897\u001b[0m without_tracing \u001b[39m=\u001b[39m (tracing_count \u001b[39m==\u001b[39m new_tracing_count)\n",
      "File \u001b[1;32mc:\\Users\\awark\\mambaforge\\envs\\compmeth2022\\lib\\site-packages\\tensorflow\\python\\eager\\polymorphic_function\\polymorphic_function.py:926\u001b[0m, in \u001b[0;36mFunction._call\u001b[1;34m(self, *args, **kwds)\u001b[0m\n\u001b[0;32m    923\u001b[0m   \u001b[39mself\u001b[39m\u001b[39m.\u001b[39m_lock\u001b[39m.\u001b[39mrelease()\n\u001b[0;32m    924\u001b[0m   \u001b[39m# In this case we have created variables on the first call, so we run the\u001b[39;00m\n\u001b[0;32m    925\u001b[0m   \u001b[39m# defunned version which is guaranteed to never create variables.\u001b[39;00m\n\u001b[1;32m--> 926\u001b[0m   \u001b[39mreturn\u001b[39;00m \u001b[39mself\u001b[39m\u001b[39m.\u001b[39m_no_variable_creation_fn(\u001b[39m*\u001b[39margs, \u001b[39m*\u001b[39m\u001b[39m*\u001b[39mkwds)  \u001b[39m# pylint: disable=not-callable\u001b[39;00m\n\u001b[0;32m    927\u001b[0m \u001b[39melif\u001b[39;00m \u001b[39mself\u001b[39m\u001b[39m.\u001b[39m_variable_creation_fn \u001b[39mis\u001b[39;00m \u001b[39mnot\u001b[39;00m \u001b[39mNone\u001b[39;00m:\n\u001b[0;32m    928\u001b[0m   \u001b[39m# Release the lock early so that multiple threads can perform the call\u001b[39;00m\n\u001b[0;32m    929\u001b[0m   \u001b[39m# in parallel.\u001b[39;00m\n\u001b[0;32m    930\u001b[0m   \u001b[39mself\u001b[39m\u001b[39m.\u001b[39m_lock\u001b[39m.\u001b[39mrelease()\n",
      "File \u001b[1;32mc:\\Users\\awark\\mambaforge\\envs\\compmeth2022\\lib\\site-packages\\tensorflow\\python\\eager\\polymorphic_function\\tracing_compiler.py:143\u001b[0m, in \u001b[0;36mTracingCompiler.__call__\u001b[1;34m(self, *args, **kwargs)\u001b[0m\n\u001b[0;32m    140\u001b[0m \u001b[39mwith\u001b[39;00m \u001b[39mself\u001b[39m\u001b[39m.\u001b[39m_lock:\n\u001b[0;32m    141\u001b[0m   (concrete_function,\n\u001b[0;32m    142\u001b[0m    filtered_flat_args) \u001b[39m=\u001b[39m \u001b[39mself\u001b[39m\u001b[39m.\u001b[39m_maybe_define_function(args, kwargs)\n\u001b[1;32m--> 143\u001b[0m \u001b[39mreturn\u001b[39;00m concrete_function\u001b[39m.\u001b[39;49m_call_flat(\n\u001b[0;32m    144\u001b[0m     filtered_flat_args, captured_inputs\u001b[39m=\u001b[39;49mconcrete_function\u001b[39m.\u001b[39;49mcaptured_inputs)\n",
      "File \u001b[1;32mc:\\Users\\awark\\mambaforge\\envs\\compmeth2022\\lib\\site-packages\\tensorflow\\python\\eager\\polymorphic_function\\monomorphic_function.py:1757\u001b[0m, in \u001b[0;36mConcreteFunction._call_flat\u001b[1;34m(self, args, captured_inputs, cancellation_manager)\u001b[0m\n\u001b[0;32m   1753\u001b[0m possible_gradient_type \u001b[39m=\u001b[39m gradients_util\u001b[39m.\u001b[39mPossibleTapeGradientTypes(args)\n\u001b[0;32m   1754\u001b[0m \u001b[39mif\u001b[39;00m (possible_gradient_type \u001b[39m==\u001b[39m gradients_util\u001b[39m.\u001b[39mPOSSIBLE_GRADIENT_TYPES_NONE\n\u001b[0;32m   1755\u001b[0m     \u001b[39mand\u001b[39;00m executing_eagerly):\n\u001b[0;32m   1756\u001b[0m   \u001b[39m# No tape is watching; skip to running the function.\u001b[39;00m\n\u001b[1;32m-> 1757\u001b[0m   \u001b[39mreturn\u001b[39;00m \u001b[39mself\u001b[39m\u001b[39m.\u001b[39m_build_call_outputs(\u001b[39mself\u001b[39;49m\u001b[39m.\u001b[39;49m_inference_function\u001b[39m.\u001b[39;49mcall(\n\u001b[0;32m   1758\u001b[0m       ctx, args, cancellation_manager\u001b[39m=\u001b[39;49mcancellation_manager))\n\u001b[0;32m   1759\u001b[0m forward_backward \u001b[39m=\u001b[39m \u001b[39mself\u001b[39m\u001b[39m.\u001b[39m_select_forward_and_backward_functions(\n\u001b[0;32m   1760\u001b[0m     args,\n\u001b[0;32m   1761\u001b[0m     possible_gradient_type,\n\u001b[0;32m   1762\u001b[0m     executing_eagerly)\n\u001b[0;32m   1763\u001b[0m forward_function, args_with_tangents \u001b[39m=\u001b[39m forward_backward\u001b[39m.\u001b[39mforward()\n",
      "File \u001b[1;32mc:\\Users\\awark\\mambaforge\\envs\\compmeth2022\\lib\\site-packages\\tensorflow\\python\\eager\\polymorphic_function\\monomorphic_function.py:381\u001b[0m, in \u001b[0;36m_EagerDefinedFunction.call\u001b[1;34m(self, ctx, args, cancellation_manager)\u001b[0m\n\u001b[0;32m    379\u001b[0m \u001b[39mwith\u001b[39;00m _InterpolateFunctionError(\u001b[39mself\u001b[39m):\n\u001b[0;32m    380\u001b[0m   \u001b[39mif\u001b[39;00m cancellation_manager \u001b[39mis\u001b[39;00m \u001b[39mNone\u001b[39;00m:\n\u001b[1;32m--> 381\u001b[0m     outputs \u001b[39m=\u001b[39m execute\u001b[39m.\u001b[39;49mexecute(\n\u001b[0;32m    382\u001b[0m         \u001b[39mstr\u001b[39;49m(\u001b[39mself\u001b[39;49m\u001b[39m.\u001b[39;49msignature\u001b[39m.\u001b[39;49mname),\n\u001b[0;32m    383\u001b[0m         num_outputs\u001b[39m=\u001b[39;49m\u001b[39mself\u001b[39;49m\u001b[39m.\u001b[39;49m_num_outputs,\n\u001b[0;32m    384\u001b[0m         inputs\u001b[39m=\u001b[39;49margs,\n\u001b[0;32m    385\u001b[0m         attrs\u001b[39m=\u001b[39;49mattrs,\n\u001b[0;32m    386\u001b[0m         ctx\u001b[39m=\u001b[39;49mctx)\n\u001b[0;32m    387\u001b[0m   \u001b[39melse\u001b[39;00m:\n\u001b[0;32m    388\u001b[0m     outputs \u001b[39m=\u001b[39m execute\u001b[39m.\u001b[39mexecute_with_cancellation(\n\u001b[0;32m    389\u001b[0m         \u001b[39mstr\u001b[39m(\u001b[39mself\u001b[39m\u001b[39m.\u001b[39msignature\u001b[39m.\u001b[39mname),\n\u001b[0;32m    390\u001b[0m         num_outputs\u001b[39m=\u001b[39m\u001b[39mself\u001b[39m\u001b[39m.\u001b[39m_num_outputs,\n\u001b[1;32m   (...)\u001b[0m\n\u001b[0;32m    393\u001b[0m         ctx\u001b[39m=\u001b[39mctx,\n\u001b[0;32m    394\u001b[0m         cancellation_manager\u001b[39m=\u001b[39mcancellation_manager)\n",
      "File \u001b[1;32mc:\\Users\\awark\\mambaforge\\envs\\compmeth2022\\lib\\site-packages\\tensorflow\\python\\eager\\execute.py:52\u001b[0m, in \u001b[0;36mquick_execute\u001b[1;34m(op_name, num_outputs, inputs, attrs, ctx, name)\u001b[0m\n\u001b[0;32m     50\u001b[0m \u001b[39mtry\u001b[39;00m:\n\u001b[0;32m     51\u001b[0m   ctx\u001b[39m.\u001b[39mensure_initialized()\n\u001b[1;32m---> 52\u001b[0m   tensors \u001b[39m=\u001b[39m pywrap_tfe\u001b[39m.\u001b[39;49mTFE_Py_Execute(ctx\u001b[39m.\u001b[39;49m_handle, device_name, op_name,\n\u001b[0;32m     53\u001b[0m                                       inputs, attrs, num_outputs)\n\u001b[0;32m     54\u001b[0m \u001b[39mexcept\u001b[39;00m core\u001b[39m.\u001b[39m_NotOkStatusException \u001b[39mas\u001b[39;00m e:\n\u001b[0;32m     55\u001b[0m   \u001b[39mif\u001b[39;00m name \u001b[39mis\u001b[39;00m \u001b[39mnot\u001b[39;00m \u001b[39mNone\u001b[39;00m:\n",
      "\u001b[1;31mKeyboardInterrupt\u001b[0m: "
     ]
    }
   ],
   "source": [
    "\n",
    "bastis_model = Sequential([\n",
    "  Conv2D(16, 5, input_shape=(28, 28, 1), activation=\"relu\",padding=\"same\"),\n",
    "  Conv2D(16, 5, activation=\"relu\",padding=\"same\"),\n",
    "  MaxPooling2D(pool_size=2,strides=2),\n",
    "  BatchNormalization(),\n",
    "  Conv2D(32, 3, activation=\"relu\",padding=\"same\"),\n",
    "  Conv2D(32, 3, activation=\"relu\",padding=\"same\"),\n",
    "  MaxPooling2D(pool_size=2,strides=2),\n",
    "  BatchNormalization(),\n",
    "  Conv2D(64, 3, activation=\"relu\",padding=\"same\"),\n",
    "  Conv2D(64, 3, activation=\"relu\",padding=\"same\"),\n",
    "  MaxPooling2D(pool_size=2,strides=2),\n",
    "  BatchNormalization(),\n",
    "  Conv2D(64, 3, activation=\"relu\",padding=\"same\"),\n",
    "  Conv2D(64, 3, activation=\"relu\",padding=\"same\"),\n",
    "  Conv2D(64, 3, activation=\"relu\",padding=\"same\"),\n",
    "  MaxPooling2D(pool_size=2,strides=1),\n",
    "  BatchNormalization(),\n",
    "  Flatten(),\n",
    "  Dense(256,activation=\"relu\"),\n",
    "  Dropout(0.1),\n",
    "  Dense(512,activation=\"relu\"),\n",
    "  Dropout(0.1),\n",
    "  Dense(10, activation='softmax'),\n",
    "])\n",
    "bastis_model.compile(\n",
    "  'adam',\n",
    "  loss='categorical_crossentropy',\n",
    "  metrics=['accuracy'],\n",
    ")\n",
    "tf.keras.callbacks.EarlyStopping(\n",
    "    monitor='accuracy',\n",
    "    min_delta=0.01,\n",
    "    patience=2,\n",
    "    verbose=1,\n",
    "    mode='auto',\n",
    "    baseline=0.9,\n",
    "    restore_best_weights=False,\n",
    "    start_from_epoch=0\n",
    ")\n",
    "bastis_model.fit(\n",
    "  cnn_train,\n",
    "  cnn_label_train,\n",
    "  validation_data=(cnn_test, cnn_label_test),\n",
    "  epochs=20,\n",
    "  batch_size=64\n",
    ")\n"
   ]
  },
  {
   "attachments": {},
   "cell_type": "markdown",
   "metadata": {},
   "source": [
    "Kalkuliert Dist und Zwischenspeichern der Ergebnisse"
   ]
  },
  {
   "cell_type": "code",
   "execution_count": 6,
   "metadata": {},
   "outputs": [
    {
     "name": "stdout",
     "output_type": "stream",
     "text": [
      "[0 1 2 2 3 6 8 4 5 0 3 2 4 6 8 5 6 3 6 4 4 4 2 1 5 7 8 4 4 1 9 7 7 8 1 0 9\n",
      " 8 6 8 2 0 4 6 2 0 3 3 2 3 2 4 9 3 0 9 9 4 0 3 4 5 6 6 1 1 0 9 5 2 7 3 4 6\n",
      " 5 7 1 6 1 3 9 8 1 2 4 8 9 4 1 6 3 3 6 2 5 0 4 7 7 3 9 3 9 8 8 2 3 8 2 7 5\n",
      " 5 4 2 7 5 0 2 7 3 0 5 4 4 7 0 5 5 0 3 1 5 9 4 9 6 4 4 6 4 3 3 3 2 2 6 0 0\n",
      " 1 3 4 3 3 1 9 3 3 0 9 5 6 7 7 3 2 4 0 6 7 2 4 8 9 0 6 4 4 5 7 9 9 1 3 9 1\n",
      " 7 5 6 0 7 4 7 1 6 6 0 2 4 0 9]\n"
     ]
    }
   ],
   "source": [
    "def knn_quality(PCs_train, PCs_test, k, label_train, label_test, testsize, random = False):\n",
    "    \"\"\"returns the accuray of the KNN for test images\n",
    "\n",
    "    Args:\n",
    "        PCs_train (numpy array): transformed training data\n",
    "        PCs_test (numpy array): transformed testing data\n",
    "        k (int): number of neighbours \n",
    "        label_train (numpy array 1D): labels of training data\n",
    "        label_test (numpy array 1D): labels of testing data\n",
    "        testsize (int): number of testing images you want to classify\n",
    "        random (boolean): when True, looks at random test images, when False, looks at first testsize images\n",
    "\n",
    "    Returns:\n",
    "        float: accuracy\n",
    "    \"\"\"\n",
    "    if random == True:\n",
    "        indices_test = np.random.choice(PCs_test.shape[0],testsize)\n",
    "    else:\n",
    "        indices_test = [*range(testsize)]\n",
    "    distances = np.linalg.norm(PCs_test[indices_test, None] - PCs_train, axis=2)\n",
    "    neighbour_index = np.argpartition(distances, kth=k-1, axis=1)[:,:k]\n",
    "    neighbour_label = label_train[neighbour_index]\n",
    "    result = []\n",
    "    for subarray in neighbour_label:\n",
    "        data = Counter(subarray)\n",
    "        most_common_item = data.most_common(1)[0][0]\n",
    "        result.append(most_common_item)\n",
    "    result = np.array(result)\n",
    "    return result\n",
    "\n",
    "\n",
    "\n",
    "print(knn_quality(PCs_train, PCs_test, 10, label_train, label_test, 200))\n",
    "\n",
    "\n"
   ]
  },
  {
   "cell_type": "code",
   "execution_count": 5,
   "metadata": {},
   "outputs": [
    {
     "ename": "NameError",
     "evalue": "name 'indices_test' is not defined",
     "output_type": "error",
     "traceback": [
      "\u001b[1;31m---------------------------------------------------------------------------\u001b[0m",
      "\u001b[1;31mNameError\u001b[0m                                 Traceback (most recent call last)",
      "\u001b[1;32mc:\\Users\\awark\\Bioinfo Projekt\\AnastasiasAufgeräumtesAtelier.ipynb Cell 5\u001b[0m in \u001b[0;36m<cell line: 34>\u001b[1;34m()\u001b[0m\n\u001b[0;32m     <a href='vscode-notebook-cell:/c%3A/Users/awark/Bioinfo%20Projekt/AnastasiasAufger%C3%A4umtesAtelier.ipynb#W4sZmlsZQ%3D%3D?line=30'>31</a>\u001b[0m         \u001b[39mprint\u001b[39m(accuracy)\n\u001b[0;32m     <a href='vscode-notebook-cell:/c%3A/Users/awark/Bioinfo%20Projekt/AnastasiasAufger%C3%A4umtesAtelier.ipynb#W4sZmlsZQ%3D%3D?line=31'>32</a>\u001b[0m     \u001b[39mreturn\u001b[39;00m result\n\u001b[1;32m---> <a href='vscode-notebook-cell:/c%3A/Users/awark/Bioinfo%20Projekt/AnastasiasAufger%C3%A4umtesAtelier.ipynb#W4sZmlsZQ%3D%3D?line=33'>34</a>\u001b[0m asdf \u001b[39m=\u001b[39m knn_quality2(PCs_train, PCs_test, \u001b[39m3\u001b[39;49m, label_train, label_test, \u001b[39m40\u001b[39;49m)\n",
      "\u001b[1;32mc:\\Users\\awark\\Bioinfo Projekt\\AnastasiasAufgeräumtesAtelier.ipynb Cell 5\u001b[0m in \u001b[0;36mknn_quality2\u001b[1;34m(PCs_train, PCs_test, k, label_train, label_test, testsize)\u001b[0m\n\u001b[0;32m     <a href='vscode-notebook-cell:/c%3A/Users/awark/Bioinfo%20Projekt/AnastasiasAufger%C3%A4umtesAtelier.ipynb#W4sZmlsZQ%3D%3D?line=27'>28</a>\u001b[0m     result \u001b[39m=\u001b[39m result\u001b[39m.\u001b[39mastype(\u001b[39mint\u001b[39m)\n\u001b[0;32m     <a href='vscode-notebook-cell:/c%3A/Users/awark/Bioinfo%20Projekt/AnastasiasAufger%C3%A4umtesAtelier.ipynb#W4sZmlsZQ%3D%3D?line=28'>29</a>\u001b[0m     result \u001b[39m=\u001b[39m np\u001b[39m.\u001b[39mconcatenate((result, batch_result), axis\u001b[39m=\u001b[39m\u001b[39m0\u001b[39m)\n\u001b[1;32m---> <a href='vscode-notebook-cell:/c%3A/Users/awark/Bioinfo%20Projekt/AnastasiasAufger%C3%A4umtesAtelier.ipynb#W4sZmlsZQ%3D%3D?line=29'>30</a>\u001b[0m     accuracy \u001b[39m=\u001b[39m np\u001b[39m.\u001b[39msum(asdf\u001b[39m==\u001b[39mlabel_test[indices_test])\u001b[39m/\u001b[39m\u001b[39m10000\u001b[39m\n\u001b[0;32m     <a href='vscode-notebook-cell:/c%3A/Users/awark/Bioinfo%20Projekt/AnastasiasAufger%C3%A4umtesAtelier.ipynb#W4sZmlsZQ%3D%3D?line=30'>31</a>\u001b[0m     \u001b[39mprint\u001b[39m(accuracy)\n\u001b[0;32m     <a href='vscode-notebook-cell:/c%3A/Users/awark/Bioinfo%20Projekt/AnastasiasAufger%C3%A4umtesAtelier.ipynb#W4sZmlsZQ%3D%3D?line=31'>32</a>\u001b[0m \u001b[39mreturn\u001b[39;00m result\n",
      "\u001b[1;31mNameError\u001b[0m: name 'indices_test' is not defined"
     ]
    }
   ],
   "source": [
    "def knn_quality2(PCs_train, PCs_test, k, label_train, label_test, testsize):\n",
    "    \"\"\"returns the accuray of the KNN for test images\n",
    "\n",
    "    Args:\n",
    "        PCs_train (numpy array): transformed training data\n",
    "        PCs_test (numpy array): transformed testing data\n",
    "        k (int): number of neighbours \n",
    "        label_train (numpy array 1D): labels of training data\n",
    "        label_test (numpy array 1D): labels of testing data\n",
    "        testsize (int): number of testing images you want to classify\n",
    "        \n",
    "    Returns:\n",
    "        knn for number of testsize images\n",
    "    \"\"\"\n",
    "\n",
    "    result = np.array([])\n",
    "    for i in range(0, len(label_test), testsize):\n",
    "        distances = np.linalg.norm(PCs_test[i:i+testsize, None] - PCs_train, axis=2)\n",
    "        neighbour_index = np.argpartition(distances, kth=k-1, axis=1)[:,:k]\n",
    "        neighbour_label = label_train[neighbour_index]\n",
    "        batch_result = []\n",
    "        for subarray in neighbour_label:\n",
    "            data = Counter(subarray)\n",
    "            most_common_item = data.most_common(1)[0][0]\n",
    "            batch_result.append(most_common_item)\n",
    "        batch_result = np.array(batch_result)\n",
    "        batch_result = batch_result.astype(int)\n",
    "        result = result.astype(int)\n",
    "        result = np.concatenate((result, batch_result), axis=0)\n",
    "        print(accuracy)\n",
    "    return result\n",
    "\n",
    "asdf = knn_quality2(PCs_train, PCs_test, 3, label_train, label_test, 40)"
   ]
  },
  {
   "cell_type": "code",
   "execution_count": 42,
   "metadata": {},
   "outputs": [
    {
     "name": "stdout",
     "output_type": "stream",
     "text": [
      "(10000,)\n",
      "(10000,)\n",
      "[0 1 2 ... 8 8 1]\n",
      "0.8624\n",
      "               T-shirt / Top  Trouser  Pullover  Dress   Coat  Sandal  Shirt   \n",
      "T-shirt / Top          79.17     0.20      1.58   2.94   0.19    0.11  16.77  \\\n",
      "Trouser                 0.00    99.18      0.21   0.51   0.00    0.00   0.10   \n",
      "Pullover                1.70     0.10     79.56   1.11   7.38    0.00   8.23   \n",
      "Dress                   1.61     1.73      1.16  90.07   2.30    0.00   2.51   \n",
      "Coat                    0.38     0.10     12.86   3.75  76.25    0.00   7.93   \n",
      "Sandal                  0.00     0.00      0.00   0.00   0.00   97.90   0.00   \n",
      "Shirt                  10.98     0.51      9.80   2.84   9.48    0.00  64.26   \n",
      "Sneaker                 0.09     0.00      0.00   0.00   0.00    7.40   0.00   \n",
      "Bag                     0.66     0.00      0.21   0.10   0.19    0.11   0.60   \n",
      "Ankle Boot              0.09     0.10      0.00   0.00   0.00    4.97   0.00   \n",
      "\n",
      "               Sneaker    Bag  Ankle Boot  \n",
      "T-shirt / Top     0.00   0.31        0.09  \n",
      "Trouser           0.00   0.00        0.00  \n",
      "Pullover          0.00   0.51        0.00  \n",
      "Dress             0.00   0.41        0.00  \n",
      "Coat              0.00   0.51        0.00  \n",
      "Sandal            1.25   0.20        0.38  \n",
      "Shirt             0.00   1.53        0.00  \n",
      "Sneaker          89.36   0.51        3.58  \n",
      "Bag               0.00  98.06        0.00  \n",
      "Ankle Boot        5.27   0.10       90.28  \n"
     ]
    }
   ],
   "source": [
    "print(asdf.shape)\n",
    "print(label_test.shape)\n",
    "print(asdf)\n",
    "class_names = np.array([\"T-shirt / Top\", \"Trouser\", \"Pullover\", \"Dress\", \"Coat\", \"Sandal\", \"Shirt\", \"Sneaker\", \"Bag\", \"Ankle Boot\"])\n",
    "\n",
    "indices_test = [*range(10000)]\n",
    "accuracy = np.sum(asdf==label_test[indices_test])/10000\n",
    "print(accuracy)\n",
    "    \"\"\"\n",
    "    Note: Row: true label\n",
    "    Column: Predicted label\n",
    "    \"\"\"\n",
    "y_pred = asdf\n",
    "y_true = label_test\n",
    "class_names = np.array([\"T-shirt / Top\", \"Trouser\", \"Pullover\", \"Dress\", \"Coat\", \"Sandal\", \"Shirt\", \"Sneaker\", \"Bag\", \"Ankle Boot\"])\n",
    "conf = sklearn.metrics.confusion_matrix(y_pred, label_test)\n",
    "conf_df = pnd.DataFrame(conf, index=class_names, columns=class_names)\n",
    "conf_df = round(conf_df*100 / conf_df.sum(axis=1),2)\n",
    "print(conf_df)"
   ]
  }
 ],
 "metadata": {
  "kernelspec": {
   "display_name": "Python 3",
   "language": "python",
   "name": "python3"
  },
  "language_info": {
   "codemirror_mode": {
    "name": "ipython",
    "version": 3
   },
   "file_extension": ".py",
   "mimetype": "text/x-python",
   "name": "python",
   "nbconvert_exporter": "python",
   "pygments_lexer": "ipython3",
   "version": "3.10.4"
  },
  "orig_nbformat": 4
 },
 "nbformat": 4,
 "nbformat_minor": 2
}
