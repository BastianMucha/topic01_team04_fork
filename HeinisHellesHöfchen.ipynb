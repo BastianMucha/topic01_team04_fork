{
 "cells": [
  {
   "cell_type": "code",
   "execution_count": null,
   "metadata": {},
   "outputs": [],
   "source": [
    "# Pakete etc. \n",
    "# Pandas, Numpy und Matplotlib davor über Miniforge Prompt herunterladen sonst geht hier gar nix\n",
    "# Panda is pandas dataframe\n",
    "# numpy is number array (general python tool)\n",
    "\n",
    "import csv\n",
    "import glob\n",
    "import matplotlib.pyplot as plt\n",
    "import numpy as np\n",
    "import os\n",
    "import pandas as pnd\n",
    "import seaborn as sns\n",
    "import sklearn\n",
    "import timeit\n",
    "\n",
    "\n",
    "#from collections import Counter\n",
    "#from functions.KNN import*\n",
    "#from functions.PCA import pca\n",
    "from pathlib import Path\n",
    "from collections import Counter\n",
    "from scipy import spatial\n",
    "from scipy.spatial import KDTree\n",
    "from scipy.stats import mode\n",
    "from sklearn.metrics import confusion_matrix"
   ]
  },
  {
   "cell_type": "code",
   "execution_count": null,
   "metadata": {},
   "outputs": [],
   "source": [
    "import os\n",
    "print(os.getcwd())\n",
    "os.chdir('C:\\Users\\heinr\\Documents\\GitHub\\topic01_team04')"
   ]
  },
  {
   "cell_type": "code",
   "execution_count": null,
   "metadata": {},
   "outputs": [],
   "source": [
    "print('\\n')\n",
    "# Import der Dateien \n",
    "# ANMERKUNG: Funktioniert auch nur, wenn die Dateien in der SELBEN Directory wie das Skript sind -> Im Git-Ordner\n",
    "# Problem mit Git da CSV-Dateien zu groß sind um sie zu committen, sonst kann man gar nix mehr pushen \n",
    "# Dateien in GitHub Desktop ab in .gitignore, dann verpisst sich das Problem\n",
    "\n",
    "testdata = pnd.read_csv('fashion-mnist_test.csv')\n",
    "traindata = pnd.read_csv('fashion-mnist_train.csv')\n",
    "# 1. Spalte wird gedropped/ gelöscht, weil dort die Kategorie des Kleidungsstücks steht & kein Intensitätswert eines Pixels, danach sind es 28 x 28 = 784 columns\n",
    "testdata_pixel = testdata.drop(testdata.columns[0], axis=1).to_numpy()\n",
    "traindata_pixel = traindata.drop(traindata.columns[0], axis=1).to_numpy()\n",
    "# numpy array mit Kategorien der Kleidungsstücke wird erstellt\n",
    "label_train = traindata[traindata.columns[0]].to_numpy()\n",
    "label_test = testdata[testdata.columns[0]].to_numpy()\n",
    "#class_names = np.array(\"T-shirt / Top\", \"Trouser\", \"Pullover\", \"Dress\", \"Coat\", \"Sandal\", \"Shirt\", \"Sneaker\", \"Bag\", \"Ankle Boot\")\n",
    "\n"
   ]
  },
  {
   "cell_type": "code",
   "execution_count": null,
   "metadata": {},
   "outputs": [],
   "source": [
    "img = traindata_pixel.reshape((-1,28,28)) #only relevant for visualisation\n",
    "variable_type = type(img)\n",
    "\n",
    "if variable_type is np.ndarray:\n",
    "    print(\"Variable is an array\")\n",
    "elif variable_type is list:\n",
    "    print(\"Variable is a list\")\n",
    "elif variable_type is np.matrix:\n",
    "    print(\"Variable is a matrix\")\n",
    "else:\n",
    "    print(\"Variable has a different type\")\n"
   ]
  },
  {
   "cell_type": "code",
   "execution_count": null,
   "metadata": {},
   "outputs": [],
   "source": [
    "num_img = traindata_pixel.shape[0]\n",
    "\n",
    "# Display first 10 images\n",
    "plt.imshow(img[;9], cmap='gray')\n",
    "plt.axis('off')  # Remove axis labels\n",
    "plt.show()"
   ]
  },
  {
   "cell_type": "code",
   "execution_count": null,
   "metadata": {},
   "outputs": [],
   "source": [
    "\n",
    "import jupyter_client\n",
    "\n",
    "\n",
    "jupyter nbconvert --to pdf Report.ipynb\n",
    "\n"
   ]
  },
  {
   "cell_type": "code",
   "execution_count": null,
   "metadata": {},
   "outputs": [],
   "source": [
    "jupyter nbconvert --to pdf <path/to/your/notebook.ipynb>\n"
   ]
  }
 ],
 "metadata": {
  "kernelspec": {
   "display_name": "Python 3",
   "language": "python",
   "name": "python3"
  },
  "language_info": {
   "codemirror_mode": {
    "name": "ipython",
    "version": 3
   },
   "file_extension": ".py",
   "mimetype": "text/x-python",
   "name": "python",
   "nbconvert_exporter": "python",
   "pygments_lexer": "ipython3",
   "version": "3.11.4"
  },
  "orig_nbformat": 4
 },
 "nbformat": 4,
 "nbformat_minor": 2
}
