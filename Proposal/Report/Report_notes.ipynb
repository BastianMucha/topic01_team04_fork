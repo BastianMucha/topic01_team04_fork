{
 "cells": [
  {
   "cell_type": "code",
   "execution_count": null,
   "metadata": {},
   "outputs": [],
   "source": []
  },
  {
   "attachments": {},
   "cell_type": "markdown",
   "metadata": {},
   "source": [
    "## Content\n",
    "# Introduction\n",
    "- what do we do?\n",
    "- state of the art tech\n",
    "# Dataset\n",
    "# Methods \n",
    "- Z-transformation\n",
    "- PCA\n",
    "- KNN\n",
    "- finding optimal K\n",
    "- CNN\n",
    "# Evaluationmethods\n",
    "- accuracy\n",
    "- recall f1score etc. \n",
    "- confusion matrix\n",
    "# Results\n",
    "- Z-transformation\n",
    "--> img vor & nach Z-transformation\n",
    "- PCA\n",
    "--> scatterplot 2 PCs\n",
    "- KNN -> evaluation methods\n",
    "--> heatmap accuracy diff k\n",
    "--> number of PCs vs amount of variance explained\n",
    "--> confusion matrix\n",
    "--> barplot: Shirt & T-shirt; bzw alles wo confusion <5%\n",
    "- CNN -> evaluation methods\n",
    "--> confusion matrix\n",
    "--> barplot: Shirt & T-shirt; Pullover & Coat (bzw was lief hier besser als bei KNN)\n",
    "# Discussion\n",
    "- what did we expect? \n",
    "- Why are certain PCs better than others\n",
    "- what was good?\n",
    "- problems & how we overcame them\n",
    "--> Shirts & T-Shirts are hardly differentiable \n",
    "--> \n",
    "- comparison KNN & CNN \n",
    "# Literaturverzeichnis\n",
    "- Datensatz zitieren?\n"
   ]
  },
  {
   "attachments": {},
   "cell_type": "markdown",
   "metadata": {},
   "source": []
  }
 ],
 "metadata": {
  "language_info": {
   "name": "python"
  },
  "orig_nbformat": 4
 },
 "nbformat": 4,
 "nbformat_minor": 2
}
