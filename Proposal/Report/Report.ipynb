{
 "cells": [
  {
   "cell_type": "code",
   "execution_count": null,
   "metadata": {},
   "outputs": [],
   "source": []
  },
  {
   "attachments": {},
   "cell_type": "markdown",
   "metadata": {},
   "source": [
    "# Implementation of K-nearest neighbors (KNN) and convolutional neural network (CNN) for clothes recognition\n",
    "### Data Analysis MoBi SoSe2023, Topic 01: Image Analysis\n",
    "### Tutor: Hannah Winter\n",
    "### Team 04: Ole Decker, Heinrike Gilles, Bastian Mucha, Anastasia Warken\n",
    "#### July 2023\n"
   ]
  },
  {
   "attachments": {},
   "cell_type": "markdown",
   "metadata": {},
   "source": [
    "# Abstract\n",
    "<span style=\"color:red\">\n",
    "- \n",
    "- Whats the goal of our project\n",
    "</span>\n"
   ]
  }
 ],
 "metadata": {
  "language_info": {
   "name": "python"
  },
  "orig_nbformat": 4
 },
 "nbformat": 4,
 "nbformat_minor": 2
}
