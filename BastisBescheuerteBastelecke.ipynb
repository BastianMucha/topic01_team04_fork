{
 "cells": [
  {
   "cell_type": "code",
   "execution_count": 40,
   "metadata": {},
   "outputs": [],
   "source": [
    "import numpy as np\n",
    "import pandas as pnd\n",
    "\n",
    "dataset = 1\n",
    "match dataset:\n",
    "    case 1:\n",
    "        test = 'fashion-mnist_test.csv'\n",
    "        train = 'fashion-mnist_train.csv'\n",
    "    case 2: \n",
    "        test = \"mnist_test.csv\"\n",
    "        train = \"mnist_train.csv\"\n",
    "testdata = pnd.read_csv(test)\n",
    "traindata = pnd.read_csv(train)\n",
    "\n",
    "testdata_pixel = testdata.drop(testdata.columns[0], axis=1).to_numpy()\n",
    "traindata_pixel = traindata.drop(traindata.columns[0], axis=1).to_numpy()\n",
    "label_train = traindata[traindata.columns[0]].to_numpy()\n",
    "label_test = testdata[testdata.columns[0]].to_numpy()\n",
    "\n",
    "class_names = np.array([\"T-shirt / Top\", \"Trouser\", \"Pullover\", \"Dress\", \"Coat\", \"Sandal\", \"Shirt\", \"Sneaker\", \"Bag\", \"Ankle Boot\"])"
   ]
  },
  {
   "cell_type": "code",
   "execution_count": 72,
   "metadata": {},
   "outputs": [
    {
     "name": "stdout",
     "output_type": "stream",
     "text": [
      "Current progress is0.0percent.\n",
      "Current progress is4.0percent.\n",
      "Current progress is8.0percent.\n"
     ]
    },
    {
     "ename": "KeyboardInterrupt",
     "evalue": "",
     "output_type": "error",
     "traceback": [
      "\u001b[1;31m---------------------------------------------------------------------------\u001b[0m",
      "\u001b[1;31mKeyboardInterrupt\u001b[0m                         Traceback (most recent call last)",
      "\u001b[1;32mc:\\Users\\basti\\compmeth2022\\topic01_team04\\BastisBescheuerteBastelecke.ipynb Cell 2\u001b[0m in \u001b[0;36m<cell line: 38>\u001b[1;34m()\u001b[0m\n\u001b[0;32m     <a href='vscode-notebook-cell:/c%3A/Users/basti/compmeth2022/topic01_team04/BastisBescheuerteBastelecke.ipynb#W3sZmlsZQ%3D%3D?line=34'>35</a>\u001b[0m         result \u001b[39m=\u001b[39m np\u001b[39m.\u001b[39mconcatenate((result, batch_result), axis\u001b[39m=\u001b[39m\u001b[39m0\u001b[39m)\n\u001b[0;32m     <a href='vscode-notebook-cell:/c%3A/Users/basti/compmeth2022/topic01_team04/BastisBescheuerteBastelecke.ipynb#W3sZmlsZQ%3D%3D?line=35'>36</a>\u001b[0m     \u001b[39mreturn\u001b[39;00m result\n\u001b[1;32m---> <a href='vscode-notebook-cell:/c%3A/Users/basti/compmeth2022/topic01_team04/BastisBescheuerteBastelecke.ipynb#W3sZmlsZQ%3D%3D?line=37'>38</a>\u001b[0m asdf \u001b[39m=\u001b[39m knn_quality2(traindata_pixel, testdata_pixel, \u001b[39m3\u001b[39;49m, label_train, label_test, \u001b[39m40\u001b[39;49m)\n",
      "\u001b[1;32mc:\\Users\\basti\\compmeth2022\\topic01_team04\\BastisBescheuerteBastelecke.ipynb Cell 2\u001b[0m in \u001b[0;36mknn_quality2\u001b[1;34m(PCs_train, PCs_test, k, label_train, label_test, testsize)\u001b[0m\n\u001b[0;32m     <a href='vscode-notebook-cell:/c%3A/Users/basti/compmeth2022/topic01_team04/BastisBescheuerteBastelecke.ipynb#W3sZmlsZQ%3D%3D?line=25'>26</a>\u001b[0m     \u001b[39mprint\u001b[39m(\u001b[39m\"\u001b[39m\u001b[39mCurrent progress is\u001b[39m\u001b[39m\"\u001b[39m \u001b[39m+\u001b[39m \u001b[39mstr\u001b[39m(count_count\u001b[39m*\u001b[39m\u001b[39m100\u001b[39m\u001b[39m/\u001b[39m(\u001b[39mlen\u001b[39m(label_test)\u001b[39m/\u001b[39mtestsize)) \u001b[39m+\u001b[39m \u001b[39m\"\u001b[39m\u001b[39mpercent.\u001b[39m\u001b[39m\"\u001b[39m)\n\u001b[0;32m     <a href='vscode-notebook-cell:/c%3A/Users/basti/compmeth2022/topic01_team04/BastisBescheuerteBastelecke.ipynb#W3sZmlsZQ%3D%3D?line=26'>27</a>\u001b[0m count_count \u001b[39m+\u001b[39m\u001b[39m=\u001b[39m \u001b[39m1\u001b[39m\n\u001b[1;32m---> <a href='vscode-notebook-cell:/c%3A/Users/basti/compmeth2022/topic01_team04/BastisBescheuerteBastelecke.ipynb#W3sZmlsZQ%3D%3D?line=27'>28</a>\u001b[0m dist, neighbour_index \u001b[39m=\u001b[39m kd_tree\u001b[39m.\u001b[39;49mquery(PCs_test[i:i\u001b[39m+\u001b[39;49mtestsize, \u001b[39mNone\u001b[39;49;00m],p\u001b[39m=\u001b[39;49m\u001b[39m2\u001b[39;49m,k\u001b[39m=\u001b[39;49mk)\n\u001b[0;32m     <a href='vscode-notebook-cell:/c%3A/Users/basti/compmeth2022/topic01_team04/BastisBescheuerteBastelecke.ipynb#W3sZmlsZQ%3D%3D?line=28'>29</a>\u001b[0m neighbour_label \u001b[39m=\u001b[39m label_train[neighbour_index]\n\u001b[0;32m     <a href='vscode-notebook-cell:/c%3A/Users/basti/compmeth2022/topic01_team04/BastisBescheuerteBastelecke.ipynb#W3sZmlsZQ%3D%3D?line=29'>30</a>\u001b[0m batch_result \u001b[39m=\u001b[39m [mode(neighbour_label,axis\u001b[39m=\u001b[39m\u001b[39m2\u001b[39m)[\u001b[39m0\u001b[39m]]\n",
      "File \u001b[1;32mc:\\Users\\basti\\mambaforge\\envs\\compmeth2022\\lib\\site-packages\\scipy\\spatial\\kdtree.py:483\u001b[0m, in \u001b[0;36mKDTree.query\u001b[1;34m(self, x, k, eps, p, distance_upper_bound, workers)\u001b[0m\n\u001b[0;32m    479\u001b[0m         dists[idx], inds[idx] \u001b[39m=\u001b[39m inds_to_hits(x[idx], inds[idx])\n\u001b[0;32m    481\u001b[0m     \u001b[39mreturn\u001b[39;00m dists, inds\n\u001b[1;32m--> 483\u001b[0m d, i \u001b[39m=\u001b[39m \u001b[39msuper\u001b[39;49m()\u001b[39m.\u001b[39;49mquery(x, k, eps, p, distance_upper_bound, workers)\n\u001b[0;32m    484\u001b[0m \u001b[39mif\u001b[39;00m \u001b[39misinstance\u001b[39m(i, \u001b[39mint\u001b[39m):\n\u001b[0;32m    485\u001b[0m     i \u001b[39m=\u001b[39m np\u001b[39m.\u001b[39mintp(i)\n",
      "File \u001b[1;32mckdtree.pyx:833\u001b[0m, in \u001b[0;36mscipy.spatial.ckdtree.cKDTree.query\u001b[1;34m()\u001b[0m\n",
      "File \u001b[1;32m<__array_function__ internals>:177\u001b[0m, in \u001b[0;36mreshape\u001b[1;34m(*args, **kwargs)\u001b[0m\n",
      "\u001b[1;31mKeyboardInterrupt\u001b[0m: "
     ]
    }
   ],
   "source": [
    "from scipy import spatial\n",
    "from collections import Counter\n",
    "from scipy.stats import mode\n",
    "\n",
    "\n",
    "def knn_quality2(PCs_train, PCs_test, k, label_train, label_test, testsize):\n",
    "    \"\"\"returns the accuray of the KNN for test images\n",
    "\n",
    "    Args:\n",
    "        PCs_train (numpy array): transformed training data\n",
    "        PCs_test (numpy array): transformed testing data\n",
    "        k (int): number of neighbours \n",
    "        label_train (numpy array 1D): labels of training data\n",
    "        label_test (numpy array 1D): labels of testing data\n",
    "        testsize (int): number of testing images you want to classify\n",
    "        \n",
    "    Returns:\n",
    "        knn for number of testsize images\n",
    "    \"\"\"\n",
    "\n",
    "    result = np.array([])\n",
    "    kd_tree = spatial.KDTree(PCs_train,leafsize=10)\n",
    "    count_count = 0\n",
    "    for i in range(0, len(label_test), testsize):\n",
    "        if count_count % 10 == 0:\n",
    "            print(\"Current progress is \" + str(count_count*100/(len(label_test)/testsize)) + \" percent.\")\n",
    "        count_count += 1\n",
    "        dist, neighbour_index = kd_tree.query(PCs_test[i:i+testsize, None],p=2,k=k)\n",
    "        neighbour_label = label_train[neighbour_index]\n",
    "        batch_result = [mode(neighbour_label,axis=2)[0]]\n",
    "        batch_result = np.array(batch_result)\n",
    "        batch_result = np.squeeze(batch_result)\n",
    "        batch_result = batch_result.astype(int)\n",
    "        result = result.astype(int)\n",
    "        result = np.concatenate((result, batch_result), axis=0)\n",
    "    return result\n",
    "\n",
    "asdf = knn_quality2(traindata_pixel, testdata_pixel, 3, label_train, label_test, 40)\n"
   ]
  },
  {
   "cell_type": "code",
   "execution_count": null,
   "metadata": {},
   "outputs": [],
   "source": []
  }
 ],
 "metadata": {
  "kernelspec": {
   "display_name": "compmeth2022",
   "language": "python",
   "name": "python3"
  },
  "language_info": {
   "codemirror_mode": {
    "name": "ipython",
    "version": 3
   },
   "file_extension": ".py",
   "mimetype": "text/x-python",
   "name": "python",
   "nbconvert_exporter": "python",
   "pygments_lexer": "ipython3",
   "version": "3.10.4"
  },
  "orig_nbformat": 4
 },
 "nbformat": 4,
 "nbformat_minor": 2
}
