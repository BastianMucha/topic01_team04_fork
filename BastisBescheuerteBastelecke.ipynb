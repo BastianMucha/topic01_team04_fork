{
 "cells": [
  {
   "cell_type": "code",
   "execution_count": 2,
   "metadata": {},
   "outputs": [],
   "source": [
    "import numpy as np\n",
    "import pandas as pnd\n",
    "import matplotlib.pyplot as plt\n",
    "import tensorflow as tf\n",
    "from tensorflow import keras\n",
    "from tensorflow.keras.models import Sequential\n",
    "from tensorflow.keras.layers import Conv2D, MaxPooling2D, Dense, Flatten, Dropout, BatchNormalization\n",
    "\n",
    "dataset = 1\n",
    "match dataset:\n",
    "    case 1:\n",
    "        test = 'fashion-mnist_test.csv'\n",
    "        train = 'fashion-mnist_train.csv'\n",
    "    case 2: \n",
    "        test = \"mnist_test.csv\"\n",
    "        train = \"mnist_train.csv\"\n",
    "testdata = pnd.read_csv(test)\n",
    "traindata = pnd.read_csv(train)\n",
    "testdata_pixel = testdata.drop(testdata.columns[0], axis=1).to_numpy()\n",
    "traindata_pixel = traindata.drop(traindata.columns[0], axis=1).to_numpy()\n",
    "label_train = traindata[traindata.columns[0]].to_numpy()\n",
    "label_test = testdata[testdata.columns[0]].to_numpy()\n",
    "\n",
    "cnn_test = testdata_pixel.reshape(-1,28,28) /255.0\n",
    "cnn_train = traindata_pixel.reshape(-1,28,28) /255.0\n",
    "cnn_test = np.expand_dims(cnn_test,axis=3)\n",
    "cnn_train = np.expand_dims(cnn_train,axis=3)\n",
    "cnn_label_test = tf.keras.utils.to_categorical(label_test)\n",
    "cnn_label_train = tf.keras.utils.to_categorical(label_train)"
   ]
  },
  {
   "attachments": {},
   "cell_type": "markdown",
   "metadata": {},
   "source": [
    "We have now loaded and reshaped the data. The labels were converted into 10-dimensional to be compatible with the output of the softmax activation function and the dimension of the images was increased by one to show that there is only one color channel. "
   ]
  },
  {
   "cell_type": "code",
   "execution_count": 19,
   "metadata": {},
   "outputs": [
    {
     "name": "stdout",
     "output_type": "stream",
     "text": [
      "Epoch 1/10\n",
      "1875/1875 [==============================] - 39s 20ms/step - loss: 0.5333 - accuracy: 0.8044 - val_loss: 0.3922 - val_accuracy: 0.8604\n",
      "Epoch 2/10\n",
      "1875/1875 [==============================] - 35s 19ms/step - loss: 0.3548 - accuracy: 0.8697 - val_loss: 0.3392 - val_accuracy: 0.8758\n",
      "Epoch 3/10\n",
      "1875/1875 [==============================] - 36s 19ms/step - loss: 0.3057 - accuracy: 0.8889 - val_loss: 0.3204 - val_accuracy: 0.8802\n",
      "Epoch 4/10\n",
      "1875/1875 [==============================] - 36s 19ms/step - loss: 0.2758 - accuracy: 0.8992 - val_loss: 0.2710 - val_accuracy: 0.9014\n",
      "Epoch 5/10\n",
      "1875/1875 [==============================] - 47s 25ms/step - loss: 0.2543 - accuracy: 0.9051 - val_loss: 0.2764 - val_accuracy: 0.8956\n",
      "Epoch 6/10\n",
      "1875/1875 [==============================] - 55s 30ms/step - loss: 0.2380 - accuracy: 0.9119 - val_loss: 0.2752 - val_accuracy: 0.8982\n",
      "Epoch 7/10\n",
      "1875/1875 [==============================] - 46s 25ms/step - loss: 0.2225 - accuracy: 0.9168 - val_loss: 0.2720 - val_accuracy: 0.9021\n",
      "Epoch 8/10\n",
      "1875/1875 [==============================] - 56s 30ms/step - loss: 0.2100 - accuracy: 0.9199 - val_loss: 0.2534 - val_accuracy: 0.9080\n",
      "Epoch 9/10\n",
      "1875/1875 [==============================] - 57s 31ms/step - loss: 0.1948 - accuracy: 0.9268 - val_loss: 0.2861 - val_accuracy: 0.9012\n",
      "Epoch 10/10\n",
      "1875/1875 [==============================] - 37s 20ms/step - loss: 0.1850 - accuracy: 0.9303 - val_loss: 0.2563 - val_accuracy: 0.9089\n"
     ]
    },
    {
     "data": {
      "text/plain": [
       "<keras.callbacks.History at 0x27c3b6b9780>"
      ]
     },
     "execution_count": 19,
     "metadata": {},
     "output_type": "execute_result"
    }
   ],
   "source": [
    "model = Sequential([\n",
    "  Conv2D(6, 5, input_shape=(28, 28, 1), activation=\"relu\",padding=\"same\"),\n",
    "  MaxPooling2D(pool_size=2,strides=2),\n",
    "  Conv2D(16, 5, activation=\"relu\",padding=\"valid\"),\n",
    "  MaxPooling2D(pool_size=2,strides=2),\n",
    "  Conv2D(120, 5, activation=\"relu\",padding=\"valid\"),\n",
    "  Flatten(),\n",
    "  Dense(84,activation=\"relu\"),\n",
    "  Dense(10, activation='softmax'),\n",
    "])\n",
    "model.compile(\n",
    "  'adam',\n",
    "  loss='categorical_crossentropy',\n",
    "  metrics=['accuracy'],\n",
    ")\n",
    "model.fit(\n",
    "  cnn_train,\n",
    "  cnn_label_train,\n",
    "  epochs=10,\n",
    "  validation_data=(cnn_test, cnn_label_test)\n",
    ")"
   ]
  },
  {
   "attachments": {},
   "cell_type": "markdown",
   "metadata": {},
   "source": [
    "The previous code used a modifyed LeNet-5 architecture with max pooling instead of mean pooling and ReLU activation"
   ]
  },
  {
   "cell_type": "code",
   "execution_count": 7,
   "metadata": {},
   "outputs": [
    {
     "name": "stdout",
     "output_type": "stream",
     "text": [
      "Epoch 1/15\n",
      "469/469 [==============================] - 100s 202ms/step - loss: 0.2793 - accuracy: 0.9114 - val_loss: 5.6258 - val_accuracy: 0.1505\n",
      "Epoch 2/15\n",
      "469/469 [==============================] - 129s 275ms/step - loss: 0.0686 - accuracy: 0.9795 - val_loss: 0.0618 - val_accuracy: 0.9803\n",
      "Epoch 3/15\n",
      "469/469 [==============================] - 117s 250ms/step - loss: 0.0498 - accuracy: 0.9846 - val_loss: 0.0729 - val_accuracy: 0.9793\n",
      "Epoch 4/15\n",
      "469/469 [==============================] - 123s 262ms/step - loss: 0.0404 - accuracy: 0.9881 - val_loss: 0.0492 - val_accuracy: 0.9857\n",
      "Epoch 5/15\n",
      "469/469 [==============================] - 112s 239ms/step - loss: 0.0345 - accuracy: 0.9894 - val_loss: 0.0478 - val_accuracy: 0.9868\n",
      "Epoch 6/15\n",
      "469/469 [==============================] - 130s 278ms/step - loss: 0.0314 - accuracy: 0.9907 - val_loss: 0.0612 - val_accuracy: 0.9838\n",
      "Epoch 7/15\n",
      "469/469 [==============================] - 119s 254ms/step - loss: 0.0286 - accuracy: 0.9914 - val_loss: 0.0700 - val_accuracy: 0.9821\n",
      "Epoch 8/15\n",
      "469/469 [==============================] - 128s 272ms/step - loss: 0.0264 - accuracy: 0.9922 - val_loss: 0.0451 - val_accuracy: 0.9866\n",
      "Epoch 9/15\n",
      "469/469 [==============================] - 124s 263ms/step - loss: 0.0218 - accuracy: 0.9933 - val_loss: 0.0453 - val_accuracy: 0.9869\n",
      "Epoch 10/15\n",
      "469/469 [==============================] - 131s 279ms/step - loss: 0.0225 - accuracy: 0.9927 - val_loss: 0.0469 - val_accuracy: 0.9868\n",
      "Epoch 11/15\n",
      "469/469 [==============================] - 117s 248ms/step - loss: 0.0199 - accuracy: 0.9938 - val_loss: 0.0502 - val_accuracy: 0.9884\n",
      "Epoch 12/15\n",
      "469/469 [==============================] - 107s 229ms/step - loss: 0.0198 - accuracy: 0.9937 - val_loss: 0.0322 - val_accuracy: 0.9910\n",
      "Epoch 13/15\n",
      "469/469 [==============================] - 125s 267ms/step - loss: 0.0177 - accuracy: 0.9947 - val_loss: 0.0542 - val_accuracy: 0.9861\n",
      "Epoch 14/15\n",
      "469/469 [==============================] - 115s 245ms/step - loss: 0.0183 - accuracy: 0.9945 - val_loss: 0.0963 - val_accuracy: 0.9772\n",
      "Epoch 15/15\n",
      "469/469 [==============================] - 121s 258ms/step - loss: 0.0150 - accuracy: 0.9953 - val_loss: 0.0382 - val_accuracy: 0.9899\n"
     ]
    },
    {
     "data": {
      "text/plain": [
       "<keras.callbacks.History at 0x20b8e9dfd60>"
      ]
     },
     "execution_count": 7,
     "metadata": {},
     "output_type": "execute_result"
    }
   ],
   "source": [
    "model = Sequential([\n",
    "  Conv2D(32, 3, input_shape=(28, 28, 1), activation=\"relu\",padding=\"same\"),\n",
    "  Conv2D(32, 3, activation=\"relu\",padding=\"same\"),\n",
    "  MaxPooling2D(pool_size=2,strides=2),\n",
    "  BatchNormalization(),\n",
    "  Conv2D(16, 3, activation=\"relu\",padding=\"same\"),\n",
    "  Conv2D(16, 3, activation=\"relu\",padding=\"same\"),\n",
    "  MaxPooling2D(pool_size=2,strides=2),\n",
    "  BatchNormalization(),\n",
    "  Conv2D(16, 3, activation=\"relu\",padding=\"same\"),\n",
    "  Conv2D(16, 3, activation=\"relu\",padding=\"same\"),\n",
    "  MaxPooling2D(pool_size=2,strides=2),\n",
    "  BatchNormalization(),\n",
    "  Conv2D(16, 3, activation=\"relu\",padding=\"same\"),\n",
    "  Conv2D(16, 3, activation=\"relu\",padding=\"same\"),\n",
    "  MaxPooling2D(pool_size=2,strides=1),\n",
    "  BatchNormalization(),\n",
    "  Conv2D(16, 3, activation=\"relu\",padding=\"same\"),\n",
    "  Conv2D(16, 3, activation=\"relu\",padding=\"same\"),\n",
    "  MaxPooling2D(pool_size=2,strides=1),\n",
    "  BatchNormalization(),\n",
    "  Flatten(),\n",
    "  Dense(256,activation=\"relu\"),\n",
    "  Dropout(0.15),\n",
    "  Dense(256,activation=\"relu\"),\n",
    "  Dropout(0.15),\n",
    "  Dense(10, activation='softmax'),\n",
    "])\n",
    "model.compile(\n",
    "  'adam',\n",
    "  loss='categorical_crossentropy',\n",
    "  metrics=['accuracy'],\n",
    ")\n",
    "model.fit(\n",
    "  cnn_train,\n",
    "  cnn_label_train,\n",
    "  epochs=15,\n",
    "  validation_data=(cnn_test, cnn_label_test),\n",
    "  batch_size=128\n",
    ")"
   ]
  },
  {
   "cell_type": "code",
   "execution_count": 13,
   "metadata": {},
   "outputs": [
    {
     "name": "stderr",
     "output_type": "stream",
     "text": [
      "WARNING:absl:Found untraced functions such as _jit_compiled_convolution_op, _jit_compiled_convolution_op, _jit_compiled_convolution_op, _jit_compiled_convolution_op, _jit_compiled_convolution_op while saving (showing 5 of 11). These functions will not be directly callable after loading.\n"
     ]
    },
    {
     "name": "stdout",
     "output_type": "stream",
     "text": [
      "INFO:tensorflow:Assets written to: users/basti/compmeth2022/data\\assets\n"
     ]
    },
    {
     "name": "stderr",
     "output_type": "stream",
     "text": [
      "INFO:tensorflow:Assets written to: users/basti/compmeth2022/data\\assets\n"
     ]
    }
   ],
   "source": [
    "model.save(filepath=\"users/basti/compmeth2022/data\")"
   ]
  },
  {
   "cell_type": "code",
   "execution_count": 4,
   "metadata": {},
   "outputs": [
    {
     "name": "stdout",
     "output_type": "stream",
     "text": [
      "Epoch 1/10\n",
      "938/938 [==============================] - 73s 75ms/step - loss: 0.4478 - accuracy: 0.8384 - val_loss: 0.3557 - val_accuracy: 0.8686\n",
      "Epoch 2/10\n",
      "938/938 [==============================] - 96s 102ms/step - loss: 0.2949 - accuracy: 0.8923 - val_loss: 0.2938 - val_accuracy: 0.8917\n",
      "Epoch 3/10\n",
      "938/938 [==============================] - 104s 111ms/step - loss: 0.2575 - accuracy: 0.9086 - val_loss: 0.2459 - val_accuracy: 0.9098\n",
      "Epoch 4/10\n",
      "938/938 [==============================] - 117s 125ms/step - loss: 0.2336 - accuracy: 0.9168 - val_loss: 0.2532 - val_accuracy: 0.9081\n",
      "Epoch 5/10\n",
      "938/938 [==============================] - 124s 132ms/step - loss: 0.2111 - accuracy: 0.9226 - val_loss: 0.2328 - val_accuracy: 0.9142\n",
      "Epoch 6/10\n",
      "938/938 [==============================] - 148s 158ms/step - loss: 0.1964 - accuracy: 0.9294 - val_loss: 0.2065 - val_accuracy: 0.9240\n",
      "Epoch 7/10\n",
      "938/938 [==============================] - 190s 202ms/step - loss: 0.1838 - accuracy: 0.9341 - val_loss: 0.2255 - val_accuracy: 0.9214\n",
      "Epoch 8/10\n",
      "938/938 [==============================] - 190s 203ms/step - loss: 0.1700 - accuracy: 0.9391 - val_loss: 0.2280 - val_accuracy: 0.9219\n",
      "Epoch 9/10\n",
      "938/938 [==============================] - 186s 198ms/step - loss: 0.1583 - accuracy: 0.9431 - val_loss: 0.2191 - val_accuracy: 0.9230\n",
      "Epoch 10/10\n",
      "938/938 [==============================] - 152s 162ms/step - loss: 0.1466 - accuracy: 0.9465 - val_loss: 0.2175 - val_accuracy: 0.9231\n"
     ]
    },
    {
     "data": {
      "text/plain": [
       "<keras.callbacks.History at 0x2165d3aaad0>"
      ]
     },
     "execution_count": 4,
     "metadata": {},
     "output_type": "execute_result"
    }
   ],
   "source": [
    " \n",
    "bastis_model = Sequential([\n",
    "  Conv2D(16, 5, input_shape=(28, 28, 1), activation=\"relu\",padding=\"same\"),\n",
    "  Conv2D(16, 3, activation=\"relu\",padding=\"same\"),\n",
    "  MaxPooling2D(pool_size=2,strides=2),\n",
    "  BatchNormalization(),\n",
    "  Conv2D(32, 3, activation=\"relu\",padding=\"same\"),\n",
    "  Conv2D(32, 3, activation=\"relu\",padding=\"same\"),\n",
    "  MaxPooling2D(pool_size=2,strides=2),\n",
    "  BatchNormalization(),\n",
    "  Conv2D(64, 3, activation=\"relu\",padding=\"same\"),\n",
    "  Conv2D(64, 3, activation=\"relu\",padding=\"same\"),\n",
    "  MaxPooling2D(pool_size=2,strides=2),\n",
    "  BatchNormalization(),\n",
    "  Conv2D(64, 3, activation=\"relu\",padding=\"same\"),\n",
    "  Conv2D(64, 3, activation=\"relu\",padding=\"same\"),\n",
    "  Conv2D(64, 3, activation=\"relu\",padding=\"same\"),\n",
    "  MaxPooling2D(pool_size=2,strides=1),\n",
    "  BatchNormalization(),\n",
    "  Flatten(),\n",
    "  Dense(256,activation=\"relu\"),\n",
    "  Dropout(0.15),\n",
    "  Dense(512,activation=\"relu\"),\n",
    "  Dropout(0.2),\n",
    "  Dense(10, activation='softmax'),\n",
    "])\n",
    "bastis_model.compile(\n",
    "  'adam',\n",
    "  loss='categorical_crossentropy',\n",
    "  metrics=['accuracy'],\n",
    ")\n",
    "bastis_model.fit(\n",
    "  cnn_train,\n",
    "  cnn_label_train,\n",
    "  epochs=10,\n",
    "  validation_data=(cnn_test, cnn_label_test),\n",
    "  batch_size=64\n",
    ")"
   ]
  }
 ],
 "metadata": {
  "kernelspec": {
   "display_name": "compmeth2022",
   "language": "python",
   "name": "python3"
  },
  "language_info": {
   "codemirror_mode": {
    "name": "ipython",
    "version": 3
   },
   "file_extension": ".py",
   "mimetype": "text/x-python",
   "name": "python",
   "nbconvert_exporter": "python",
   "pygments_lexer": "ipython3",
   "version": "3.10.4"
  },
  "orig_nbformat": 4
 },
 "nbformat": 4,
 "nbformat_minor": 2
}
