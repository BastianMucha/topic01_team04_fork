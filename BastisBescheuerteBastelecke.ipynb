{
 "cells": [
  {
   "cell_type": "code",
   "execution_count": 1,
   "metadata": {},
   "outputs": [],
   "source": [
    "import numpy as np\n",
    "import pandas as pnd\n",
    "import matplotlib.pyplot as plt\n",
    "import tensorflow as tf\n",
    "from tensorflow import keras\n",
    "from tensorflow.keras.models import Sequential\n",
    "from tensorflow.keras.layers import Conv2D, MaxPooling2D, Dense, Flatten, Dropout, BatchNormalization\n",
    "\n",
    "dataset = 1\n",
    "match dataset:\n",
    "    case 1:\n",
    "        test = 'fashion-mnist_test.csv'\n",
    "        train = 'fashion-mnist_train.csv'\n",
    "    case 2: \n",
    "        test = \"mnist_test.csv\"\n",
    "        train = \"mnist_train.csv\"\n",
    "testdata = pnd.read_csv(test)\n",
    "traindata = pnd.read_csv(train)\n",
    "testdata_pixel = testdata.drop(testdata.columns[0], axis=1).to_numpy()\n",
    "traindata_pixel = traindata.drop(traindata.columns[0], axis=1).to_numpy()\n",
    "label_train = traindata[traindata.columns[0]].to_numpy()\n",
    "label_test = testdata[testdata.columns[0]].to_numpy()\n",
    "\n",
    "cnn_test = testdata_pixel.reshape(-1,28,28) /255.0\n",
    "cnn_train = traindata_pixel.reshape(-1,28,28) /255.0\n",
    "cnn_test = np.expand_dims(cnn_test,axis=3)\n",
    "cnn_train = np.expand_dims(cnn_train,axis=3)\n",
    "cnn_label_test = tf.keras.utils.to_categorical(label_test)\n",
    "cnn_label_train = tf.keras.utils.to_categorical(label_train)"
   ]
  },
  {
   "attachments": {},
   "cell_type": "markdown",
   "metadata": {},
   "source": [
    "We have now loaded and reshaped the data. The labels were converted into 10-dimensional to be compatible with the output of the softmax activation function and the dimension of the images was increased by one to show that there is only one color channel. "
   ]
  },
  {
   "cell_type": "code",
   "execution_count": 2,
   "metadata": {},
   "outputs": [
    {
     "name": "stdout",
     "output_type": "stream",
     "text": [
      "Epoch 1/10\n",
      "1875/1875 [==============================] - 21s 10ms/step - loss: 0.5438 - accuracy: 0.7991 - val_loss: 0.3867 - val_accuracy: 0.8572\n",
      "Epoch 2/10\n",
      "1875/1875 [==============================] - 41s 22ms/step - loss: 0.3542 - accuracy: 0.8707 - val_loss: 0.3339 - val_accuracy: 0.8757\n",
      "Epoch 3/10\n",
      "1875/1875 [==============================] - 18s 10ms/step - loss: 0.3065 - accuracy: 0.8880 - val_loss: 0.2931 - val_accuracy: 0.8895\n",
      "Epoch 4/10\n",
      "1875/1875 [==============================] - 17s 9ms/step - loss: 0.2778 - accuracy: 0.8980 - val_loss: 0.2729 - val_accuracy: 0.8991\n",
      "Epoch 5/10\n",
      "1875/1875 [==============================] - 17s 9ms/step - loss: 0.2574 - accuracy: 0.9051 - val_loss: 0.2718 - val_accuracy: 0.9008\n",
      "Epoch 6/10\n",
      "1875/1875 [==============================] - 17s 9ms/step - loss: 0.2405 - accuracy: 0.9107 - val_loss: 0.2624 - val_accuracy: 0.9041\n",
      "Epoch 7/10\n",
      "1875/1875 [==============================] - 17s 9ms/step - loss: 0.2269 - accuracy: 0.9147 - val_loss: 0.2575 - val_accuracy: 0.9032\n",
      "Epoch 8/10\n",
      "1875/1875 [==============================] - 18s 9ms/step - loss: 0.2125 - accuracy: 0.9199 - val_loss: 0.2692 - val_accuracy: 0.9029\n",
      "Epoch 9/10\n",
      "1875/1875 [==============================] - 17s 9ms/step - loss: 0.2008 - accuracy: 0.9251 - val_loss: 0.2503 - val_accuracy: 0.9090\n",
      "Epoch 10/10\n",
      "1875/1875 [==============================] - 18s 10ms/step - loss: 0.1889 - accuracy: 0.9284 - val_loss: 0.2770 - val_accuracy: 0.9036\n"
     ]
    },
    {
     "data": {
      "text/plain": [
       "<keras.callbacks.History at 0x202b7367400>"
      ]
     },
     "execution_count": 2,
     "metadata": {},
     "output_type": "execute_result"
    }
   ],
   "source": [
    "model = Sequential([\n",
    "  Conv2D(6, 5, input_shape=(28, 28, 1), activation=\"relu\",padding=\"same\"),\n",
    "  MaxPooling2D(pool_size=2,strides=2),\n",
    "  Conv2D(16, 5, activation=\"relu\",padding=\"valid\"),\n",
    "  MaxPooling2D(pool_size=2,strides=2),\n",
    "  Conv2D(120, 5, activation=\"relu\",padding=\"valid\"),\n",
    "  Flatten(),\n",
    "  Dense(84,activation=\"relu\"),\n",
    "  Dense(10, activation='softmax'),\n",
    "])\n",
    "model.compile(\n",
    "  'adam',\n",
    "  loss='categorical_crossentropy',\n",
    "  metrics=['accuracy'],\n",
    ")\n",
    "model.fit(\n",
    "  cnn_train,\n",
    "  cnn_label_train,\n",
    "  epochs=10,\n",
    "  validation_data=(cnn_test, cnn_label_test)\n",
    ")"
   ]
  },
  {
   "attachments": {},
   "cell_type": "markdown",
   "metadata": {},
   "source": [
    "The previous code used a modifyed LeNet-5 architecture with max pooling instead of mean pooling and ReLU activation"
   ]
  },
  {
   "cell_type": "code",
   "execution_count": 3,
   "metadata": {},
   "outputs": [
    {
     "name": "stdout",
     "output_type": "stream",
     "text": [
      "Epoch 1/15\n",
      "469/469 [==============================] - 68s 139ms/step - loss: 0.5713 - accuracy: 0.7912 - val_loss: 1.2909 - val_accuracy: 0.5519\n",
      "Epoch 2/15\n",
      "469/469 [==============================] - 64s 137ms/step - loss: 0.3583 - accuracy: 0.8678 - val_loss: 0.3758 - val_accuracy: 0.8656\n",
      "Epoch 3/15\n",
      "469/469 [==============================] - 64s 137ms/step - loss: 0.3157 - accuracy: 0.8836 - val_loss: 0.2991 - val_accuracy: 0.8881\n",
      "Epoch 4/15\n",
      "469/469 [==============================] - 64s 136ms/step - loss: 0.2850 - accuracy: 0.8956 - val_loss: 0.3202 - val_accuracy: 0.8771\n",
      "Epoch 5/15\n",
      "469/469 [==============================] - 64s 137ms/step - loss: 0.2622 - accuracy: 0.9049 - val_loss: 0.3682 - val_accuracy: 0.8592\n",
      "Epoch 6/15\n",
      "469/469 [==============================] - 63s 134ms/step - loss: 0.2506 - accuracy: 0.9086 - val_loss: 0.3613 - val_accuracy: 0.8742\n",
      "Epoch 7/15\n",
      "469/469 [==============================] - 66s 142ms/step - loss: 0.2366 - accuracy: 0.9125 - val_loss: 0.2665 - val_accuracy: 0.9062\n",
      "Epoch 8/15\n",
      "469/469 [==============================] - 65s 139ms/step - loss: 0.2257 - accuracy: 0.9167 - val_loss: 0.2461 - val_accuracy: 0.9063\n",
      "Epoch 9/15\n",
      "469/469 [==============================] - 68s 144ms/step - loss: 0.2180 - accuracy: 0.9194 - val_loss: 0.2403 - val_accuracy: 0.9128\n",
      "Epoch 10/15\n",
      "469/469 [==============================] - 67s 143ms/step - loss: 0.2078 - accuracy: 0.9234 - val_loss: 0.2784 - val_accuracy: 0.8947\n",
      "Epoch 11/15\n",
      "469/469 [==============================] - 65s 139ms/step - loss: 0.2018 - accuracy: 0.9249 - val_loss: 0.2732 - val_accuracy: 0.8915\n",
      "Epoch 12/15\n",
      "469/469 [==============================] - 63s 134ms/step - loss: 0.1943 - accuracy: 0.9284 - val_loss: 0.2702 - val_accuracy: 0.9046\n",
      "Epoch 13/15\n",
      "469/469 [==============================] - 64s 136ms/step - loss: 0.1870 - accuracy: 0.9310 - val_loss: 0.2401 - val_accuracy: 0.9118\n",
      "Epoch 14/15\n",
      "469/469 [==============================] - 63s 134ms/step - loss: 0.1852 - accuracy: 0.9317 - val_loss: 0.2529 - val_accuracy: 0.9107\n",
      "Epoch 15/15\n",
      "469/469 [==============================] - 63s 134ms/step - loss: 0.1766 - accuracy: 0.9349 - val_loss: 0.2172 - val_accuracy: 0.9197\n"
     ]
    },
    {
     "data": {
      "text/plain": [
       "<keras.callbacks.History at 0x202b6caa050>"
      ]
     },
     "execution_count": 3,
     "metadata": {},
     "output_type": "execute_result"
    }
   ],
   "source": [
    "model = Sequential([\n",
    "  Conv2D(32, 3, input_shape=(28, 28, 1), activation=\"relu\",padding=\"same\"),\n",
    "  Conv2D(32, 3, activation=\"relu\",padding=\"same\"),\n",
    "  MaxPooling2D(pool_size=2,strides=2),\n",
    "  BatchNormalization(),\n",
    "  Conv2D(16, 3, activation=\"relu\",padding=\"same\"),\n",
    "  Conv2D(16, 3, activation=\"relu\",padding=\"same\"),\n",
    "  MaxPooling2D(pool_size=2,strides=2),\n",
    "  BatchNormalization(),\n",
    "  Conv2D(16, 3, activation=\"relu\",padding=\"same\"),\n",
    "  Conv2D(16, 3, activation=\"relu\",padding=\"same\"),\n",
    "  MaxPooling2D(pool_size=2,strides=2),\n",
    "  BatchNormalization(),\n",
    "  Conv2D(16, 3, activation=\"relu\",padding=\"same\"),\n",
    "  Conv2D(16, 3, activation=\"relu\",padding=\"same\"),\n",
    "  MaxPooling2D(pool_size=2,strides=1),\n",
    "  BatchNormalization(),\n",
    "  Conv2D(16, 3, activation=\"relu\",padding=\"same\"),\n",
    "  Conv2D(16, 3, activation=\"relu\",padding=\"same\"),\n",
    "  MaxPooling2D(pool_size=2,strides=1),\n",
    "  BatchNormalization(),\n",
    "  Flatten(),\n",
    "  Dense(256,activation=\"relu\"),\n",
    "  Dropout(0.15),\n",
    "  Dense(256,activation=\"relu\"),\n",
    "  Dropout(0.15),\n",
    "  Dense(10, activation='softmax'),\n",
    "])\n",
    "model.compile(\n",
    "  'adam',\n",
    "  loss='categorical_crossentropy',\n",
    "  metrics=['accuracy'],\n",
    ")\n",
    "model.fit(\n",
    "  cnn_train,\n",
    "  cnn_label_train,\n",
    "  epochs=15,\n",
    "  validation_data=(cnn_test, cnn_label_test),\n",
    "  batch_size=128\n",
    ")"
   ]
  },
  {
   "cell_type": "code",
   "execution_count": 6,
   "metadata": {},
   "outputs": [
    {
     "name": "stdout",
     "output_type": "stream",
     "text": [
      "1/1 [==============================] - 2s 2s/step - loss: 0.2110 - accuracy: 0.9254\n",
      "[0.2110031247138977, 0.9254000186920166]\n"
     ]
    }
   ],
   "source": [
    "#model.save(filepath=\"users/basti/compmeth2022/data\")\n",
    "print(bastis_model.evaluate(cnn_test,cnn_label_test,batch_size=10000))"
   ]
  },
  {
   "cell_type": "code",
   "execution_count": 5,
   "metadata": {},
   "outputs": [
    {
     "name": "stdout",
     "output_type": "stream",
     "text": [
      "Epoch 1/10\n",
      "938/938 [==============================] - 92s 96ms/step - loss: 0.4354 - accuracy: 0.8404 - val_loss: 0.4452 - val_accuracy: 0.8412\n",
      "Epoch 2/10\n",
      "938/938 [==============================] - 93s 100ms/step - loss: 0.2966 - accuracy: 0.8922 - val_loss: 0.3112 - val_accuracy: 0.8947\n",
      "Epoch 3/10\n",
      "938/938 [==============================] - 92s 99ms/step - loss: 0.2579 - accuracy: 0.9061 - val_loss: 0.3242 - val_accuracy: 0.8787\n",
      "Epoch 4/10\n",
      "938/938 [==============================] - 91s 98ms/step - loss: 0.2369 - accuracy: 0.9141 - val_loss: 0.2630 - val_accuracy: 0.9030\n",
      "Epoch 5/10\n",
      "938/938 [==============================] - 94s 100ms/step - loss: 0.2153 - accuracy: 0.9225 - val_loss: 0.2542 - val_accuracy: 0.9125\n",
      "Epoch 6/10\n",
      "938/938 [==============================] - 93s 99ms/step - loss: 0.2005 - accuracy: 0.9272 - val_loss: 0.2341 - val_accuracy: 0.9155\n",
      "Epoch 7/10\n",
      "938/938 [==============================] - 92s 99ms/step - loss: 0.1857 - accuracy: 0.9324 - val_loss: 0.2472 - val_accuracy: 0.9147\n",
      "Epoch 8/10\n",
      "938/938 [==============================] - 92s 98ms/step - loss: 0.1712 - accuracy: 0.9375 - val_loss: 0.2320 - val_accuracy: 0.9185\n",
      "Epoch 9/10\n",
      "938/938 [==============================] - 91s 97ms/step - loss: 0.1580 - accuracy: 0.9425 - val_loss: 0.2252 - val_accuracy: 0.9232\n",
      "Epoch 10/10\n",
      "938/938 [==============================] - 92s 98ms/step - loss: 0.1466 - accuracy: 0.9465 - val_loss: 0.2110 - val_accuracy: 0.9254\n"
     ]
    },
    {
     "data": {
      "text/plain": [
       "<keras.callbacks.History at 0x202b7367f40>"
      ]
     },
     "execution_count": 5,
     "metadata": {},
     "output_type": "execute_result"
    }
   ],
   "source": [
    " \n",
    "bastis_model = Sequential([\n",
    "  Conv2D(16, 5, input_shape=(28, 28, 1), activation=\"relu\",padding=\"same\"),\n",
    "  Conv2D(16, 5, activation=\"relu\",padding=\"same\"),\n",
    "  MaxPooling2D(pool_size=2,strides=2),\n",
    "  BatchNormalization(),\n",
    "  Conv2D(32, 3, activation=\"relu\",padding=\"same\"),\n",
    "  Conv2D(32, 3, activation=\"relu\",padding=\"same\"),\n",
    "  MaxPooling2D(pool_size=2,strides=2),\n",
    "  BatchNormalization(),\n",
    "  Conv2D(64, 3, activation=\"relu\",padding=\"same\"),\n",
    "  Conv2D(64, 3, activation=\"relu\",padding=\"same\"),\n",
    "  MaxPooling2D(pool_size=2,strides=2),\n",
    "  BatchNormalization(),\n",
    "  Conv2D(64, 3, activation=\"relu\",padding=\"same\"),\n",
    "  Conv2D(64, 3, activation=\"relu\",padding=\"same\"),\n",
    "  Conv2D(64, 3, activation=\"relu\",padding=\"same\"),\n",
    "  MaxPooling2D(pool_size=2,strides=1),\n",
    "  BatchNormalization(),\n",
    "  Flatten(),\n",
    "  Dense(256,activation=\"relu\"),\n",
    "  Dropout(0.1),\n",
    "  Dense(512,activation=\"relu\"),\n",
    "  Dropout(0.1),\n",
    "  Dense(10, activation='softmax'),\n",
    "])\n",
    "bastis_model.compile(\n",
    "  'adam',\n",
    "  loss='categorical_crossentropy',\n",
    "  metrics=['accuracy'],\n",
    ")\n",
    "bastis_model.fit(\n",
    "  cnn_train,\n",
    "  cnn_label_train,\n",
    "  epochs=10,\n",
    "  validation_data=(cnn_test, cnn_label_test),\n",
    "  batch_size=64\n",
    ")"
   ]
  }
 ],
 "metadata": {
  "kernelspec": {
   "display_name": "compmeth2022",
   "language": "python",
   "name": "python3"
  },
  "language_info": {
   "codemirror_mode": {
    "name": "ipython",
    "version": 3
   },
   "file_extension": ".py",
   "mimetype": "text/x-python",
   "name": "python",
   "nbconvert_exporter": "python",
   "pygments_lexer": "ipython3",
   "version": "3.10.4"
  },
  "orig_nbformat": 4
 },
 "nbformat": 4,
 "nbformat_minor": 2
}
