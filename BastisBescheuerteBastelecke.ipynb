{
 "cells": [
  {
   "cell_type": "code",
   "execution_count": 31,
   "metadata": {},
   "outputs": [],
   "source": [
    "import numpy as np\n",
    "import pandas as pnd\n",
    "import matplotlib.pyplot as plt\n",
    "import tensorflow as tf\n",
    "from tensorflow import keras\n",
    "from tensorflow.keras.models import Sequential\n",
    "from tensorflow.keras.layers import Conv2D, MaxPooling2D, Dense, Flatten, Dropout, BatchNormalization\n",
    "\n",
    "testdata = pnd.read_csv('fashion-mnist_test.csv')\n",
    "traindata = pnd.read_csv('fashion-mnist_train.csv')\n",
    "testdata_pixel = testdata.drop('label', axis=1).to_numpy()\n",
    "traindata_pixel = traindata.drop('label', axis=1).to_numpy()\n",
    "label_train = traindata['label'].to_numpy()\n",
    "label_test = testdata['label'].to_numpy()\n",
    "\n",
    "cnn_test = testdata_pixel.reshape(-1,28,28) /255.0\n",
    "cnn_train = traindata_pixel.reshape(-1,28,28) /255.0\n",
    "cnn_test = np.expand_dims(cnn_test,axis=3)\n",
    "cnn_train = np.expand_dims(cnn_train,axis=3)\n",
    "cnn_label_test = tf.keras.utils.to_categorical(label_test)\n",
    "cnn_label_train = tf.keras.utils.to_categorical(label_train)"
   ]
  },
  {
   "attachments": {},
   "cell_type": "markdown",
   "metadata": {},
   "source": [
    "We have now loaded and reshaped the data. The labels were converted into 10-dimensional to be compatible with the output of the softmax activation function and the dimension of the images was increased by one to show that there is only one color channel. "
   ]
  },
  {
   "cell_type": "code",
   "execution_count": 19,
   "metadata": {},
   "outputs": [
    {
     "name": "stdout",
     "output_type": "stream",
     "text": [
      "Epoch 1/10\n",
      "1875/1875 [==============================] - 39s 20ms/step - loss: 0.5333 - accuracy: 0.8044 - val_loss: 0.3922 - val_accuracy: 0.8604\n",
      "Epoch 2/10\n",
      "1875/1875 [==============================] - 35s 19ms/step - loss: 0.3548 - accuracy: 0.8697 - val_loss: 0.3392 - val_accuracy: 0.8758\n",
      "Epoch 3/10\n",
      "1875/1875 [==============================] - 36s 19ms/step - loss: 0.3057 - accuracy: 0.8889 - val_loss: 0.3204 - val_accuracy: 0.8802\n",
      "Epoch 4/10\n",
      "1875/1875 [==============================] - 36s 19ms/step - loss: 0.2758 - accuracy: 0.8992 - val_loss: 0.2710 - val_accuracy: 0.9014\n",
      "Epoch 5/10\n",
      "1875/1875 [==============================] - 47s 25ms/step - loss: 0.2543 - accuracy: 0.9051 - val_loss: 0.2764 - val_accuracy: 0.8956\n",
      "Epoch 6/10\n",
      "1875/1875 [==============================] - 55s 30ms/step - loss: 0.2380 - accuracy: 0.9119 - val_loss: 0.2752 - val_accuracy: 0.8982\n",
      "Epoch 7/10\n",
      "1875/1875 [==============================] - 46s 25ms/step - loss: 0.2225 - accuracy: 0.9168 - val_loss: 0.2720 - val_accuracy: 0.9021\n",
      "Epoch 8/10\n",
      "1875/1875 [==============================] - 56s 30ms/step - loss: 0.2100 - accuracy: 0.9199 - val_loss: 0.2534 - val_accuracy: 0.9080\n",
      "Epoch 9/10\n",
      "1875/1875 [==============================] - 57s 31ms/step - loss: 0.1948 - accuracy: 0.9268 - val_loss: 0.2861 - val_accuracy: 0.9012\n",
      "Epoch 10/10\n",
      "1875/1875 [==============================] - 37s 20ms/step - loss: 0.1850 - accuracy: 0.9303 - val_loss: 0.2563 - val_accuracy: 0.9089\n"
     ]
    },
    {
     "data": {
      "text/plain": [
       "<keras.callbacks.History at 0x27c3b6b9780>"
      ]
     },
     "execution_count": 19,
     "metadata": {},
     "output_type": "execute_result"
    }
   ],
   "source": [
    "model = Sequential([\n",
    "  Conv2D(6, 5, input_shape=(28, 28, 1), activation=\"relu\",padding=\"same\"),\n",
    "  MaxPooling2D(pool_size=2,strides=2),\n",
    "  Conv2D(16, 5, activation=\"relu\",padding=\"valid\"),\n",
    "  MaxPooling2D(pool_size=2,strides=2),\n",
    "  Conv2D(120, 5, activation=\"relu\",padding=\"valid\"),\n",
    "  Flatten(),\n",
    "  Dense(84,activation=\"relu\"),\n",
    "  Dense(10, activation='softmax'),\n",
    "])\n",
    "model.compile(\n",
    "  'adam',\n",
    "  loss='categorical_crossentropy',\n",
    "  metrics=['accuracy'],\n",
    ")\n",
    "model.fit(\n",
    "  cnn_train,\n",
    "  cnn_label_train,\n",
    "  epochs=10,\n",
    "  validation_data=(cnn_test, cnn_label_test)\n",
    ")"
   ]
  },
  {
   "attachments": {},
   "cell_type": "markdown",
   "metadata": {},
   "source": [
    "The previous code used a modifyed LeNet-5 architecture with max pooling instead of mean pooling and ReLU activation"
   ]
  },
  {
   "cell_type": "code",
   "execution_count": 33,
   "metadata": {},
   "outputs": [
    {
     "name": "stdout",
     "output_type": "stream",
     "text": [
      "Epoch 1/5\n",
      "1875/1875 [==============================] - 160s 82ms/step - loss: 0.5568 - accuracy: 0.7966 - val_loss: 0.3801 - val_accuracy: 0.8627\n",
      "Epoch 2/5\n",
      "1875/1875 [==============================] - 114s 61ms/step - loss: 0.3627 - accuracy: 0.8709 - val_loss: 0.3577 - val_accuracy: 0.8713\n",
      "Epoch 3/5\n",
      "1875/1875 [==============================] - 98s 52ms/step - loss: 0.3169 - accuracy: 0.8860 - val_loss: 0.2812 - val_accuracy: 0.8960\n",
      "Epoch 4/5\n",
      "1875/1875 [==============================] - 116s 62ms/step - loss: 0.2874 - accuracy: 0.8976 - val_loss: 0.2608 - val_accuracy: 0.9059\n",
      "Epoch 5/5\n",
      "1875/1875 [==============================] - 142s 76ms/step - loss: 0.2706 - accuracy: 0.9043 - val_loss: 0.2691 - val_accuracy: 0.9009\n"
     ]
    },
    {
     "data": {
      "text/plain": [
       "<keras.callbacks.History at 0x27c5d665e10>"
      ]
     },
     "execution_count": 33,
     "metadata": {},
     "output_type": "execute_result"
    }
   ],
   "source": [
    "model = Sequential([\n",
    "  Conv2D(32, 3, input_shape=(28, 28, 1), activation=\"relu\",padding=\"same\"),\n",
    "  Conv2D(32, 3, activation=\"relu\",padding=\"same\"),\n",
    "  MaxPooling2D(pool_size=2,strides=2),\n",
    "  BatchNormalization(),\n",
    "  Conv2D(16, 3, activation=\"relu\",padding=\"same\"),\n",
    "  Conv2D(16, 3, activation=\"relu\",padding=\"same\"),\n",
    "  MaxPooling2D(pool_size=2,strides=2),\n",
    "  BatchNormalization(),\n",
    "  Conv2D(16, 3, activation=\"relu\",padding=\"same\"),\n",
    "  Conv2D(16, 3, activation=\"relu\",padding=\"same\"),\n",
    "  MaxPooling2D(pool_size=2,strides=2),\n",
    "  BatchNormalization(),\n",
    "  Conv2D(16, 3, activation=\"relu\",padding=\"same\"),\n",
    "  Conv2D(16, 3, activation=\"relu\",padding=\"same\"),\n",
    "  MaxPooling2D(pool_size=2,strides=1),\n",
    "  BatchNormalization(),\n",
    "  Conv2D(16, 3, activation=\"relu\",padding=\"same\"),\n",
    "  Conv2D(16, 3, activation=\"relu\",padding=\"same\"),\n",
    "  MaxPooling2D(pool_size=2,strides=1),\n",
    "  BatchNormalization(),\n",
    "  Flatten(),\n",
    "  Dense(256,activation=\"relu\"),\n",
    "  Dropout(0.15),\n",
    "  Dense(256,activation=\"relu\"),\n",
    "  Dropout(0.15),\n",
    "  Dense(10, activation='softmax'),\n",
    "])\n",
    "model.compile(\n",
    "  'adam',\n",
    "  loss='categorical_crossentropy',\n",
    "  metrics=['accuracy'],\n",
    ")\n",
    "model.fit(\n",
    "  cnn_train,\n",
    "  cnn_label_train,\n",
    "  epochs=5,\n",
    "  validation_data=(cnn_test, cnn_label_test)\n",
    ")"
   ]
  },
  {
   "cell_type": "code",
   "execution_count": 35,
   "metadata": {},
   "outputs": [
    {
     "name": "stdout",
     "output_type": "stream",
     "text": [
      "Model: \"sequential_9\"\n",
      "_________________________________________________________________\n",
      " Layer (type)                Output Shape              Param #   \n",
      "=================================================================\n",
      " conv2d_62 (Conv2D)          (None, 28, 28, 16)        160       \n",
      "                                                                 \n",
      " conv2d_63 (Conv2D)          (None, 28, 28, 16)        2320      \n",
      "                                                                 \n",
      " max_pooling2d_37 (MaxPoolin  (None, 14, 14, 16)       0         \n",
      " g2D)                                                            \n",
      "                                                                 \n",
      " batch_normalization_5 (Batc  (None, 14, 14, 16)       64        \n",
      " hNormalization)                                                 \n",
      "                                                                 \n",
      " conv2d_64 (Conv2D)          (None, 14, 14, 16)        2320      \n",
      "                                                                 \n",
      " conv2d_65 (Conv2D)          (None, 14, 14, 16)        2320      \n",
      "                                                                 \n",
      " max_pooling2d_38 (MaxPoolin  (None, 7, 7, 16)         0         \n",
      " g2D)                                                            \n",
      "                                                                 \n",
      " batch_normalization_6 (Batc  (None, 7, 7, 16)         64        \n",
      " hNormalization)                                                 \n",
      "                                                                 \n",
      " conv2d_66 (Conv2D)          (None, 7, 7, 16)          2320      \n",
      "                                                                 \n",
      " conv2d_67 (Conv2D)          (None, 7, 7, 16)          2320      \n",
      "                                                                 \n",
      " max_pooling2d_39 (MaxPoolin  (None, 3, 3, 16)         0         \n",
      " g2D)                                                            \n",
      "                                                                 \n",
      " batch_normalization_7 (Batc  (None, 3, 3, 16)         64        \n",
      " hNormalization)                                                 \n",
      "                                                                 \n",
      " conv2d_68 (Conv2D)          (None, 3, 3, 16)          2320      \n",
      "                                                                 \n",
      " conv2d_69 (Conv2D)          (None, 3, 3, 16)          2320      \n",
      "                                                                 \n",
      " max_pooling2d_40 (MaxPoolin  (None, 2, 2, 16)         0         \n",
      " g2D)                                                            \n",
      "                                                                 \n",
      " batch_normalization_8 (Batc  (None, 2, 2, 16)         64        \n",
      " hNormalization)                                                 \n",
      "                                                                 \n",
      " conv2d_70 (Conv2D)          (None, 2, 2, 16)          2320      \n",
      "                                                                 \n",
      " conv2d_71 (Conv2D)          (None, 2, 2, 16)          2320      \n",
      "                                                                 \n",
      " max_pooling2d_41 (MaxPoolin  (None, 1, 1, 16)         0         \n",
      " g2D)                                                            \n",
      "                                                                 \n",
      " batch_normalization_9 (Batc  (None, 1, 1, 16)         64        \n",
      " hNormalization)                                                 \n",
      "                                                                 \n",
      " flatten_10 (Flatten)        (None, 16)                0         \n",
      "                                                                 \n",
      " dense_20 (Dense)            (None, 256)               4352      \n",
      "                                                                 \n",
      " dropout_8 (Dropout)         (None, 256)               0         \n",
      "                                                                 \n",
      " dense_21 (Dense)            (None, 256)               65792     \n",
      "                                                                 \n",
      " dropout_9 (Dropout)         (None, 256)               0         \n",
      "                                                                 \n",
      " dense_22 (Dense)            (None, 10)                2570      \n",
      "                                                                 \n",
      "=================================================================\n",
      "Total params: 94,074\n",
      "Trainable params: 93,914\n",
      "Non-trainable params: 160\n",
      "_________________________________________________________________\n"
     ]
    }
   ],
   "source": [
    "model.summary()"
   ]
  }
 ],
 "metadata": {
  "kernelspec": {
   "display_name": "compmeth2022",
   "language": "python",
   "name": "python3"
  },
  "language_info": {
   "codemirror_mode": {
    "name": "ipython",
    "version": 3
   },
   "file_extension": ".py",
   "mimetype": "text/x-python",
   "name": "python",
   "nbconvert_exporter": "python",
   "pygments_lexer": "ipython3",
   "version": "3.10.4"
  },
  "orig_nbformat": 4
 },
 "nbformat": 4,
 "nbformat_minor": 2
}
