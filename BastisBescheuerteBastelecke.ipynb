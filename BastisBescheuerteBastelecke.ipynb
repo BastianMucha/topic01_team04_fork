{
 "cells": [
  {
   "cell_type": "code",
   "execution_count": 2,
   "metadata": {},
   "outputs": [],
   "source": [
    "import numpy as np\n",
    "import pandas as pnd\n",
    "\n",
    "dataset = 1\n",
    "match dataset:\n",
    "    case 1:\n",
    "        test = 'fashion-mnist_test.csv'\n",
    "        train = 'fashion-mnist_train.csv'\n",
    "    case 2: \n",
    "        test = \"mnist_test.csv\"\n",
    "        train = \"mnist_train.csv\"\n",
    "testdata = pnd.read_csv(test)\n",
    "traindata = pnd.read_csv(train)\n",
    "\n",
    "testdata_pixel = testdata.drop(testdata.columns[0], axis=1).to_numpy()\n",
    "traindata_pixel = traindata.drop(traindata.columns[0], axis=1).to_numpy()\n",
    "label_train = traindata[traindata.columns[0]].to_numpy()\n",
    "label_test = testdata[testdata.columns[0]].to_numpy()\n",
    "\n",
    "class_names = np.array([\"T-shirt / Top\", \"Trouser\", \"Pullover\", \"Dress\", \"Coat\", \"Sandal\", \"Shirt\", \"Sneaker\", \"Bag\", \"Ankle Boot\"])"
   ]
  },
  {
   "cell_type": "code",
   "execution_count": 6,
   "metadata": {},
   "outputs": [
    {
     "name": "stdout",
     "output_type": "stream",
     "text": [
      "(784, 784)\n",
      "Our eigenvectors explain 99.99999999999993 percent of total variance\n",
      "784 eigenvectors are used\n"
     ]
    }
   ],
   "source": [
    "from scipy import spatial\n",
    "from collections import Counter\n",
    "from scipy.stats import mode\n",
    "from functions.PCA import pca\n",
    "from pathlib import Path  \n",
    "filepath = Path('C:/Users/awark')  \n",
    "filepath.parent.mkdir(parents=True, exist_ok=True)  \n",
    "\n",
    "PCs_train, PCs_test = pca(traindata_pixel,testdata_pixel,1)\n",
    "\n",
    "\n",
    "def knn_kdtree(PCs_train, PCs_test, k, label_train, label_test, testsize):\n",
    "    \"\"\"returns the accuray of the KNN for test images\n",
    "\n",
    "    Args:\n",
    "        PCs_train (numpy array): transformed training data\n",
    "        PCs_test (numpy array): transformed testing data\n",
    "        k (int): number of neighbours \n",
    "        label_train (numpy array 1D): labels of training data\n",
    "        label_test (numpy array 1D): labels of testing data\n",
    "        testsize (int): number of testing images you want to classify\n",
    "        \n",
    "    Returns:\n",
    "        knn for number of testsize images\n",
    "    \"\"\"\n",
    "\n",
    "    result = np.array([])\n",
    "    kd_tree = spatial.KDTree(PCs_train,leafsize=10)\n",
    "    count_count = 0\n",
    "    for i in range(0, len(label_test), testsize):\n",
    "        if count_count % 10 == 0:\n",
    "            print(\"Current progress is \" + str(count_count*100/(len(label_test)/testsize)) + \" percent.\")\n",
    "        count_count += 1\n",
    "        dist, neighbour_index = kd_tree.query(PCs_test[i:i+testsize, None],p=2,k=k, workers = -1)\n",
    "        neighbour_label = label_train[neighbour_index]\n",
    "        batch_result = [mode(neighbour_label,axis=2)[0]]\n",
    "        batch_result = np.array(batch_result)\n",
    "        batch_result = np.squeeze(batch_result)\n",
    "        batch_result = batch_result.astype(int)\n",
    "        result = result.astype(int)\n",
    "        result = np.concatenate((result, batch_result), axis=0)\n",
    "    return result\n",
    "\n",
    "#asdf = knn_quality2(traindata_pixel, testdata_pixel, 3, label_train, label_test, 40)\n"
   ]
  },
  {
   "cell_type": "code",
   "execution_count": null,
   "metadata": {},
   "outputs": [],
   "source": []
  },
  {
   "cell_type": "code",
   "execution_count": 8,
   "metadata": {},
   "outputs": [
    {
     "name": "stdout",
     "output_type": "stream",
     "text": [
      "Current progress is 0.0 percent.\n",
      "Current progress is 4.0 percent.\n",
      "Current progress is 8.0 percent.\n",
      "Current progress is 12.0 percent.\n",
      "Current progress is 16.0 percent.\n",
      "Current progress is 20.0 percent.\n",
      "Current progress is 24.0 percent.\n",
      "Current progress is 28.0 percent.\n",
      "Current progress is 32.0 percent.\n",
      "Current progress is 36.0 percent.\n",
      "Current progress is 40.0 percent.\n",
      "Current progress is 44.0 percent.\n",
      "Current progress is 48.0 percent.\n",
      "Current progress is 52.0 percent.\n",
      "Current progress is 56.0 percent.\n",
      "Current progress is 60.0 percent.\n",
      "Current progress is 64.0 percent.\n",
      "Current progress is 68.0 percent.\n",
      "Current progress is 72.0 percent.\n",
      "Current progress is 76.0 percent.\n",
      "Current progress is 80.0 percent.\n",
      "Current progress is 84.0 percent.\n",
      "Current progress is 88.0 percent.\n",
      "Current progress is 92.0 percent.\n",
      "Current progress is 96.0 percent.\n",
      "Current progress is 0.0 percent.\n",
      "Current progress is 4.0 percent.\n",
      "Current progress is 8.0 percent.\n",
      "Current progress is 12.0 percent.\n",
      "Current progress is 16.0 percent.\n",
      "Current progress is 20.0 percent.\n",
      "Current progress is 24.0 percent.\n",
      "Current progress is 28.0 percent.\n",
      "Current progress is 32.0 percent.\n",
      "Current progress is 36.0 percent.\n",
      "Current progress is 40.0 percent.\n",
      "Current progress is 44.0 percent.\n",
      "Current progress is 48.0 percent.\n",
      "Current progress is 52.0 percent.\n",
      "Current progress is 56.0 percent.\n",
      "Current progress is 60.0 percent.\n",
      "Current progress is 64.0 percent.\n",
      "Current progress is 68.0 percent.\n",
      "Current progress is 72.0 percent.\n",
      "Current progress is 76.0 percent.\n",
      "Current progress is 80.0 percent.\n",
      "Current progress is 84.0 percent.\n",
      "Current progress is 88.0 percent.\n",
      "Current progress is 92.0 percent.\n",
      "Current progress is 96.0 percent.\n",
      "Current progress is 0.0 percent.\n",
      "Current progress is 4.0 percent.\n",
      "Current progress is 8.0 percent.\n",
      "Current progress is 12.0 percent.\n"
     ]
    }
   ],
   "source": [
    "total_var_results=[]\n",
    "for k in range(2, 16): \n",
    "    new_column = knn_kdtree(PCs_train, PCs_test, k, label_train, label_test, 40).tolist()\n",
    "    total_var_results.append(new_column)\n",
    "total_var_results = pnd.DataFrame(total_var_results).transpose()\n",
    "\n",
    "\n",
    "    \n",
    "\n",
    "    "
   ]
  },
  {
   "cell_type": "code",
   "execution_count": null,
   "metadata": {},
   "outputs": [
    {
     "ename": "NameError",
     "evalue": "name 'total_var_results' is not defined",
     "output_type": "error",
     "traceback": [
      "\u001b[1;31m---------------------------------------------------------------------------\u001b[0m",
      "\u001b[1;31mNameError\u001b[0m                                 Traceback (most recent call last)",
      "\u001b[1;32mc:\\Users\\awark\\Bioinfo Projekt\\BastisBescheuerteBastelecke.ipynb Cell 5\u001b[0m in \u001b[0;36m<cell line: 1>\u001b[1;34m()\u001b[0m\n\u001b[1;32m----> <a href='vscode-notebook-cell:/c%3A/Users/awark/Bioinfo%20Projekt/BastisBescheuerteBastelecke.ipynb#W4sZmlsZQ%3D%3D?line=0'>1</a>\u001b[0m total_var_results \u001b[39m=\u001b[39m pnd\u001b[39m.\u001b[39mDataFrame(total_var_results)\u001b[39m.\u001b[39mtranspose()\n",
      "\u001b[1;31mNameError\u001b[0m: name 'total_var_results' is not defined"
     ]
    }
   ],
   "source": [
    "total_var_results = pnd.DataFrame(total_var_results).transpose()\n",
    "\n",
    "\n"
   ]
  }
 ],
 "metadata": {
  "kernelspec": {
   "display_name": "compmeth2022",
   "language": "python",
   "name": "python3"
  },
  "language_info": {
   "codemirror_mode": {
    "name": "ipython",
    "version": 3
   },
   "file_extension": ".py",
   "mimetype": "text/x-python",
   "name": "python",
   "nbconvert_exporter": "python",
   "pygments_lexer": "ipython3",
   "version": "3.10.4"
  },
  "orig_nbformat": 4
 },
 "nbformat": 4,
 "nbformat_minor": 2
}
