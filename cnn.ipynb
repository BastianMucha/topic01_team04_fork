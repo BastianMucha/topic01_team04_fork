{
 "cells": [
  {
   "cell_type": "code",
   "execution_count": 3,
   "metadata": {},
   "outputs": [],
   "source": [
    "import numpy as np\n",
    "import pandas as pnd\n",
    "import matplotlib.pyplot as plt\n",
    "import tensorflow as tf\n",
    "from tensorflow import keras\n",
    "from tensorflow.keras.models import Sequential\n",
    "from tensorflow.keras.layers import Conv2D, MaxPooling2D, Dense, Flatten, Dropout, BatchNormalization\n",
    "\n",
    "dataset = 1\n",
    "match dataset:\n",
    "    case 1:\n",
    "        test = 'fashion-mnist_test.csv'\n",
    "        train = 'fashion-mnist_train.csv'\n",
    "    case 2: \n",
    "        test = \"mnist_test.csv\"\n",
    "        train = \"mnist_train.csv\"\n",
    "testdata = pnd.read_csv(test)\n",
    "traindata = pnd.read_csv(train)\n",
    "testdata_pixel = testdata.drop(testdata.columns[0], axis=1).to_numpy()\n",
    "traindata_pixel = traindata.drop(traindata.columns[0], axis=1).to_numpy()\n",
    "label_train = traindata[traindata.columns[0]].to_numpy()\n",
    "label_test = testdata[testdata.columns[0]].to_numpy()\n",
    "cnn_test = testdata_pixel.reshape(-1,28,28) /255.0\n",
    "cnn_train = traindata_pixel.reshape(-1,28,28) /255.0\n",
    "cnn_test = np.expand_dims(cnn_test,axis=3)\n",
    "cnn_train = np.expand_dims(cnn_train,axis=3)\n",
    "cnn_label_test = tf.keras.utils.to_categorical(label_test)\n",
    "cnn_label_train = tf.keras.utils.to_categorical(label_train)"
   ]
  },
  {
   "attachments": {},
   "cell_type": "markdown",
   "metadata": {},
   "source": [
    "We have now loaded and reshaped the data. The labels were converted into 10-dimensional to be compatible with the output of the softmax activation function and the dimension of the images was increased by one to show that there is only one color channel. "
   ]
  },
  {
   "cell_type": "code",
   "execution_count": 4,
   "metadata": {},
   "outputs": [
    {
     "name": "stdout",
     "output_type": "stream",
     "text": [
      "Epoch 1/5\n",
      "1875/1875 [==============================] - 327s 173ms/step - loss: 0.5410 - accuracy: 0.8015 - val_loss: 0.3915 - val_accuracy: 0.8554\n",
      "Epoch 2/5\n",
      "1875/1875 [==============================] - 23s 13ms/step - loss: 0.3666 - accuracy: 0.8658 - val_loss: 0.3388 - val_accuracy: 0.8767\n",
      "Epoch 3/5\n",
      "1875/1875 [==============================] - 31s 16ms/step - loss: 0.3196 - accuracy: 0.8832 - val_loss: 0.3437 - val_accuracy: 0.8756\n",
      "Epoch 4/5\n",
      "1875/1875 [==============================] - 54s 29ms/step - loss: 0.2881 - accuracy: 0.8949 - val_loss: 0.2961 - val_accuracy: 0.8913\n",
      "Epoch 5/5\n",
      "1875/1875 [==============================] - 52s 28ms/step - loss: 0.2653 - accuracy: 0.9022 - val_loss: 0.2771 - val_accuracy: 0.8958\n"
     ]
    },
    {
     "data": {
      "text/plain": [
       "<keras.callbacks.History at 0x21310ba7cd0>"
      ]
     },
     "execution_count": 4,
     "metadata": {},
     "output_type": "execute_result"
    }
   ],
   "source": [
    "simple_model = Sequential([\n",
    "  Conv2D(6, 5, input_shape=(28, 28, 1), activation=\"relu\",padding=\"same\"),\n",
    "  MaxPooling2D(pool_size=2,strides=2),\n",
    "  Conv2D(16, 5, activation=\"relu\",padding=\"valid\"),\n",
    "  MaxPooling2D(pool_size=2,strides=2),\n",
    "  Conv2D(120, 5, activation=\"relu\",padding=\"valid\"),\n",
    "  Flatten(),\n",
    "  Dense(84,activation=\"relu\"),\n",
    "  Dense(10, activation='softmax'),\n",
    "])\n",
    "simple_model.compile(\n",
    "  'adam',\n",
    "  loss='categorical_crossentropy',\n",
    "  metrics=['accuracy'],\n",
    ")\n",
    "simple_model.fit(\n",
    "  cnn_train,\n",
    "  cnn_label_train,\n",
    "  epochs=5,\n",
    "  validation_data=(cnn_test, cnn_label_test)\n",
    ")\n"
   ]
  },
  {
   "cell_type": "code",
   "execution_count": 20,
   "metadata": {},
   "outputs": [
    {
     "name": "stdout",
     "output_type": "stream",
     "text": [
      "313/313 [==============================] - 3s 10ms/step\n",
      "               T-shirt / Top  Trouser  Pullover  Dress   Coat  Sandal  Shirt   \n",
      "T-shirt / Top          80.57     0.40      1.66   1.92   0.09    0.10  17.94  \\\n",
      "Trouser                 0.55    98.09      0.12   0.48   0.09    0.10   0.21   \n",
      "Pullover                0.73     0.10     91.01   0.19   2.36    0.00   3.87   \n",
      "Dress                   2.29     1.50      1.89  89.44   2.45    0.00   2.69   \n",
      "Coat                    0.18     0.10     13.14   1.73  80.76    0.00   8.27   \n",
      "Sandal                  0.00     0.00      0.00   0.00   0.00   94.65   0.00   \n",
      "Shirt                   6.87     0.00     10.06   2.02   4.90    0.10  73.90   \n",
      "Sneaker                 0.00     0.00      0.00   0.00   0.00    1.17   0.00   \n",
      "Bag                     0.46     0.10      0.47   0.19   0.09    0.58   0.54   \n",
      "Ankle Boot              0.00     0.00      0.00   0.00   0.00    0.58   0.00   \n",
      "\n",
      "               Sneaker   Bag  Ankle Boot  \n",
      "T-shirt / Top     0.00   0.5        0.00  \n",
      "Trouser           0.00   0.3        0.00  \n",
      "Pullover          0.00   0.3        0.00  \n",
      "Dress             0.00   0.2        0.00  \n",
      "Coat              0.00   0.3        0.00  \n",
      "Sandal            5.16   0.1        0.49  \n",
      "Shirt             0.00   0.7        0.00  \n",
      "Sneaker          95.79   0.2        2.56  \n",
      "Bag               0.11  97.3        0.20  \n",
      "Ankle Boot        4.21   0.2       95.27  \n"
     ]
    }
   ],
   "source": [
    "import sklearn\n",
    "import pandas as pd\n",
    "from sklearn.metrics import confusion_matrix\n",
    "y_pred = simple_model.predict(cnn_test)\n",
    "y_pred = np.argmax(y_pred,axis=1)\n",
    "class_names = np.array([\"T-shirt / Top\", \"Trouser\", \"Pullover\", \"Dress\", \"Coat\", \"Sandal\", \"Shirt\", \"Sneaker\", \"Bag\", \"Ankle Boot\"])\n",
    "conf = sklearn.metrics.confusion_matrix(y_pred, label_test)\n",
    "conf_df = pd.DataFrame(conf, index=class_names, columns=class_names)\n",
    "#disable the following line if you want absolute values\n",
    "conf_df = round(conf_df*100 / conf_df.sum(axis=1),2)\n",
    "print(conf_df)"
   ]
  },
  {
   "attachments": {},
   "cell_type": "markdown",
   "metadata": {},
   "source": [
    "The previous code used a modifyed LeNet-5 architecture with max pooling instead of mean pooling and ReLU activation"
   ]
  },
  {
   "cell_type": "code",
   "execution_count": 3,
   "metadata": {},
   "outputs": [
    {
     "name": "stdout",
     "output_type": "stream",
     "text": [
      "Epoch 1/15\n",
      "469/469 [==============================] - 68s 139ms/step - loss: 0.5713 - accuracy: 0.7912 - val_loss: 1.2909 - val_accuracy: 0.5519\n",
      "Epoch 2/15\n",
      "469/469 [==============================] - 64s 137ms/step - loss: 0.3583 - accuracy: 0.8678 - val_loss: 0.3758 - val_accuracy: 0.8656\n",
      "Epoch 3/15\n",
      "469/469 [==============================] - 64s 137ms/step - loss: 0.3157 - accuracy: 0.8836 - val_loss: 0.2991 - val_accuracy: 0.8881\n",
      "Epoch 4/15\n",
      "469/469 [==============================] - 64s 136ms/step - loss: 0.2850 - accuracy: 0.8956 - val_loss: 0.3202 - val_accuracy: 0.8771\n",
      "Epoch 5/15\n",
      "469/469 [==============================] - 64s 137ms/step - loss: 0.2622 - accuracy: 0.9049 - val_loss: 0.3682 - val_accuracy: 0.8592\n",
      "Epoch 6/15\n",
      "469/469 [==============================] - 63s 134ms/step - loss: 0.2506 - accuracy: 0.9086 - val_loss: 0.3613 - val_accuracy: 0.8742\n",
      "Epoch 7/15\n",
      "469/469 [==============================] - 66s 142ms/step - loss: 0.2366 - accuracy: 0.9125 - val_loss: 0.2665 - val_accuracy: 0.9062\n",
      "Epoch 8/15\n",
      "469/469 [==============================] - 65s 139ms/step - loss: 0.2257 - accuracy: 0.9167 - val_loss: 0.2461 - val_accuracy: 0.9063\n",
      "Epoch 9/15\n",
      "469/469 [==============================] - 68s 144ms/step - loss: 0.2180 - accuracy: 0.9194 - val_loss: 0.2403 - val_accuracy: 0.9128\n",
      "Epoch 10/15\n",
      "469/469 [==============================] - 67s 143ms/step - loss: 0.2078 - accuracy: 0.9234 - val_loss: 0.2784 - val_accuracy: 0.8947\n",
      "Epoch 11/15\n",
      "469/469 [==============================] - 65s 139ms/step - loss: 0.2018 - accuracy: 0.9249 - val_loss: 0.2732 - val_accuracy: 0.8915\n",
      "Epoch 12/15\n",
      "469/469 [==============================] - 63s 134ms/step - loss: 0.1943 - accuracy: 0.9284 - val_loss: 0.2702 - val_accuracy: 0.9046\n",
      "Epoch 13/15\n",
      "469/469 [==============================] - 64s 136ms/step - loss: 0.1870 - accuracy: 0.9310 - val_loss: 0.2401 - val_accuracy: 0.9118\n",
      "Epoch 14/15\n",
      "469/469 [==============================] - 63s 134ms/step - loss: 0.1852 - accuracy: 0.9317 - val_loss: 0.2529 - val_accuracy: 0.9107\n",
      "Epoch 15/15\n",
      "469/469 [==============================] - 63s 134ms/step - loss: 0.1766 - accuracy: 0.9349 - val_loss: 0.2172 - val_accuracy: 0.9197\n"
     ]
    },
    {
     "data": {
      "text/plain": [
       "<keras.callbacks.History at 0x202b6caa050>"
      ]
     },
     "execution_count": 3,
     "metadata": {},
     "output_type": "execute_result"
    }
   ],
   "source": [
    "vgg_model = Sequential([\n",
    "  Conv2D(32, 3, input_shape=(28, 28, 1), activation=\"relu\",padding=\"same\"),\n",
    "  Conv2D(32, 3, activation=\"relu\",padding=\"same\"),\n",
    "  MaxPooling2D(pool_size=2,strides=2),\n",
    "  BatchNormalization(),\n",
    "  Conv2D(16, 3, activation=\"relu\",padding=\"same\"),\n",
    "  Conv2D(16, 3, activation=\"relu\",padding=\"same\"),\n",
    "  MaxPooling2D(pool_size=2,strides=2),\n",
    "  BatchNormalization(),\n",
    "  Conv2D(16, 3, activation=\"relu\",padding=\"same\"),\n",
    "  Conv2D(16, 3, activation=\"relu\",padding=\"same\"),\n",
    "  MaxPooling2D(pool_size=2,strides=2),\n",
    "  BatchNormalization(),\n",
    "  Conv2D(16, 3, activation=\"relu\",padding=\"same\"),\n",
    "  Conv2D(16, 3, activation=\"relu\",padding=\"same\"),\n",
    "  MaxPooling2D(pool_size=2,strides=1),\n",
    "  BatchNormalization(),\n",
    "  Conv2D(16, 3, activation=\"relu\",padding=\"same\"),\n",
    "  Conv2D(16, 3, activation=\"relu\",padding=\"same\"),\n",
    "  MaxPooling2D(pool_size=2,strides=1),\n",
    "  BatchNormalization(),\n",
    "  Flatten(),\n",
    "  Dense(256,activation=\"relu\"),\n",
    "  Dropout(0.15),\n",
    "  Dense(256,activation=\"relu\"),\n",
    "  Dropout(0.15),\n",
    "  Dense(10, activation='softmax'),\n",
    "])\n",
    "vgg_model.compile(\n",
    "  'adam',\n",
    "  loss='categorical_crossentropy',\n",
    "  metrics=['accuracy'],\n",
    ")\n",
    "vgg_model.fit(\n",
    "  cnn_train,\n",
    "  cnn_label_train,\n",
    "  epochs=15,\n",
    "  validation_data=(cnn_test, cnn_label_test),\n",
    "  batch_size=128\n",
    ")"
   ]
  },
  {
   "cell_type": "code",
   "execution_count": 1,
   "metadata": {},
   "outputs": [
    {
     "ename": "NameError",
     "evalue": "name 'Sequential' is not defined",
     "output_type": "error",
     "traceback": [
      "\u001b[1;31m---------------------------------------------------------------------------\u001b[0m",
      "\u001b[1;31mNameError\u001b[0m                                 Traceback (most recent call last)",
      "\u001b[1;32mc:\\Users\\basti\\compmeth2022\\topic01_team04\\cnn.ipynb Cell 7\u001b[0m in \u001b[0;36m<cell line: 1>\u001b[1;34m()\u001b[0m\n\u001b[1;32m----> <a href='vscode-notebook-cell:/c%3A/Users/basti/compmeth2022/topic01_team04/cnn.ipynb#W5sZmlsZQ%3D%3D?line=0'>1</a>\u001b[0m bastis_model \u001b[39m=\u001b[39m Sequential([\n\u001b[0;32m      <a href='vscode-notebook-cell:/c%3A/Users/basti/compmeth2022/topic01_team04/cnn.ipynb#W5sZmlsZQ%3D%3D?line=1'>2</a>\u001b[0m   Conv2D(\u001b[39m16\u001b[39m, \u001b[39m5\u001b[39m, input_shape\u001b[39m=\u001b[39m(\u001b[39m28\u001b[39m, \u001b[39m28\u001b[39m, \u001b[39m1\u001b[39m), activation\u001b[39m=\u001b[39m\u001b[39m\"\u001b[39m\u001b[39mrelu\u001b[39m\u001b[39m\"\u001b[39m,padding\u001b[39m=\u001b[39m\u001b[39m\"\u001b[39m\u001b[39msame\u001b[39m\u001b[39m\"\u001b[39m),\n\u001b[0;32m      <a href='vscode-notebook-cell:/c%3A/Users/basti/compmeth2022/topic01_team04/cnn.ipynb#W5sZmlsZQ%3D%3D?line=2'>3</a>\u001b[0m   Conv2D(\u001b[39m16\u001b[39m, \u001b[39m5\u001b[39m, activation\u001b[39m=\u001b[39m\u001b[39m\"\u001b[39m\u001b[39mrelu\u001b[39m\u001b[39m\"\u001b[39m,padding\u001b[39m=\u001b[39m\u001b[39m\"\u001b[39m\u001b[39msame\u001b[39m\u001b[39m\"\u001b[39m),\n\u001b[0;32m      <a href='vscode-notebook-cell:/c%3A/Users/basti/compmeth2022/topic01_team04/cnn.ipynb#W5sZmlsZQ%3D%3D?line=3'>4</a>\u001b[0m   MaxPooling2D(pool_size\u001b[39m=\u001b[39m\u001b[39m2\u001b[39m,strides\u001b[39m=\u001b[39m\u001b[39m2\u001b[39m),\n\u001b[0;32m      <a href='vscode-notebook-cell:/c%3A/Users/basti/compmeth2022/topic01_team04/cnn.ipynb#W5sZmlsZQ%3D%3D?line=4'>5</a>\u001b[0m   BatchNormalization(),\n\u001b[0;32m      <a href='vscode-notebook-cell:/c%3A/Users/basti/compmeth2022/topic01_team04/cnn.ipynb#W5sZmlsZQ%3D%3D?line=5'>6</a>\u001b[0m   Conv2D(\u001b[39m32\u001b[39m, \u001b[39m3\u001b[39m, activation\u001b[39m=\u001b[39m\u001b[39m\"\u001b[39m\u001b[39mrelu\u001b[39m\u001b[39m\"\u001b[39m,padding\u001b[39m=\u001b[39m\u001b[39m\"\u001b[39m\u001b[39msame\u001b[39m\u001b[39m\"\u001b[39m),\n\u001b[0;32m      <a href='vscode-notebook-cell:/c%3A/Users/basti/compmeth2022/topic01_team04/cnn.ipynb#W5sZmlsZQ%3D%3D?line=6'>7</a>\u001b[0m   Conv2D(\u001b[39m32\u001b[39m, \u001b[39m3\u001b[39m, activation\u001b[39m=\u001b[39m\u001b[39m\"\u001b[39m\u001b[39mrelu\u001b[39m\u001b[39m\"\u001b[39m,padding\u001b[39m=\u001b[39m\u001b[39m\"\u001b[39m\u001b[39msame\u001b[39m\u001b[39m\"\u001b[39m),\n\u001b[0;32m      <a href='vscode-notebook-cell:/c%3A/Users/basti/compmeth2022/topic01_team04/cnn.ipynb#W5sZmlsZQ%3D%3D?line=7'>8</a>\u001b[0m   MaxPooling2D(pool_size\u001b[39m=\u001b[39m\u001b[39m2\u001b[39m,strides\u001b[39m=\u001b[39m\u001b[39m2\u001b[39m),\n\u001b[0;32m      <a href='vscode-notebook-cell:/c%3A/Users/basti/compmeth2022/topic01_team04/cnn.ipynb#W5sZmlsZQ%3D%3D?line=8'>9</a>\u001b[0m   BatchNormalization(),\n\u001b[0;32m     <a href='vscode-notebook-cell:/c%3A/Users/basti/compmeth2022/topic01_team04/cnn.ipynb#W5sZmlsZQ%3D%3D?line=9'>10</a>\u001b[0m   Conv2D(\u001b[39m64\u001b[39m, \u001b[39m3\u001b[39m, activation\u001b[39m=\u001b[39m\u001b[39m\"\u001b[39m\u001b[39mrelu\u001b[39m\u001b[39m\"\u001b[39m,padding\u001b[39m=\u001b[39m\u001b[39m\"\u001b[39m\u001b[39msame\u001b[39m\u001b[39m\"\u001b[39m),\n\u001b[0;32m     <a href='vscode-notebook-cell:/c%3A/Users/basti/compmeth2022/topic01_team04/cnn.ipynb#W5sZmlsZQ%3D%3D?line=10'>11</a>\u001b[0m   Conv2D(\u001b[39m64\u001b[39m, \u001b[39m3\u001b[39m, activation\u001b[39m=\u001b[39m\u001b[39m\"\u001b[39m\u001b[39mrelu\u001b[39m\u001b[39m\"\u001b[39m,padding\u001b[39m=\u001b[39m\u001b[39m\"\u001b[39m\u001b[39msame\u001b[39m\u001b[39m\"\u001b[39m),\n\u001b[0;32m     <a href='vscode-notebook-cell:/c%3A/Users/basti/compmeth2022/topic01_team04/cnn.ipynb#W5sZmlsZQ%3D%3D?line=11'>12</a>\u001b[0m   MaxPooling2D(pool_size\u001b[39m=\u001b[39m\u001b[39m2\u001b[39m,strides\u001b[39m=\u001b[39m\u001b[39m2\u001b[39m),\n\u001b[0;32m     <a href='vscode-notebook-cell:/c%3A/Users/basti/compmeth2022/topic01_team04/cnn.ipynb#W5sZmlsZQ%3D%3D?line=12'>13</a>\u001b[0m   BatchNormalization(),\n\u001b[0;32m     <a href='vscode-notebook-cell:/c%3A/Users/basti/compmeth2022/topic01_team04/cnn.ipynb#W5sZmlsZQ%3D%3D?line=13'>14</a>\u001b[0m   Conv2D(\u001b[39m64\u001b[39m, \u001b[39m3\u001b[39m, activation\u001b[39m=\u001b[39m\u001b[39m\"\u001b[39m\u001b[39mrelu\u001b[39m\u001b[39m\"\u001b[39m,padding\u001b[39m=\u001b[39m\u001b[39m\"\u001b[39m\u001b[39msame\u001b[39m\u001b[39m\"\u001b[39m),\n\u001b[0;32m     <a href='vscode-notebook-cell:/c%3A/Users/basti/compmeth2022/topic01_team04/cnn.ipynb#W5sZmlsZQ%3D%3D?line=14'>15</a>\u001b[0m   Conv2D(\u001b[39m64\u001b[39m, \u001b[39m3\u001b[39m, activation\u001b[39m=\u001b[39m\u001b[39m\"\u001b[39m\u001b[39mrelu\u001b[39m\u001b[39m\"\u001b[39m,padding\u001b[39m=\u001b[39m\u001b[39m\"\u001b[39m\u001b[39msame\u001b[39m\u001b[39m\"\u001b[39m),\n\u001b[0;32m     <a href='vscode-notebook-cell:/c%3A/Users/basti/compmeth2022/topic01_team04/cnn.ipynb#W5sZmlsZQ%3D%3D?line=15'>16</a>\u001b[0m   Conv2D(\u001b[39m64\u001b[39m, \u001b[39m3\u001b[39m, activation\u001b[39m=\u001b[39m\u001b[39m\"\u001b[39m\u001b[39mrelu\u001b[39m\u001b[39m\"\u001b[39m,padding\u001b[39m=\u001b[39m\u001b[39m\"\u001b[39m\u001b[39msame\u001b[39m\u001b[39m\"\u001b[39m),\n\u001b[0;32m     <a href='vscode-notebook-cell:/c%3A/Users/basti/compmeth2022/topic01_team04/cnn.ipynb#W5sZmlsZQ%3D%3D?line=16'>17</a>\u001b[0m   MaxPooling2D(pool_size\u001b[39m=\u001b[39m\u001b[39m2\u001b[39m,strides\u001b[39m=\u001b[39m\u001b[39m1\u001b[39m),\n\u001b[0;32m     <a href='vscode-notebook-cell:/c%3A/Users/basti/compmeth2022/topic01_team04/cnn.ipynb#W5sZmlsZQ%3D%3D?line=17'>18</a>\u001b[0m   BatchNormalization(),\n\u001b[0;32m     <a href='vscode-notebook-cell:/c%3A/Users/basti/compmeth2022/topic01_team04/cnn.ipynb#W5sZmlsZQ%3D%3D?line=18'>19</a>\u001b[0m   Flatten(),\n\u001b[0;32m     <a href='vscode-notebook-cell:/c%3A/Users/basti/compmeth2022/topic01_team04/cnn.ipynb#W5sZmlsZQ%3D%3D?line=19'>20</a>\u001b[0m   Dense(\u001b[39m256\u001b[39m,activation\u001b[39m=\u001b[39m\u001b[39m\"\u001b[39m\u001b[39mrelu\u001b[39m\u001b[39m\"\u001b[39m),\n\u001b[0;32m     <a href='vscode-notebook-cell:/c%3A/Users/basti/compmeth2022/topic01_team04/cnn.ipynb#W5sZmlsZQ%3D%3D?line=20'>21</a>\u001b[0m   Dropout(\u001b[39m0.1\u001b[39m),\n\u001b[0;32m     <a href='vscode-notebook-cell:/c%3A/Users/basti/compmeth2022/topic01_team04/cnn.ipynb#W5sZmlsZQ%3D%3D?line=21'>22</a>\u001b[0m   Dense(\u001b[39m512\u001b[39m,activation\u001b[39m=\u001b[39m\u001b[39m\"\u001b[39m\u001b[39mrelu\u001b[39m\u001b[39m\"\u001b[39m),\n\u001b[0;32m     <a href='vscode-notebook-cell:/c%3A/Users/basti/compmeth2022/topic01_team04/cnn.ipynb#W5sZmlsZQ%3D%3D?line=22'>23</a>\u001b[0m   Dropout(\u001b[39m0.1\u001b[39m),\n\u001b[0;32m     <a href='vscode-notebook-cell:/c%3A/Users/basti/compmeth2022/topic01_team04/cnn.ipynb#W5sZmlsZQ%3D%3D?line=23'>24</a>\u001b[0m   Dense(\u001b[39m10\u001b[39m, activation\u001b[39m=\u001b[39m\u001b[39m'\u001b[39m\u001b[39msoftmax\u001b[39m\u001b[39m'\u001b[39m),\n\u001b[0;32m     <a href='vscode-notebook-cell:/c%3A/Users/basti/compmeth2022/topic01_team04/cnn.ipynb#W5sZmlsZQ%3D%3D?line=24'>25</a>\u001b[0m ])\n\u001b[0;32m     <a href='vscode-notebook-cell:/c%3A/Users/basti/compmeth2022/topic01_team04/cnn.ipynb#W5sZmlsZQ%3D%3D?line=25'>26</a>\u001b[0m bastis_model\u001b[39m.\u001b[39mcompile(\n\u001b[0;32m     <a href='vscode-notebook-cell:/c%3A/Users/basti/compmeth2022/topic01_team04/cnn.ipynb#W5sZmlsZQ%3D%3D?line=26'>27</a>\u001b[0m   \u001b[39m'\u001b[39m\u001b[39madam\u001b[39m\u001b[39m'\u001b[39m,\n\u001b[0;32m     <a href='vscode-notebook-cell:/c%3A/Users/basti/compmeth2022/topic01_team04/cnn.ipynb#W5sZmlsZQ%3D%3D?line=27'>28</a>\u001b[0m   loss\u001b[39m=\u001b[39m\u001b[39m'\u001b[39m\u001b[39mcategorical_crossentropy\u001b[39m\u001b[39m'\u001b[39m,\n\u001b[0;32m     <a href='vscode-notebook-cell:/c%3A/Users/basti/compmeth2022/topic01_team04/cnn.ipynb#W5sZmlsZQ%3D%3D?line=28'>29</a>\u001b[0m   metrics\u001b[39m=\u001b[39m[\u001b[39m'\u001b[39m\u001b[39maccuracy\u001b[39m\u001b[39m'\u001b[39m],\n\u001b[0;32m     <a href='vscode-notebook-cell:/c%3A/Users/basti/compmeth2022/topic01_team04/cnn.ipynb#W5sZmlsZQ%3D%3D?line=29'>30</a>\u001b[0m )\n\u001b[0;32m     <a href='vscode-notebook-cell:/c%3A/Users/basti/compmeth2022/topic01_team04/cnn.ipynb#W5sZmlsZQ%3D%3D?line=30'>31</a>\u001b[0m tf\u001b[39m.\u001b[39mkeras\u001b[39m.\u001b[39mcallbacks\u001b[39m.\u001b[39mEarlyStopping(\n\u001b[0;32m     <a href='vscode-notebook-cell:/c%3A/Users/basti/compmeth2022/topic01_team04/cnn.ipynb#W5sZmlsZQ%3D%3D?line=31'>32</a>\u001b[0m     monitor\u001b[39m=\u001b[39m\u001b[39m'\u001b[39m\u001b[39mloss\u001b[39m\u001b[39m'\u001b[39m,\n\u001b[0;32m     <a href='vscode-notebook-cell:/c%3A/Users/basti/compmeth2022/topic01_team04/cnn.ipynb#W5sZmlsZQ%3D%3D?line=32'>33</a>\u001b[0m     min_delta\u001b[39m=\u001b[39m\u001b[39m0.01\u001b[39m,\n\u001b[1;32m   (...)\u001b[0m\n\u001b[0;32m     <a href='vscode-notebook-cell:/c%3A/Users/basti/compmeth2022/topic01_team04/cnn.ipynb#W5sZmlsZQ%3D%3D?line=37'>38</a>\u001b[0m     start_from_epoch\u001b[39m=\u001b[39m\u001b[39m0\u001b[39m\n\u001b[0;32m     <a href='vscode-notebook-cell:/c%3A/Users/basti/compmeth2022/topic01_team04/cnn.ipynb#W5sZmlsZQ%3D%3D?line=38'>39</a>\u001b[0m )\n",
      "\u001b[1;31mNameError\u001b[0m: name 'Sequential' is not defined"
     ]
    }
   ],
   "source": [
    "bastis_model = Sequential([\n",
    "  Conv2D(16, 5, input_shape=(28, 28, 1), activation=\"relu\",padding=\"same\"),\n",
    "  Conv2D(16, 5, activation=\"relu\",padding=\"same\"),\n",
    "  MaxPooling2D(pool_size=2,strides=2),\n",
    "  BatchNormalization(),\n",
    "  Conv2D(32, 3, activation=\"relu\",padding=\"same\"),\n",
    "  Conv2D(32, 3, activation=\"relu\",padding=\"same\"),\n",
    "  MaxPooling2D(pool_size=2,strides=2),\n",
    "  BatchNormalization(),\n",
    "  Conv2D(64, 3, activation=\"relu\",padding=\"same\"),\n",
    "  Conv2D(64, 3, activation=\"relu\",padding=\"same\"),\n",
    "  MaxPooling2D(pool_size=2,strides=2),\n",
    "  BatchNormalization(),\n",
    "  Conv2D(64, 3, activation=\"relu\",padding=\"same\"),\n",
    "  Conv2D(64, 3, activation=\"relu\",padding=\"same\"),\n",
    "  Conv2D(64, 3, activation=\"relu\",padding=\"same\"),\n",
    "  MaxPooling2D(pool_size=2,strides=1),\n",
    "  BatchNormalization(),\n",
    "  Flatten(),\n",
    "  Dense(256,activation=\"relu\"),\n",
    "  Dropout(0.1),\n",
    "  Dense(512,activation=\"relu\"),\n",
    "  Dropout(0.1),\n",
    "  Dense(10, activation='softmax'),\n",
    "])\n",
    "bastis_model.compile(\n",
    "  'adam',\n",
    "  loss='categorical_crossentropy',\n",
    "  metrics=['accuracy'],\n",
    ")\n",
    "tf.keras.callbacks.EarlyStopping(\n",
    "    monitor='loss',\n",
    "    min_delta=0.01,\n",
    "    patience=2,\n",
    "    verbose=0,\n",
    "    mode='auto',\n",
    "    restore_best_weights=True,\n",
    "    start_from_epoch=0\n",
    ")\n",
    "history = bastis_model.fit(\n",
    "  cnn_train,\n",
    "  cnn_label_train,\n",
    "  epochs = 10,\n",
    "  validation_data=(cnn_test, cnn_label_test),\n",
    "  batch_size=256\n",
    ")"
   ]
  }
 ],
 "metadata": {
  "kernelspec": {
   "display_name": "compmeth2022",
   "language": "python",
   "name": "python3"
  },
  "language_info": {
   "codemirror_mode": {
    "name": "ipython",
    "version": 3
   },
   "file_extension": ".py",
   "mimetype": "text/x-python",
   "name": "python",
   "nbconvert_exporter": "python",
   "pygments_lexer": "ipython3",
   "version": "3.10.4"
  },
  "orig_nbformat": 4
 },
 "nbformat": 4,
 "nbformat_minor": 2
}
