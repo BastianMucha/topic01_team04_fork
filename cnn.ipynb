{
 "cells": [
  {
   "cell_type": "code",
   "execution_count": 2,
   "metadata": {},
   "outputs": [],
   "source": [
    "import numpy as np\n",
    "import pandas as pnd\n",
    "import matplotlib.pyplot as plt\n",
    "import tensorflow as tf\n",
    "import sklearn\n",
    "import os\n",
    "import seaborn as sns\n",
    "\n",
    "from tensorflow import keras\n",
    "from tensorflow.keras.models import Sequential\n",
    "from tensorflow.keras.layers import Conv2D, MaxPooling2D, Dense, Flatten, Dropout, BatchNormalization\n",
    "from sklearn.metrics import confusion_matrix\n",
    "\n",
    "#load data\n",
    "dataset = 1\n",
    "match dataset:\n",
    "    case 1:\n",
    "        test = 'fashion-mnist_test.csv'\n",
    "        train = 'fashion-mnist_train.csv'\n",
    "    case 2: \n",
    "        test = \"mnist_test.csv\"\n",
    "        train = \"mnist_train.csv\"\n",
    "testdata = pnd.read_csv(test)\n",
    "traindata = pnd.read_csv(train)\n",
    "\n",
    "#split into images and labels\n",
    "testdata_pixel = testdata.drop(testdata.columns[0], axis=1).to_numpy()\n",
    "traindata_pixel = traindata.drop(traindata.columns[0], axis=1).to_numpy()\n",
    "label_train = traindata[traindata.columns[0]].to_numpy()\n",
    "label_test = testdata[testdata.columns[0]].to_numpy()\n",
    "\n",
    "#reshape for cnn\n",
    "cnn_test = testdata_pixel.reshape(-1,28,28) /255.0\n",
    "cnn_train = traindata_pixel.reshape(-1,28,28) /255.0\n",
    "cnn_test = np.expand_dims(cnn_test,axis=3)\n",
    "cnn_train = np.expand_dims(cnn_train,axis=3)\n",
    "cnn_label_test = tf.keras.utils.to_categorical(label_test)\n",
    "cnn_label_train = tf.keras.utils.to_categorical(label_train)\n",
    "\n",
    "softmax_nodes = 10\n",
    "class_names = np.array([\"T-shirt / Top\", \"Trouser\", \"Pullover\", \"Dress\", \"Coat\", \"Sandal\", \"Shirt\", \"Sneaker\", \"Bag\", \"Ankle Boot\"])\n",
    "\n",
    "#summarize the classes 0 and 6\n",
    "summarize_shirt = False\n",
    "if summarize_shirt == True:\n",
    "    label_test[label_test==6]=0\n",
    "    label_test[label_test>=7]-=1\n",
    "    label_train[label_train==6]=0\n",
    "    label_train[label_train>=7]-=1\n",
    "    cnn_label_test = tf.keras.utils.to_categorical(label_test)\n",
    "    cnn_label_train = tf.keras.utils.to_categorical(label_train)\n",
    "    softmax_nodes -= 1\n",
    "    class_names = np.delete(class_names,6)"
   ]
  },
  {
   "attachments": {},
   "cell_type": "markdown",
   "metadata": {},
   "source": [
    "We have now loaded and reshaped the data. The labels were converted into 10-dimensional to be compatible with the output of the softmax activation function and the dimension of the images was increased by one to show that there is only one color channel. "
   ]
  },
  {
   "cell_type": "code",
   "execution_count": 2,
   "metadata": {},
   "outputs": [
    {
     "name": "stdout",
     "output_type": "stream",
     "text": [
      "Epoch 1/20\n",
      "1875/1875 [==============================] - 46s 23ms/step - loss: 0.5508 - accuracy: 0.7966 - val_loss: 0.3896 - val_accuracy: 0.8596\n",
      "Epoch 2/20\n",
      "1875/1875 [==============================] - 58s 31ms/step - loss: 0.3597 - accuracy: 0.8686 - val_loss: 0.3471 - val_accuracy: 0.8692\n",
      "Epoch 3/20\n",
      "1875/1875 [==============================] - 69s 37ms/step - loss: 0.3151 - accuracy: 0.8843 - val_loss: 0.3063 - val_accuracy: 0.8897\n",
      "Epoch 4/20\n",
      "1875/1875 [==============================] - 77s 41ms/step - loss: 0.2837 - accuracy: 0.8944 - val_loss: 0.2893 - val_accuracy: 0.8935\n",
      "Epoch 5/20\n",
      "1875/1875 [==============================] - 61s 33ms/step - loss: 0.2623 - accuracy: 0.9036 - val_loss: 0.2856 - val_accuracy: 0.8914\n",
      "Epoch 6/20\n",
      "1875/1875 [==============================] - 70s 37ms/step - loss: 0.2454 - accuracy: 0.9080 - val_loss: 0.2702 - val_accuracy: 0.8978\n",
      "Epoch 7/20\n",
      "1875/1875 [==============================] - 61s 33ms/step - loss: 0.2288 - accuracy: 0.9139 - val_loss: 0.2627 - val_accuracy: 0.9049\n",
      "Epoch 8/20\n",
      "1875/1875 [==============================] - 57s 30ms/step - loss: 0.2153 - accuracy: 0.9184 - val_loss: 0.2650 - val_accuracy: 0.9031\n",
      "Epoch 9/20\n",
      "1875/1875 [==============================] - 6458s 3s/step - loss: 0.2025 - accuracy: 0.9226 - val_loss: 0.2802 - val_accuracy: 0.8969\n",
      "Epoch 10/20\n",
      "1875/1875 [==============================] - 56s 30ms/step - loss: 0.1924 - accuracy: 0.9273 - val_loss: 0.2658 - val_accuracy: 0.9034\n",
      "Epoch 11/20\n",
      "1875/1875 [==============================] - 38s 20ms/step - loss: 0.1811 - accuracy: 0.9317 - val_loss: 0.2688 - val_accuracy: 0.9075\n",
      "Epoch 12/20\n",
      "1875/1875 [==============================] - 35s 19ms/step - loss: 0.1732 - accuracy: 0.9340 - val_loss: 0.2655 - val_accuracy: 0.9074\n",
      "Epoch 13/20\n",
      "1875/1875 [==============================] - 36s 19ms/step - loss: 0.1636 - accuracy: 0.9381 - val_loss: 0.3119 - val_accuracy: 0.8998\n",
      "Epoch 14/20\n",
      "1875/1875 [==============================] - 37s 19ms/step - loss: 0.1549 - accuracy: 0.9402 - val_loss: 0.2828 - val_accuracy: 0.9036\n",
      "Epoch 15/20\n",
      "1875/1875 [==============================] - 36s 19ms/step - loss: 0.1475 - accuracy: 0.9437 - val_loss: 0.2825 - val_accuracy: 0.9097\n",
      "Epoch 16/20\n",
      "1875/1875 [==============================] - 36s 19ms/step - loss: 0.1415 - accuracy: 0.9462 - val_loss: 0.2981 - val_accuracy: 0.9042\n",
      "Epoch 17/20\n",
      "1875/1875 [==============================] - 35s 19ms/step - loss: 0.1325 - accuracy: 0.9482 - val_loss: 0.3168 - val_accuracy: 0.9010\n",
      "Epoch 18/20\n",
      "1875/1875 [==============================] - 37s 20ms/step - loss: 0.1260 - accuracy: 0.9515 - val_loss: 0.3014 - val_accuracy: 0.9087\n",
      "Epoch 19/20\n",
      "1875/1875 [==============================] - 35s 19ms/step - loss: 0.1222 - accuracy: 0.9538 - val_loss: 0.3209 - val_accuracy: 0.9056\n",
      "Epoch 20/20\n",
      "1875/1875 [==============================] - 37s 20ms/step - loss: 0.1192 - accuracy: 0.9538 - val_loss: 0.3240 - val_accuracy: 0.9085\n"
     ]
    },
    {
     "data": {
      "text/plain": [
       "<keras.callbacks.History at 0x1b2da1c33d0>"
      ]
     },
     "execution_count": 2,
     "metadata": {},
     "output_type": "execute_result"
    }
   ],
   "source": [
    "lenet5_model = Sequential([\n",
    "  Conv2D(6, 5, input_shape=(28, 28, 1), activation=\"relu\",padding=\"same\"),\n",
    "  MaxPooling2D(pool_size=2,strides=2),\n",
    "  Conv2D(16, 5, activation=\"relu\",padding=\"valid\"),\n",
    "  MaxPooling2D(pool_size=2,strides=2),\n",
    "  Conv2D(120, 5, activation=\"relu\",padding=\"valid\"),\n",
    "  Flatten(),\n",
    "  Dense(84,activation=\"relu\"),\n",
    "  Dense(softmax_nodes, activation='softmax'),\n",
    "])\n",
    "lenet5_model.compile(\n",
    "  'adam',\n",
    "  loss='categorical_crossentropy',\n",
    "  metrics=['accuracy'],\n",
    ")\n",
    "lenet5_model.fit(\n",
    "  cnn_train,\n",
    "  cnn_label_train,\n",
    "  epochs=20,\n",
    "  validation_data=(cnn_test, cnn_label_test)\n",
    ")"
   ]
  },
  {
   "cell_type": "code",
   "execution_count": 6,
   "metadata": {},
   "outputs": [
    {
     "name": "stdout",
     "output_type": "stream",
     "text": [
      "313/313 [==============================] - 2s 6ms/step - loss: 0.3240 - accuracy: 0.9085\n"
     ]
    },
    {
     "data": {
      "text/plain": [
       "[0.3240226209163666, 0.9085000157356262]"
      ]
     },
     "execution_count": 6,
     "metadata": {},
     "output_type": "execute_result"
    }
   ],
   "source": [
    "lenet5_model.evaluate(cnn_test,cnn_label_test)"
   ]
  },
  {
   "attachments": {},
   "cell_type": "markdown",
   "metadata": {},
   "source": [
    "The previous code used a modifyed LeNet-5 architecture with max pooling instead of mean pooling and ReLU activation"
   ]
  },
  {
   "cell_type": "code",
   "execution_count": 7,
   "metadata": {},
   "outputs": [
    {
     "name": "stdout",
     "output_type": "stream",
     "text": [
      "Epoch 1/20\n",
      "469/469 [==============================] - 82s 167ms/step - loss: 0.5797 - accuracy: 0.7845 - val_loss: 0.6758 - val_accuracy: 0.7476\n",
      "Epoch 2/20\n",
      "469/469 [==============================] - 137s 292ms/step - loss: 0.3626 - accuracy: 0.8670 - val_loss: 0.3314 - val_accuracy: 0.8734\n",
      "Epoch 3/20\n",
      "469/469 [==============================] - 147s 313ms/step - loss: 0.3150 - accuracy: 0.8846 - val_loss: 0.3066 - val_accuracy: 0.8848\n",
      "Epoch 4/20\n",
      "469/469 [==============================] - 121s 257ms/step - loss: 0.2808 - accuracy: 0.8974 - val_loss: 0.2882 - val_accuracy: 0.8911\n",
      "Epoch 5/20\n",
      "469/469 [==============================] - 131s 279ms/step - loss: 0.2594 - accuracy: 0.9050 - val_loss: 0.2667 - val_accuracy: 0.9003\n",
      "Epoch 6/20\n",
      "469/469 [==============================] - 152s 323ms/step - loss: 0.2501 - accuracy: 0.9094 - val_loss: 0.2991 - val_accuracy: 0.8926\n",
      "Epoch 7/20\n",
      "469/469 [==============================] - 152s 324ms/step - loss: 0.2353 - accuracy: 0.9140 - val_loss: 0.2592 - val_accuracy: 0.9061\n",
      "Epoch 8/20\n",
      "469/469 [==============================] - 140s 299ms/step - loss: 0.2220 - accuracy: 0.9192 - val_loss: 0.2476 - val_accuracy: 0.9114\n",
      "Epoch 9/20\n",
      "469/469 [==============================] - 154s 328ms/step - loss: 0.2161 - accuracy: 0.9202 - val_loss: 0.2586 - val_accuracy: 0.9056\n",
      "Epoch 10/20\n",
      "469/469 [==============================] - 135s 287ms/step - loss: 0.2044 - accuracy: 0.9252 - val_loss: 0.2493 - val_accuracy: 0.9123\n",
      "Epoch 11/20\n",
      "469/469 [==============================] - 170s 362ms/step - loss: 0.1991 - accuracy: 0.9268 - val_loss: 0.2509 - val_accuracy: 0.9113\n",
      "Epoch 12/20\n",
      "469/469 [==============================] - 147s 314ms/step - loss: 0.1899 - accuracy: 0.9301 - val_loss: 0.2276 - val_accuracy: 0.9162\n",
      "Epoch 13/20\n",
      "469/469 [==============================] - 162s 346ms/step - loss: 0.1846 - accuracy: 0.9316 - val_loss: 0.2313 - val_accuracy: 0.9170\n",
      "Epoch 14/20\n",
      "469/469 [==============================] - 137s 292ms/step - loss: 0.1770 - accuracy: 0.9350 - val_loss: 0.2528 - val_accuracy: 0.9089\n",
      "Epoch 15/20\n",
      "469/469 [==============================] - 153s 327ms/step - loss: 0.1729 - accuracy: 0.9350 - val_loss: 0.2426 - val_accuracy: 0.9140\n",
      "Epoch 16/20\n",
      "469/469 [==============================] - 141s 300ms/step - loss: 0.1654 - accuracy: 0.9399 - val_loss: 0.2483 - val_accuracy: 0.9078\n",
      "Epoch 17/20\n",
      "469/469 [==============================] - 125s 267ms/step - loss: 0.1586 - accuracy: 0.9420 - val_loss: 0.2491 - val_accuracy: 0.9155\n",
      "Epoch 18/20\n",
      "469/469 [==============================] - 124s 265ms/step - loss: 0.1595 - accuracy: 0.9403 - val_loss: 0.2328 - val_accuracy: 0.9194\n",
      "Epoch 19/20\n",
      "469/469 [==============================] - 126s 269ms/step - loss: 0.1517 - accuracy: 0.9439 - val_loss: 0.2399 - val_accuracy: 0.9184\n",
      "Epoch 20/20\n",
      "469/469 [==============================] - 125s 267ms/step - loss: 0.1489 - accuracy: 0.9454 - val_loss: 0.2274 - val_accuracy: 0.9221\n"
     ]
    },
    {
     "data": {
      "text/plain": [
       "<keras.callbacks.History at 0x1b2dc3c1c30>"
      ]
     },
     "execution_count": 7,
     "metadata": {},
     "output_type": "execute_result"
    }
   ],
   "source": [
    "vgg_model = Sequential([\n",
    "  Conv2D(32, 3, input_shape=(28, 28, 1), activation=\"relu\",padding=\"same\"),\n",
    "  Conv2D(32, 3, activation=\"relu\",padding=\"same\"),\n",
    "  MaxPooling2D(pool_size=2,strides=2),\n",
    "  BatchNormalization(),\n",
    "  Conv2D(16, 3, activation=\"relu\",padding=\"same\"),\n",
    "  Conv2D(16, 3, activation=\"relu\",padding=\"same\"),\n",
    "  MaxPooling2D(pool_size=2,strides=2),\n",
    "  BatchNormalization(),\n",
    "  Conv2D(16, 3, activation=\"relu\",padding=\"same\"),\n",
    "  Conv2D(16, 3, activation=\"relu\",padding=\"same\"),\n",
    "  MaxPooling2D(pool_size=2,strides=2),\n",
    "  BatchNormalization(),\n",
    "  Conv2D(16, 3, activation=\"relu\",padding=\"same\"),\n",
    "  Conv2D(16, 3, activation=\"relu\",padding=\"same\"),\n",
    "  MaxPooling2D(pool_size=2,strides=1),\n",
    "  BatchNormalization(),\n",
    "  Conv2D(16, 3, activation=\"relu\",padding=\"same\"),\n",
    "  Conv2D(16, 3, activation=\"relu\",padding=\"same\"),\n",
    "  MaxPooling2D(pool_size=2,strides=1),\n",
    "  BatchNormalization(),\n",
    "  Flatten(),\n",
    "  Dense(256,activation=\"relu\"),\n",
    "  Dropout(0.15),\n",
    "  Dense(256,activation=\"relu\"),\n",
    "  Dropout(0.15),\n",
    "  Dense(softmax_nodes, activation='softmax'),\n",
    "])\n",
    "vgg_model.compile(\n",
    "  'adam',\n",
    "  loss='categorical_crossentropy',\n",
    "  metrics=['accuracy'],\n",
    ")\n",
    "vgg_model.fit(\n",
    "  cnn_train,\n",
    "  cnn_label_train,\n",
    "  epochs=20,\n",
    "  validation_data=(cnn_test, cnn_label_test),\n",
    "  batch_size=128\n",
    ")"
   ]
  },
  {
   "cell_type": "code",
   "execution_count": 6,
   "metadata": {},
   "outputs": [
    {
     "name": "stdout",
     "output_type": "stream",
     "text": [
      "Epoch 1/20\n",
      "235/235 [==============================] - 82s 340ms/step - loss: 0.4745 - accuracy: 0.8260 - val_loss: 1.8456 - val_accuracy: 0.3392\n",
      "Epoch 2/20\n",
      "235/235 [==============================] - 105s 450ms/step - loss: 0.3103 - accuracy: 0.8859 - val_loss: 0.5106 - val_accuracy: 0.8171\n",
      "Epoch 3/20\n",
      "235/235 [==============================] - 82s 348ms/step - loss: 0.2589 - accuracy: 0.9051 - val_loss: 0.3353 - val_accuracy: 0.8730\n",
      "Epoch 4/20\n",
      "235/235 [==============================] - 83s 352ms/step - loss: 0.2375 - accuracy: 0.9128 - val_loss: 0.2917 - val_accuracy: 0.8947\n",
      "Epoch 5/20\n",
      "235/235 [==============================] - 120s 511ms/step - loss: 0.2088 - accuracy: 0.9242 - val_loss: 0.2933 - val_accuracy: 0.8991\n",
      "Epoch 6/20\n",
      "235/235 [==============================] - 82s 349ms/step - loss: 0.1932 - accuracy: 0.9287 - val_loss: 0.2621 - val_accuracy: 0.9061\n",
      "Epoch 7/20\n",
      "235/235 [==============================] - 81s 346ms/step - loss: 0.1809 - accuracy: 0.9334 - val_loss: 0.2627 - val_accuracy: 0.9101\n",
      "Epoch 8/20\n",
      "235/235 [==============================] - 95s 403ms/step - loss: 0.1624 - accuracy: 0.9400 - val_loss: 0.2428 - val_accuracy: 0.9137\n",
      "Epoch 9/20\n",
      "235/235 [==============================] - 79s 334ms/step - loss: 0.1510 - accuracy: 0.9440 - val_loss: 0.2862 - val_accuracy: 0.8992\n",
      "Epoch 10/20\n",
      "235/235 [==============================] - 72s 306ms/step - loss: 0.1435 - accuracy: 0.9467 - val_loss: 0.2785 - val_accuracy: 0.9064\n",
      "Epoch 11/20\n",
      "235/235 [==============================] - 70s 299ms/step - loss: 0.1308 - accuracy: 0.9515 - val_loss: 0.2939 - val_accuracy: 0.9005\n",
      "Epoch 12/20\n",
      "235/235 [==============================] - 70s 299ms/step - loss: 0.1200 - accuracy: 0.9555 - val_loss: 0.2850 - val_accuracy: 0.9090\n",
      "Epoch 13/20\n",
      "235/235 [==============================] - 70s 299ms/step - loss: 0.1130 - accuracy: 0.9583 - val_loss: 0.2565 - val_accuracy: 0.9189\n",
      "Epoch 14/20\n",
      "235/235 [==============================] - 72s 308ms/step - loss: 0.1056 - accuracy: 0.9604 - val_loss: 0.2914 - val_accuracy: 0.9133\n",
      "Epoch 15/20\n",
      "235/235 [==============================] - 71s 300ms/step - loss: 0.0994 - accuracy: 0.9622 - val_loss: 0.3049 - val_accuracy: 0.9089\n",
      "Epoch 16/20\n",
      "235/235 [==============================] - 70s 299ms/step - loss: 0.0933 - accuracy: 0.9663 - val_loss: 0.2536 - val_accuracy: 0.9208\n",
      "Epoch 17/20\n",
      "235/235 [==============================] - 70s 297ms/step - loss: 0.0823 - accuracy: 0.9698 - val_loss: 0.3054 - val_accuracy: 0.9206\n",
      "Epoch 18/20\n",
      "235/235 [==============================] - 71s 303ms/step - loss: 0.0789 - accuracy: 0.9705 - val_loss: 0.3589 - val_accuracy: 0.9091\n",
      "Epoch 19/20\n",
      "235/235 [==============================] - 72s 305ms/step - loss: 0.0766 - accuracy: 0.9718 - val_loss: 0.3197 - val_accuracy: 0.9165\n",
      "Epoch 20/20\n",
      "235/235 [==============================] - 71s 302ms/step - loss: 0.0645 - accuracy: 0.9759 - val_loss: 0.2897 - val_accuracy: 0.9155\n"
     ]
    }
   ],
   "source": [
    "complex_model = Sequential([\n",
    "  Conv2D(16, 5, input_shape=(28, 28, 1), activation=\"relu\",padding=\"same\"),\n",
    "  Conv2D(16, 5, activation=\"relu\",padding=\"same\"),\n",
    "  MaxPooling2D(pool_size=2,strides=2),\n",
    "  BatchNormalization(),\n",
    "  Conv2D(32, 3, activation=\"relu\",padding=\"same\"),\n",
    "  Conv2D(32, 3, activation=\"relu\",padding=\"same\"),\n",
    "  MaxPooling2D(pool_size=2,strides=2),\n",
    "  BatchNormalization(),\n",
    "  Conv2D(64, 3, activation=\"relu\",padding=\"same\"),\n",
    "  Conv2D(64, 3, activation=\"relu\",padding=\"same\"),\n",
    "  MaxPooling2D(pool_size=2,strides=2),\n",
    "  BatchNormalization(),\n",
    "  Conv2D(64, 3, activation=\"relu\",padding=\"same\"),\n",
    "  Conv2D(64, 3, activation=\"relu\",padding=\"same\"),\n",
    "  Conv2D(64, 3, activation=\"relu\",padding=\"same\"),\n",
    "  MaxPooling2D(pool_size=2,strides=1),\n",
    "  BatchNormalization(),\n",
    "  Flatten(),\n",
    "  Dense(256,activation=\"relu\"),\n",
    "  Dropout(0.15),\n",
    "  Dense(512,activation=\"relu\"),\n",
    "  Dropout(0.15),\n",
    "  Dense(softmax_nodes, activation='softmax'),\n",
    "])\n",
    "complex_model.compile(\n",
    "  'adam',\n",
    "  loss='categorical_crossentropy',\n",
    "  metrics=['accuracy'],\n",
    ")\n",
    "tf.keras.callbacks.EarlyStopping(\n",
    "    monitor='loss',\n",
    "    min_delta=0.01,\n",
    "    patience=2,\n",
    "    verbose=0,\n",
    "    mode='auto',\n",
    "    restore_best_weights=True,\n",
    "    start_from_epoch=0\n",
    ")\n",
    "history = complex_model.fit(\n",
    "  cnn_train,\n",
    "  cnn_label_train,\n",
    "  epochs = 20,\n",
    "  validation_data=(cnn_test, cnn_label_test),\n",
    "  batch_size=256\n",
    ")"
   ]
  },
  {
   "cell_type": "code",
   "execution_count": 11,
   "metadata": {},
   "outputs": [
    {
     "name": "stdout",
     "output_type": "stream",
     "text": [
      "313/313 [==============================] - 9s 28ms/step\n"
     ]
    },
    {
     "data": {
      "image/png": "[encoded data removed]",
      "text/plain": [
       "<Figure size 432x288 with 2 Axes>"
      ]
     },
     "metadata": {
      "needs_background": "light"
     },
     "output_type": "display_data"
    }
   ],
   "source": [
    "model = tf.keras.models.load_model('Results/complex_model')\n",
    "y_pred = model.predict(cnn_test)\n",
    "y_pred = np.argmax(y_pred,axis=1)\n",
    "conf = sklearn.metrics.confusion_matrix(y_pred, label_test)\n",
    "conf_df = pnd.DataFrame(conf, index=class_names, columns=class_names)\n",
    "rowsums = conf_df.sum(axis=1)\n",
    "acc = np.sum(y_pred == label_test)/ len(label_test)\n",
    "for i in range(10):\n",
    "    for j in range(10):\n",
    "        if i != j:\n",
    "            conf_df.values[i,j] -= (1-acc)*rowsums[i]/9\n",
    "            conf_df.values[i,j] *= -1\n",
    "        else: \n",
    "            conf_df.values[i,j] -= acc*rowsums[i]\n",
    "sns.heatmap(conf_df, annot=True, cmap= \"RdBu\", annot_kws={\"fontsize\":6},fmt=\",.1f\",center=0,vmax=250,vmin=-250)\n",
    "#plt.savefig('cnn_chi.png',dpi=600)"
   ]
  }
 ],
 "metadata": {
  "kernelspec": {
   "display_name": "compmeth2022",
   "language": "python",
   "name": "python3"
  },
  "language_info": {
   "codemirror_mode": {
    "name": "ipython",
    "version": 3
   },
   "file_extension": ".py",
   "mimetype": "text/x-python",
   "name": "python",
   "nbconvert_exporter": "python",
   "pygments_lexer": "ipython3",
   "version": "3.10.4"
  },
  "orig_nbformat": 4
 },
 "nbformat": 4,
 "nbformat_minor": 2
}
