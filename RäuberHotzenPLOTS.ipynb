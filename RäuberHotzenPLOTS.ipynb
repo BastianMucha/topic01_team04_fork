{
 "cells": [
  {
   "attachments": {},
   "cell_type": "markdown",
   "metadata": {},
   "source": [
    "# Plots\n",
    "## Accuracy für KNN "
   ]
  },
  {
   "cell_type": "code",
   "execution_count": 72,
   "metadata": {},
   "outputs": [],
   "source": [
    "import numpy as np\n",
    "import pandas as pnd\n",
    "import sklearn\n",
    "from sklearn.preprocessing import label_binarize\n",
    "from sklearn.metrics import confusion_matrix, roc_curve, auc\n",
    "from functions.KNN import*"
   ]
  },
  {
   "cell_type": "code",
   "execution_count": 65,
   "metadata": {},
   "outputs": [
    {
     "name": "stdout",
     "output_type": "stream",
     "text": [
      "(784, 784)\n",
      "Our eigenvectors explain 95.02224534091705 percent of total variance\n",
      "256 eigenvectors are used\n"
     ]
    },
    {
     "ename": "ValueError",
     "evalue": "All arrays must be of the same length",
     "output_type": "error",
     "traceback": [
      "\u001b[1;31m---------------------------------------------------------------------------\u001b[0m",
      "\u001b[1;31mValueError\u001b[0m                                Traceback (most recent call last)",
      "\u001b[1;32mc:\\Users\\awark\\Bioinfo Projekt\\RäuberHotzenPLOTS.ipynb Cell 3\u001b[0m in \u001b[0;36m<cell line: 52>\u001b[1;34m()\u001b[0m\n\u001b[0;32m     <a href='vscode-notebook-cell:/c%3A/Users/awark/Bioinfo%20Projekt/R%C3%A4uberHotzenPLOTS.ipynb#W2sZmlsZQ%3D%3D?line=49'>50</a>\u001b[0m pclist \u001b[39m=\u001b[39m [i \u001b[39mfor\u001b[39;00m i \u001b[39min\u001b[39;00m varvec \u001b[39mfor\u001b[39;00m _ \u001b[39min\u001b[39;00m \u001b[39mrange\u001b[39m(\u001b[39m14\u001b[39m)]\n\u001b[0;32m     <a href='vscode-notebook-cell:/c%3A/Users/awark/Bioinfo%20Projekt/R%C3%A4uberHotzenPLOTS.ipynb#W2sZmlsZQ%3D%3D?line=50'>51</a>\u001b[0m klist \u001b[39m=\u001b[39m [i \u001b[39mfor\u001b[39;00m _ \u001b[39min\u001b[39;00m \u001b[39mrange\u001b[39m(\u001b[39m8\u001b[39m) \u001b[39mfor\u001b[39;00m i \u001b[39min\u001b[39;00m \u001b[39mrange\u001b[39m(\u001b[39m2\u001b[39m,\u001b[39m16\u001b[39m)]\n\u001b[1;32m---> <a href='vscode-notebook-cell:/c%3A/Users/awark/Bioinfo%20Projekt/R%C3%A4uberHotzenPLOTS.ipynb#W2sZmlsZQ%3D%3D?line=51'>52</a>\u001b[0m totallist \u001b[39m=\u001b[39m pnd\u001b[39m.\u001b[39;49mDataFrame({\u001b[39m\"\u001b[39;49m\u001b[39mnumber of k\u001b[39;49m\u001b[39m\"\u001b[39;49m:klist,\u001b[39m\"\u001b[39;49m\u001b[39maccuracy\u001b[39;49m\u001b[39m\"\u001b[39;49m:totallist,\u001b[39m\"\u001b[39;49m\u001b[39mexplained variance\u001b[39;49m\u001b[39m\"\u001b[39;49m:pnd\u001b[39m.\u001b[39;49mCategorical(pclist, ordered\u001b[39m=\u001b[39;49m\u001b[39mTrue\u001b[39;49;00m)})\n\u001b[0;32m     <a href='vscode-notebook-cell:/c%3A/Users/awark/Bioinfo%20Projekt/R%C3%A4uberHotzenPLOTS.ipynb#W2sZmlsZQ%3D%3D?line=53'>54</a>\u001b[0m palette \u001b[39m=\u001b[39m sns\u001b[39m.\u001b[39mcolor_palette(\u001b[39m'\u001b[39m\u001b[39mviridis\u001b[39m\u001b[39m'\u001b[39m, \u001b[39mlen\u001b[39m(totallist[\u001b[39m'\u001b[39m\u001b[39mexplained variance\u001b[39m\u001b[39m'\u001b[39m]\u001b[39m.\u001b[39munique()))\n\u001b[0;32m     <a href='vscode-notebook-cell:/c%3A/Users/awark/Bioinfo%20Projekt/R%C3%A4uberHotzenPLOTS.ipynb#W2sZmlsZQ%3D%3D?line=54'>55</a>\u001b[0m variancepcsks \u001b[39m=\u001b[39m sns\u001b[39m.\u001b[39mrelplot(\n\u001b[0;32m     <a href='vscode-notebook-cell:/c%3A/Users/awark/Bioinfo%20Projekt/R%C3%A4uberHotzenPLOTS.ipynb#W2sZmlsZQ%3D%3D?line=55'>56</a>\u001b[0m data\u001b[39m=\u001b[39mtotallist,\n\u001b[0;32m     <a href='vscode-notebook-cell:/c%3A/Users/awark/Bioinfo%20Projekt/R%C3%A4uberHotzenPLOTS.ipynb#W2sZmlsZQ%3D%3D?line=56'>57</a>\u001b[0m x \u001b[39m=\u001b[39m \u001b[39m'\u001b[39m\u001b[39mnumber of k\u001b[39m\u001b[39m'\u001b[39m,\n\u001b[1;32m   (...)\u001b[0m\n\u001b[0;32m     <a href='vscode-notebook-cell:/c%3A/Users/awark/Bioinfo%20Projekt/R%C3%A4uberHotzenPLOTS.ipynb#W2sZmlsZQ%3D%3D?line=59'>60</a>\u001b[0m palette \u001b[39m=\u001b[39m palette\n\u001b[0;32m     <a href='vscode-notebook-cell:/c%3A/Users/awark/Bioinfo%20Projekt/R%C3%A4uberHotzenPLOTS.ipynb#W2sZmlsZQ%3D%3D?line=60'>61</a>\u001b[0m )\n",
      "File \u001b[1;32mc:\\Users\\awark\\mambaforge\\envs\\compmeth2022\\lib\\site-packages\\pandas\\core\\frame.py:709\u001b[0m, in \u001b[0;36mDataFrame.__init__\u001b[1;34m(self, data, index, columns, dtype, copy)\u001b[0m\n\u001b[0;32m    703\u001b[0m     mgr \u001b[39m=\u001b[39m \u001b[39mself\u001b[39m\u001b[39m.\u001b[39m_init_mgr(\n\u001b[0;32m    704\u001b[0m         data, axes\u001b[39m=\u001b[39m{\u001b[39m\"\u001b[39m\u001b[39mindex\u001b[39m\u001b[39m\"\u001b[39m: index, \u001b[39m\"\u001b[39m\u001b[39mcolumns\u001b[39m\u001b[39m\"\u001b[39m: columns}, dtype\u001b[39m=\u001b[39mdtype, copy\u001b[39m=\u001b[39mcopy\n\u001b[0;32m    705\u001b[0m     )\n\u001b[0;32m    707\u001b[0m \u001b[39melif\u001b[39;00m \u001b[39misinstance\u001b[39m(data, \u001b[39mdict\u001b[39m):\n\u001b[0;32m    708\u001b[0m     \u001b[39m# GH#38939 de facto copy defaults to False only in non-dict cases\u001b[39;00m\n\u001b[1;32m--> 709\u001b[0m     mgr \u001b[39m=\u001b[39m dict_to_mgr(data, index, columns, dtype\u001b[39m=\u001b[39;49mdtype, copy\u001b[39m=\u001b[39;49mcopy, typ\u001b[39m=\u001b[39;49mmanager)\n\u001b[0;32m    710\u001b[0m \u001b[39melif\u001b[39;00m \u001b[39misinstance\u001b[39m(data, ma\u001b[39m.\u001b[39mMaskedArray):\n\u001b[0;32m    711\u001b[0m     \u001b[39mfrom\u001b[39;00m \u001b[39mnumpy\u001b[39;00m\u001b[39m.\u001b[39;00m\u001b[39mma\u001b[39;00m \u001b[39mimport\u001b[39;00m mrecords\n",
      "File \u001b[1;32mc:\\Users\\awark\\mambaforge\\envs\\compmeth2022\\lib\\site-packages\\pandas\\core\\internals\\construction.py:481\u001b[0m, in \u001b[0;36mdict_to_mgr\u001b[1;34m(data, index, columns, dtype, typ, copy)\u001b[0m\n\u001b[0;32m    477\u001b[0m     \u001b[39melse\u001b[39;00m:\n\u001b[0;32m    478\u001b[0m         \u001b[39m# dtype check to exclude e.g. range objects, scalars\u001b[39;00m\n\u001b[0;32m    479\u001b[0m         arrays \u001b[39m=\u001b[39m [x\u001b[39m.\u001b[39mcopy() \u001b[39mif\u001b[39;00m \u001b[39mhasattr\u001b[39m(x, \u001b[39m\"\u001b[39m\u001b[39mdtype\u001b[39m\u001b[39m\"\u001b[39m) \u001b[39melse\u001b[39;00m x \u001b[39mfor\u001b[39;00m x \u001b[39min\u001b[39;00m arrays]\n\u001b[1;32m--> 481\u001b[0m \u001b[39mreturn\u001b[39;00m arrays_to_mgr(arrays, columns, index, dtype\u001b[39m=\u001b[39;49mdtype, typ\u001b[39m=\u001b[39;49mtyp, consolidate\u001b[39m=\u001b[39;49mcopy)\n",
      "File \u001b[1;32mc:\\Users\\awark\\mambaforge\\envs\\compmeth2022\\lib\\site-packages\\pandas\\core\\internals\\construction.py:115\u001b[0m, in \u001b[0;36marrays_to_mgr\u001b[1;34m(arrays, columns, index, dtype, verify_integrity, typ, consolidate)\u001b[0m\n\u001b[0;32m    112\u001b[0m \u001b[39mif\u001b[39;00m verify_integrity:\n\u001b[0;32m    113\u001b[0m     \u001b[39m# figure out the index, if necessary\u001b[39;00m\n\u001b[0;32m    114\u001b[0m     \u001b[39mif\u001b[39;00m index \u001b[39mis\u001b[39;00m \u001b[39mNone\u001b[39;00m:\n\u001b[1;32m--> 115\u001b[0m         index \u001b[39m=\u001b[39m _extract_index(arrays)\n\u001b[0;32m    116\u001b[0m     \u001b[39melse\u001b[39;00m:\n\u001b[0;32m    117\u001b[0m         index \u001b[39m=\u001b[39m ensure_index(index)\n",
      "File \u001b[1;32mc:\\Users\\awark\\mambaforge\\envs\\compmeth2022\\lib\\site-packages\\pandas\\core\\internals\\construction.py:655\u001b[0m, in \u001b[0;36m_extract_index\u001b[1;34m(data)\u001b[0m\n\u001b[0;32m    653\u001b[0m lengths \u001b[39m=\u001b[39m \u001b[39mlist\u001b[39m(\u001b[39mset\u001b[39m(raw_lengths))\n\u001b[0;32m    654\u001b[0m \u001b[39mif\u001b[39;00m \u001b[39mlen\u001b[39m(lengths) \u001b[39m>\u001b[39m \u001b[39m1\u001b[39m:\n\u001b[1;32m--> 655\u001b[0m     \u001b[39mraise\u001b[39;00m \u001b[39mValueError\u001b[39;00m(\u001b[39m\"\u001b[39m\u001b[39mAll arrays must be of the same length\u001b[39m\u001b[39m\"\u001b[39m)\n\u001b[0;32m    657\u001b[0m \u001b[39mif\u001b[39;00m have_dicts:\n\u001b[0;32m    658\u001b[0m     \u001b[39mraise\u001b[39;00m \u001b[39mValueError\u001b[39;00m(\n\u001b[0;32m    659\u001b[0m         \u001b[39m\"\u001b[39m\u001b[39mMixing dicts with non-Series may lead to ambiguous ordering.\u001b[39m\u001b[39m\"\u001b[39m\n\u001b[0;32m    660\u001b[0m     )\n",
      "\u001b[1;31mValueError\u001b[0m: All arrays must be of the same length"
     ]
    }
   ],
   "source": [
    "import csv\n",
    "import seaborn as sns\n",
    "from scipy import spatial\n",
    "from scipy.spatial import KDTree\n",
    "from collections import Counter\n",
    "from scipy.stats import mode\n",
    "from functions.PCA import pca\n",
    "from pathlib import Path\n",
    "import matplotlib.pyplot as plt\n",
    "import os\n",
    "import timeit\n",
    "from itertools import cycle\n",
    "from collections import Counter\n",
    "from scipy.stats import mode\n",
    "from scipy import spatial\n",
    "import glob\n",
    "\n",
    "PCs_train, PCs_test = pca(traindata_pixel,testdata_pixel,0.95)\n",
    "\n",
    "\n",
    "dataset = 1\n",
    "match dataset:\n",
    "    case 1:\n",
    "        test = 'fashion-mnist_test.csv'\n",
    "        train = 'fashion-mnist_train.csv'\n",
    "    case 2: \n",
    "        test = \"mnist_test.csv\"\n",
    "        train = \"mnist_train.csv\"\n",
    "testdata = pnd.read_csv(test)\n",
    "traindata = pnd.read_csv(train)\n",
    "\n",
    "testdata_pixel = testdata.drop(testdata.columns[0], axis=1).to_numpy()\n",
    "traindata_pixel = traindata.drop(traindata.columns[0], axis=1).to_numpy()\n",
    "label_train = traindata[traindata.columns[0]].to_numpy()\n",
    "label_test = testdata[testdata.columns[0]].to_numpy()\n",
    "\n",
    "class_names = np.array([\"T-shirt / Top\", \"Trouser\", \"Pullover\", \"Dress\", \"Coat\", \"Sandal\", \"Shirt\", \"Sneaker\", \"Bag\", \"Ankle Boot\"])\n",
    "\n",
    "folder_path = 'C:/Users/basti/compmeth2022/topic01_team04/Results/'  # Path to the \"results\" folder\n",
    "csv_filess = glob.glob(folder_path + '/*.csv')\n",
    "\n",
    "\n",
    "totallist = []\n",
    "for csvdata in csv_filess:\n",
    "    df = pnd.read_csv(csvdata)\n",
    "    for i in range(14):\n",
    "        accuracy = np.sum(df.iloc[:,i] == label_test)/ len(label_test)\n",
    "        totallist.append(accuracy)\n",
    "varvec = [0.25,0.5,0.75,0.8,0.85,0.9,0.95,1]\n",
    "pclist = [i for i in varvec for _ in range(14)]\n",
    "klist = [i for _ in range(8) for i in range(2,16)]\n",
    "totallist = pnd.DataFrame({\"number of k\":klist,\"accuracy\":totallist,\"explained variance\":pnd.Categorical(pclist, ordered=True)})\n",
    "\n",
    "palette = sns.color_palette('viridis', len(totallist['explained variance'].unique()))\n",
    "variancepcsks = sns.relplot(\n",
    "data=totallist,\n",
    "x = 'number of k',\n",
    "y= 'accuracy',\n",
    "hue = 'explained variance',\n",
    "palette = palette\n",
    ")\n",
    "plt.axhline(y=0.9085,color=\"green\",linewidth=2),\n",
    "plt.text(x=totallist['number of k'].max()+0.8, y=0.9085, s='lenet5-inspired cnn', color='green')\n",
    "plt.axhline(y=0.9221,color=\"darkgreen\",linewidth=2),\n",
    "plt.text(x=totallist['number of k'].max()+0.8, y=0.9221, s='vgg-inspired cnn', color='darkgreen')\n",
    "#plt.savefig('projectsummary.png',dpi=600) "
   ]
  },
  {
   "cell_type": "code",
   "execution_count": 39,
   "metadata": {},
   "outputs": [
    {
     "data": {
      "image/png": "[encoded data removed]",
      "text/plain": [
       "<Figure size 432x288 with 2 Axes>"
      ]
     },
     "metadata": {
      "needs_background": "light"
     },
     "output_type": "display_data"
    }
   ],
   "source": [
    "y_pred = pnd.read_csv(\"C:/Users/basti/compmeth2022/topic01_team04/Results/95var.csv\").iloc[:,2]\n",
    "conf = sklearn.metrics.confusion_matrix(y_pred, label_test)\n",
    "conf_df = pnd.DataFrame(conf, index=class_names, columns=class_names)\n",
    "conf_df = conf_df.astype(float)\n",
    "rowsums = conf_df.sum(axis=1)\n",
    "acc = np.sum(y_pred == label_test)/ len(label_test)\n",
    "for i in range(len(conf_df)):\n",
    "    for j in range(len(conf_df.columns)):\n",
    "        if i != j:\n",
    "            conf_df.values[i,j] -= (1-acc)*rowsums[i]/(len(conf_df)-1)\n",
    "            conf_df.values[i,j] *= -1\n",
    "        else: \n",
    "            conf_df.values[i,j] -= acc*rowsums[i]\n",
    "sns.heatmap(conf_df, annot=True, cmap= \"RdBu\", annot_kws={\"fontsize\":6},fmt=\",.1f\",center=0)\n",
    "#plt.savefig('knn_chi.png',dpi=600)"
   ]
  },
  {
   "cell_type": "code",
   "execution_count": null,
   "metadata": {},
   "outputs": [],
   "source": [
    "# Confusion Matrix vor k = 4 and PC Variance 95%\n",
    "dftest = pnd.read_csv('C:/Users/awark/Bioinfo Projekt/Results/95var.csv')\n",
    "y_pred = np.array(dftest['2'])\n",
    "y_true = label_test\n",
    "class_names = np.array([\"T-shirt / Top\", \"Trouser\", \"Pullover\", \"Dress\", \"Coat\", \"Sandal\", \"Shirt\", \"Sneaker\", \"Bag\", \"Ankle Boot\"])\n",
    "conf = sklearn.metrics.confusion_marix(y_pred, label_test)\n",
    "conf_df = pnd.DataFrame(conf, index=class_names, columns=class_names)\n",
    "conf_df = round(conf_df*100 / conf_df.sum(axis=1),2)\n",
    "print(conf_df)\n",
    "\n",
    "sns.heatmap(conf_df, annot=True, cmap='RdYlGn')"
   ]
  },
  {
   "cell_type": "code",
   "execution_count": 64,
   "metadata": {},
   "outputs": [
    {
     "ename": "ValueError",
     "evalue": "multiclass format is not supported",
     "output_type": "error",
     "traceback": [
      "\u001b[1;31m---------------------------------------------------------------------------\u001b[0m",
      "\u001b[1;31mValueError\u001b[0m                                Traceback (most recent call last)",
      "\u001b[1;32mc:\\Users\\awark\\Bioinfo Projekt\\RäuberHotzenPLOTS.ipynb Cell 6\u001b[0m in \u001b[0;36m<cell line: 24>\u001b[1;34m()\u001b[0m\n\u001b[0;32m     <a href='vscode-notebook-cell:/c%3A/Users/awark/Bioinfo%20Projekt/R%C3%A4uberHotzenPLOTS.ipynb#W5sZmlsZQ%3D%3D?line=25'>26</a>\u001b[0m ytrue \u001b[39m=\u001b[39m label_test\n\u001b[0;32m     <a href='vscode-notebook-cell:/c%3A/Users/awark/Bioinfo%20Projekt/R%C3%A4uberHotzenPLOTS.ipynb#W5sZmlsZQ%3D%3D?line=26'>27</a>\u001b[0m prf95\u001b[39m=\u001b[39msklearn\u001b[39m.\u001b[39mmetrics\u001b[39m.\u001b[39mprecision_recall_fscore_support(ytrue, ypred, average\u001b[39m=\u001b[39m\u001b[39mNone\u001b[39;00m, labels\u001b[39m=\u001b[39mlabel_test)\n\u001b[1;32m---> <a href='vscode-notebook-cell:/c%3A/Users/awark/Bioinfo%20Projekt/R%C3%A4uberHotzenPLOTS.ipynb#W5sZmlsZQ%3D%3D?line=27'>28</a>\u001b[0m prf95avg\u001b[39m=\u001b[39msklearn\u001b[39m.\u001b[39;49mmetrics\u001b[39m.\u001b[39;49maverage_precision_score(ytrue, ypred)\n\u001b[0;32m     <a href='vscode-notebook-cell:/c%3A/Users/awark/Bioinfo%20Projekt/R%C3%A4uberHotzenPLOTS.ipynb#W5sZmlsZQ%3D%3D?line=28'>29</a>\u001b[0m precision95 \u001b[39m=\u001b[39m prf95[\u001b[39m0\u001b[39m]\n\u001b[0;32m     <a href='vscode-notebook-cell:/c%3A/Users/awark/Bioinfo%20Projekt/R%C3%A4uberHotzenPLOTS.ipynb#W5sZmlsZQ%3D%3D?line=29'>30</a>\u001b[0m recall95 \u001b[39m=\u001b[39m prf95[\u001b[39m1\u001b[39m]\n",
      "File \u001b[1;32mc:\\Users\\awark\\mambaforge\\envs\\compmeth2022\\lib\\site-packages\\sklearn\\metrics\\_ranking.py:234\u001b[0m, in \u001b[0;36maverage_precision_score\u001b[1;34m(y_true, y_score, average, pos_label, sample_weight)\u001b[0m\n\u001b[0;32m    227\u001b[0m         \u001b[39mraise\u001b[39;00m \u001b[39mValueError\u001b[39;00m(\n\u001b[0;32m    228\u001b[0m             \u001b[39mf\u001b[39m\u001b[39m\"\u001b[39m\u001b[39mpos_label=\u001b[39m\u001b[39m{\u001b[39;00mpos_label\u001b[39m}\u001b[39;00m\u001b[39m is not a valid label. It should be \u001b[39m\u001b[39m\"\u001b[39m\n\u001b[0;32m    229\u001b[0m             \u001b[39mf\u001b[39m\u001b[39m\"\u001b[39m\u001b[39mone of \u001b[39m\u001b[39m{\u001b[39;00mpresent_labels\u001b[39m}\u001b[39;00m\u001b[39m\"\u001b[39m\n\u001b[0;32m    230\u001b[0m         )\n\u001b[0;32m    231\u001b[0m average_precision \u001b[39m=\u001b[39m partial(\n\u001b[0;32m    232\u001b[0m     _binary_uninterpolated_average_precision, pos_label\u001b[39m=\u001b[39mpos_label\n\u001b[0;32m    233\u001b[0m )\n\u001b[1;32m--> 234\u001b[0m \u001b[39mreturn\u001b[39;00m _average_binary_score(\n\u001b[0;32m    235\u001b[0m     average_precision, y_true, y_score, average, sample_weight\u001b[39m=\u001b[39;49msample_weight\n\u001b[0;32m    236\u001b[0m )\n",
      "File \u001b[1;32mc:\\Users\\awark\\mambaforge\\envs\\compmeth2022\\lib\\site-packages\\sklearn\\metrics\\_base.py:72\u001b[0m, in \u001b[0;36m_average_binary_score\u001b[1;34m(binary_metric, y_true, y_score, average, sample_weight)\u001b[0m\n\u001b[0;32m     70\u001b[0m y_type \u001b[39m=\u001b[39m type_of_target(y_true)\n\u001b[0;32m     71\u001b[0m \u001b[39mif\u001b[39;00m y_type \u001b[39mnot\u001b[39;00m \u001b[39min\u001b[39;00m (\u001b[39m\"\u001b[39m\u001b[39mbinary\u001b[39m\u001b[39m\"\u001b[39m, \u001b[39m\"\u001b[39m\u001b[39mmultilabel-indicator\u001b[39m\u001b[39m\"\u001b[39m):\n\u001b[1;32m---> 72\u001b[0m     \u001b[39mraise\u001b[39;00m \u001b[39mValueError\u001b[39;00m(\u001b[39m\"\u001b[39m\u001b[39m{0}\u001b[39;00m\u001b[39m format is not supported\u001b[39m\u001b[39m\"\u001b[39m\u001b[39m.\u001b[39mformat(y_type))\n\u001b[0;32m     74\u001b[0m \u001b[39mif\u001b[39;00m y_type \u001b[39m==\u001b[39m \u001b[39m\"\u001b[39m\u001b[39mbinary\u001b[39m\u001b[39m\"\u001b[39m:\n\u001b[0;32m     75\u001b[0m     \u001b[39mreturn\u001b[39;00m binary_metric(y_true, y_score, sample_weight\u001b[39m=\u001b[39msample_weight)\n",
      "\u001b[1;31mValueError\u001b[0m: multiclass format is not supported"
     ]
    }
   ],
   "source": [
    "listprec = []\n",
    "listrec = []\n",
    "listfscore = []\n",
    "\n",
    "for csvdata in csv_filess:\n",
    "    dfmeasures = pnd.read_csv(csvdata)\n",
    "    for i in range(14):\n",
    "        ytrue=label_test\n",
    "        ypred = dfmeasures.iloc[4]\n",
    "        prf = sklearn.metrics.precision_recall_fscore_support(ytrue, ypred, average=None, labels=label_test)\n",
    "        precision=prf[0]\n",
    "        recall=prf[1]\n",
    "        fscore=prf[2]       \n",
    "        listprec.append(precision)\n",
    "        listrec.append(recall)\n",
    "        listfscore.append(fscore)\n",
    "\n",
    "listprec95 = []\n",
    "listrec95 = []\n",
    "listfscore95 = []\n",
    "listprec95avg = []\n",
    "\n",
    "dfmeasures_95var = pnd.read_csv('C:/Users/awark/Bioinfo Projekt/Results/95var.csv')\n",
    "for i in range(14):\n",
    "    ypred=dfmeasures['2']\n",
    "    ytrue = label_test\n",
    "    prf95=sklearn.metrics.precision_recall_fscore_support(ytrue, ypred, average=None, labels=label_test)\n",
    "    prf95avg=sklearn.metrics.average_precision_score(ytrue, ypred)\n",
    "    precision95 = prf95[0]\n",
    "    recall95 = prf95[1]\n",
    "    fscore95 = prf95[2]\n",
    "    listprec95.append(precision)\n",
    "    listrec95.append(recall)\n",
    "    listfscore95.append(fscore)\n",
    "\n",
    "\n",
    "        \n"
   ]
  },
  {
   "attachments": {},
   "cell_type": "markdown",
   "metadata": {},
   "source": [
    "Timeit Befehl: KNN kdtrees gegen KNN"
   ]
  },
  {
   "cell_type": "code",
   "execution_count": 16,
   "metadata": {},
   "outputs": [
    {
     "name": "stdout",
     "output_type": "stream",
     "text": [
      "Current progress is 0.0 percent.\n",
      "Current progress is 5.0 percent.\n",
      "Current progress is 10.0 percent.\n",
      "Current progress is 15.0 percent.\n",
      "Current progress is 20.0 percent.\n",
      "Current progress is 25.0 percent.\n",
      "Current progress is 30.0 percent.\n",
      "Current progress is 35.0 percent.\n",
      "Current progress is 40.0 percent.\n",
      "Current progress is 45.0 percent.\n",
      "Current progress is 50.0 percent.\n",
      "Current progress is 55.0 percent.\n",
      "Current progress is 60.0 percent.\n",
      "Current progress is 65.0 percent.\n",
      "Current progress is 70.0 percent.\n",
      "Current progress is 75.0 percent.\n",
      "Current progress is 80.0 percent.\n",
      "Current progress is 85.0 percent.\n",
      "Current progress is 90.0 percent.\n",
      "Current progress is 95.0 percent.\n"
     ]
    }
   ],
   "source": [
    "def knn_kdtree(PCs_train, PCs_test, k, label_train, label_test, testsize):\n",
    "    \"\"\"returns the accuray of the KNN for test images\n",
    "\n",
    "    Args:\n",
    "        PCs_train (numpy array): transformed training data\n",
    "        PCs_test (numpy array): transformed testing data\n",
    "        k (int): number of neighbours \n",
    "        label_train (numpy array 1D): labels of training data\n",
    "        label_test (numpy array 1D): labels of testing data\n",
    "        testsize (int): number of testing images you want to classify\n",
    "        \n",
    "    Returns:\n",
    "        knn for number of testsize images\n",
    "    \"\"\"\n",
    "\n",
    "    result = np.array([])\n",
    "    kd_tree = spatial.KDTree(PCs_train,leafsize=10)\n",
    "    count_count = 0\n",
    "    for i in range(0, len(label_test), testsize):\n",
    "        if count_count % 10 == 0:\n",
    "            print(\"Current progress is \" + str(count_count*100/(len(label_test)/testsize)) + \" percent.\")\n",
    "        count_count += 1\n",
    "        dist, neighbour_index = kd_tree.query(PCs_test[i:i+testsize, None],p=2,k=k, workers = -1)\n",
    "        neighbour_label = label_train[neighbour_index]\n",
    "        batch_result = [mode(neighbour_label,axis=2)[0]]\n",
    "        batch_result = np.array(batch_result)\n",
    "        batch_result = np.squeeze(batch_result)\n",
    "        batch_result = batch_result.astype(int)\n",
    "        result = result.astype(int)\n",
    "        result = np.concatenate((result, batch_result), axis=0)\n",
    "    return result\n",
    "\n",
    "knn_kdtree(PCs_test, PCs_test, 4, label_train, label_test, 50)\n",
    "\n",
    "knn_kdtree_timeit = timeit.timeit('\"-\".join(str(n) for n in range(100))', number=1000000)\n",
    "\n",
    "### 1,10,20,50,100\n"
   ]
  },
  {
   "cell_type": "code",
   "execution_count": 15,
   "metadata": {},
   "outputs": [
    {
     "name": "stdout",
     "output_type": "stream",
     "text": [
      "Image 5 was classified as Shirt but is actually a(n) Pullover\n",
      "Image 7 was classified as Dress but is actually a(n) Shirt\n",
      "Image 30 was classified as Ankle Boot but is actually a(n) Sandal\n",
      "Image 40 was classified as Shirt but is actually a(n) Pullover\n",
      "Image 41 was classified as Pullover but is actually a(n) T-shirt / Top\n"
     ]
    }
   ],
   "source": [
    "knn_quality(PCs_train, PCs_test, 4, label_train, label_test, 50)\n",
    "timeit_knnquality = timeit.timeit('\"-\".join(str(n) for n in range(100))', number=1000000) "
   ]
  },
  {
   "cell_type": "code",
   "execution_count": 17,
   "metadata": {},
   "outputs": [
    {
     "name": "stdout",
     "output_type": "stream",
     "text": [
      "Current progress is 0.0 percent.\n",
      "Current progress is 5.0 percent.\n",
      "Current progress is 10.0 percent.\n",
      "Current progress is 15.0 percent.\n",
      "Current progress is 20.0 percent.\n",
      "Current progress is 25.0 percent.\n",
      "Current progress is 30.0 percent.\n",
      "Current progress is 35.0 percent.\n",
      "Current progress is 40.0 percent.\n",
      "Current progress is 45.0 percent.\n",
      "Current progress is 50.0 percent.\n",
      "Current progress is 55.0 percent.\n",
      "Current progress is 60.0 percent.\n",
      "Current progress is 65.0 percent.\n",
      "Current progress is 70.0 percent.\n",
      "Current progress is 75.0 percent.\n",
      "Current progress is 80.0 percent.\n",
      "Current progress is 85.0 percent.\n",
      "Current progress is 90.0 percent.\n",
      "Current progress is 95.0 percent.\n",
      "Current progress is 0.0 percent.\n",
      "Current progress is 5.0 percent.\n",
      "Current progress is 10.0 percent.\n",
      "Current progress is 15.0 percent.\n",
      "Current progress is 20.0 percent.\n",
      "Current progress is 25.0 percent.\n",
      "Current progress is 30.0 percent.\n",
      "Current progress is 35.0 percent.\n",
      "Current progress is 40.0 percent.\n",
      "Current progress is 45.0 percent.\n",
      "Current progress is 50.0 percent.\n",
      "Current progress is 55.0 percent.\n",
      "Current progress is 60.0 percent.\n",
      "Current progress is 65.0 percent.\n",
      "Current progress is 70.0 percent.\n",
      "Current progress is 75.0 percent.\n",
      "Current progress is 80.0 percent.\n",
      "Current progress is 85.0 percent.\n",
      "Current progress is 90.0 percent.\n",
      "Current progress is 95.0 percent.\n",
      "Current progress is 0.0 percent.\n",
      "Current progress is 5.0 percent.\n",
      "Current progress is 10.0 percent.\n",
      "Current progress is 15.0 percent.\n",
      "Current progress is 20.0 percent.\n",
      "Current progress is 25.0 percent.\n",
      "Current progress is 30.0 percent.\n",
      "Current progress is 35.0 percent.\n",
      "Current progress is 40.0 percent.\n",
      "Current progress is 45.0 percent.\n",
      "Current progress is 50.0 percent.\n",
      "Current progress is 55.0 percent.\n",
      "Current progress is 60.0 percent.\n",
      "Current progress is 65.0 percent.\n",
      "Current progress is 70.0 percent.\n",
      "Current progress is 75.0 percent.\n",
      "Current progress is 80.0 percent.\n",
      "Current progress is 85.0 percent.\n",
      "Current progress is 90.0 percent.\n",
      "Current progress is 95.0 percent.\n",
      "Current progress is 0.0 percent.\n",
      "Current progress is 5.0 percent.\n",
      "Current progress is 10.0 percent.\n",
      "Current progress is 15.0 percent.\n",
      "Current progress is 20.0 percent.\n",
      "Current progress is 25.0 percent.\n",
      "Current progress is 30.0 percent.\n",
      "Current progress is 35.0 percent.\n",
      "Current progress is 40.0 percent.\n",
      "Current progress is 45.0 percent.\n",
      "Current progress is 50.0 percent.\n",
      "Current progress is 55.0 percent.\n",
      "Current progress is 60.0 percent.\n",
      "Current progress is 65.0 percent.\n",
      "Current progress is 70.0 percent.\n",
      "Current progress is 75.0 percent.\n",
      "Current progress is 80.0 percent.\n",
      "Current progress is 85.0 percent.\n",
      "Current progress is 90.0 percent.\n",
      "Current progress is 95.0 percent.\n",
      "Current progress is 0.0 percent.\n",
      "Current progress is 5.0 percent.\n",
      "Current progress is 10.0 percent.\n",
      "Current progress is 15.0 percent.\n",
      "Current progress is 20.0 percent.\n",
      "Current progress is 25.0 percent.\n",
      "Current progress is 30.0 percent.\n",
      "Current progress is 35.0 percent.\n",
      "Current progress is 40.0 percent.\n",
      "Current progress is 45.0 percent.\n",
      "Current progress is 50.0 percent.\n",
      "Current progress is 55.0 percent.\n",
      "Current progress is 60.0 percent.\n",
      "Current progress is 65.0 percent.\n",
      "Current progress is 70.0 percent.\n",
      "Current progress is 75.0 percent.\n",
      "Current progress is 80.0 percent.\n",
      "Current progress is 85.0 percent.\n",
      "Current progress is 90.0 percent.\n",
      "Current progress is 95.0 percent.\n"
     ]
    }
   ],
   "source": [
    "def knn_kdtree_mod(PCs_train, PCs_test, k, label_train, label_test, testsize, leafsize):\n",
    "    \"\"\"returns the accuray of the KNN for test images\n",
    "\n",
    "    Args:\n",
    "        PCs_train (numpy array): transformed training data\n",
    "        PCs_test (numpy array): transformed testing data\n",
    "        k (int): number of neighbours \n",
    "        label_train (numpy array 1D): labels of training data\n",
    "        label_test (numpy array 1D): labels of testing data\n",
    "        testsize (int): number of testing images you want to classify\n",
    "        \n",
    "    Returns:\n",
    "        knn for number of testsize images\n",
    "    \"\"\"\n",
    "\n",
    "    result = np.array([])\n",
    "    kd_tree = spatial.KDTree(PCs_train,leafsize)\n",
    "    count_count = 0\n",
    "    for i in range(0, len(label_test), testsize):\n",
    "        if count_count % 10 == 0:\n",
    "            print(\"Current progress is \" + str(count_count*100/(len(label_test)/testsize)) + \" percent.\")\n",
    "        count_count += 1\n",
    "        dist, neighbour_index = kd_tree.query(PCs_test[i:i+testsize, None],p=2,k=k, workers = -1)\n",
    "        neighbour_label = label_train[neighbour_index]\n",
    "        batch_result = [mode(neighbour_label,axis=2)[0]]\n",
    "        batch_result = np.array(batch_result)\n",
    "        batch_result = np.squeeze(batch_result)\n",
    "        batch_result = batch_result.astype(int)\n",
    "        result = result.astype(int)\n",
    "        result = np.concatenate((result, batch_result), axis=0)\n",
    "    return result\n",
    "\n",
    "timeit.timeit('\"-\".join(str(n) for n in range(100))', number=1000000)\n",
    "\n",
    "timeit_leafsize = []\n",
    "leafsizes = np.array([1, 10, 20, 50, 100])\n",
    "for i in leafsizes:\n",
    "    knn_kdtree_mod(PCs_train, PCs_test, 4, label_train, label_test, 50, i)\n",
    "    timeit_leafsize.append(timeit.timeit('\"-\".join(str(n) for n in range(100))', number=1000000))\n",
    "\n"
   ]
  },
  {
   "cell_type": "code",
   "execution_count": 9,
   "metadata": {},
   "outputs": [
    {
     "ename": "NameError",
     "evalue": "name 'timeit_leafsize' is not defined",
     "output_type": "error",
     "traceback": [
      "\u001b[1;31m---------------------------------------------------------------------------\u001b[0m",
      "\u001b[1;31mNameError\u001b[0m                                 Traceback (most recent call last)",
      "\u001b[1;32mc:\\Users\\awark\\Bioinfo Projekt\\RäuberHotzenPLOTS.ipynb Cell 11\u001b[0m in \u001b[0;36m<cell line: 1>\u001b[1;34m()\u001b[0m\n\u001b[1;32m----> <a href='vscode-notebook-cell:/c%3A/Users/awark/Bioinfo%20Projekt/R%C3%A4uberHotzenPLOTS.ipynb#X13sZmlsZQ%3D%3D?line=0'>1</a>\u001b[0m timeit \u001b[39m=\u001b[39m pnd\u001b[39m.\u001b[39mDataFrame(timeit_leafsize, index\u001b[39m=\u001b[39m([\u001b[39m'\u001b[39m\u001b[39m1\u001b[39m\u001b[39m'\u001b[39m, \u001b[39m'\u001b[39m\u001b[39m10\u001b[39m\u001b[39m'\u001b[39m, \u001b[39m'\u001b[39m\u001b[39m20\u001b[39m\u001b[39m'\u001b[39m, \u001b[39m'\u001b[39m\u001b[39m50\u001b[39m\u001b[39m'\u001b[39m, \u001b[39m'\u001b[39m\u001b[39m100\u001b[39m\u001b[39m'\u001b[39m]),columns\u001b[39m=\u001b[39m([\u001b[39m'\u001b[39m\u001b[39mtimeit\u001b[39m\u001b[39m'\u001b[39m]))\n\u001b[0;32m      <a href='vscode-notebook-cell:/c%3A/Users/awark/Bioinfo%20Projekt/R%C3%A4uberHotzenPLOTS.ipynb#X13sZmlsZQ%3D%3D?line=1'>2</a>\u001b[0m \u001b[39mprint\u001b[39m(timeit)\n",
      "\u001b[1;31mNameError\u001b[0m: name 'timeit_leafsize' is not defined"
     ]
    }
   ],
   "source": [
    "timeit = pnd.DataFrame(timeit_leafsize, index=(['1', '10', '20', '50', '100']),columns=(['timeit']))\n",
    "print(timeit)\n",
    "\n"
   ]
  },
  {
   "cell_type": "code",
   "execution_count": 84,
   "metadata": {},
   "outputs": [
    {
     "data": {
      "image/png": "[encoded data removed]",
      "text/plain": [
       "<Figure size 432x288 with 1 Axes>"
      ]
     },
     "metadata": {
      "needs_background": "light"
     },
     "output_type": "display_data"
    }
   ],
   "source": [
    "# ROC curve in Python\n",
    "n_classes = 10\n",
    "dfmeasures_95var = pnd.read_csv('C:/Users/awark/Bioinfo Projekt/Results/95var.csv')\n",
    "ypred = np.array(label_binarize(dfmeasures_95var['2'], classes=range(n_classes)))\n",
    "\n",
    "y_bin = label_binarize(label_test, classes=range(n_classes))\n",
    "\n",
    "fpr = dict()\n",
    "tpr = dict()\n",
    "roc_auc = dict()\n",
    "for i in range(n_classes):\n",
    "    fpr[i], tpr[i], _ = roc_curve(y_bin[:, i], np.array(ypred[:, i]))\n",
    "    roc_auc[i] = auc(fpr[i], tpr[i])\n",
    "\n",
    "# Plot all ROC curves\n",
    "plt.figure()\n",
    "colors = cycle(['blue', 'red', 'green', 'purple', 'orange', 'brown', 'pink', 'gray', 'olive', 'cyan'])\n",
    "for i, color in zip(range(n_classes), colors):\n",
    "    plt.plot(fpr[i], tpr[i], color=color, lw=2, label='ROC curve of class {0} (area = {1:0.2f})'.format(i, roc_auc[i]))\n",
    "\n",
    "plt.plot([0, 1], [0, 1], 'k--', lw=2)\n",
    "plt.xlim([0.0, 1.0])\n",
    "plt.ylim([0.0, 1.05])\n",
    "plt.xlabel('False Positive Rate')\n",
    "plt.ylabel('True Positive Rate')\n",
    "plt.title('Receiver Operating Characteristic (ROC) Curve')\n",
    "plt.legend(loc=\"lower right\")\n",
    "plt.savefig('roc.png', dpi=600)\n",
    "plt.show()\n",
    "\n",
    "\n"
   ]
  }
 ],
 "metadata": {
  "kernelspec": {
   "display_name": "Python 3",
   "language": "python",
   "name": "python3"
  },
  "language_info": {
   "codemirror_mode": {
    "name": "ipython",
    "version": 3
   },
   "file_extension": ".py",
   "mimetype": "text/x-python",
   "name": "python",
   "nbconvert_exporter": "python",
   "pygments_lexer": "ipython3",
   "version": "3.10.4"
  },
  "orig_nbformat": 4
 },
 "nbformat": 4,
 "nbformat_minor": 2
}
