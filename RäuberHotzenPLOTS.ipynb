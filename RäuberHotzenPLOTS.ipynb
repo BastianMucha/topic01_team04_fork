{
 "cells": [
  {
   "attachments": {},
   "cell_type": "markdown",
   "metadata": {},
   "source": [
    "# Plots\n",
    "## Accuracy für KNN "
   ]
  },
  {
   "cell_type": "code",
   "execution_count": 9,
   "metadata": {},
   "outputs": [],
   "source": [
    "import numpy as np\n",
    "import pandas as pnd\n",
    "import sklearn\n",
    "from sklearn.metrics import confusion_matrix"
   ]
  },
  {
   "cell_type": "code",
   "execution_count": 6,
   "metadata": {},
   "outputs": [
    {
     "data": {
      "text/plain": [
       "Text(15.8, 0.9221, 'vgg-inspired cnn')"
      ]
     },
     "execution_count": 6,
     "metadata": {},
     "output_type": "execute_result"
    },
    {
     "data": {
      "image/png": "[encoded data removed]",
      "text/plain": [
       "<Figure size 463.125x360 with 1 Axes>"
      ]
     },
     "metadata": {
      "needs_background": "light"
     },
     "output_type": "display_data"
    }
   ],
   "source": [
    "import csv\n",
    "import seaborn as sns\n",
    "from scipy import spatial\n",
    "from collections import Counter\n",
    "from scipy.stats import mode\n",
    "from functions.PCA import pca\n",
    "from pathlib import Path\n",
    "import matplotlib.pyplot as plt\n",
    "import os\n",
    "import glob\n",
    "\n",
    "dataset = 1\n",
    "match dataset:\n",
    "    case 1:\n",
    "        test = 'fashion-mnist_test.csv'\n",
    "        train = 'fashion-mnist_train.csv'\n",
    "    case 2: \n",
    "        test = \"mnist_test.csv\"\n",
    "        train = \"mnist_train.csv\"\n",
    "testdata = pnd.read_csv(test)\n",
    "traindata = pnd.read_csv(train)\n",
    "\n",
    "testdata_pixel = testdata.drop(testdata.columns[0], axis=1).to_numpy()\n",
    "traindata_pixel = traindata.drop(traindata.columns[0], axis=1).to_numpy()\n",
    "label_train = traindata[traindata.columns[0]].to_numpy()\n",
    "label_test = testdata[testdata.columns[0]].to_numpy()\n",
    "\n",
    "class_names = np.array([\"T-shirt / Top\", \"Trouser\", \"Pullover\", \"Dress\", \"Coat\", \"Sandal\", \"Shirt\", \"Sneaker\", \"Bag\", \"Ankle Boot\"])\n",
    "\n",
    "folder_path = 'C:/Users/basti/compmeth2022/topic01_team04/Results/'  # Path to the \"results\" folder\n",
    "csv_filess = glob.glob(folder_path + '/*.csv')\n",
    "\n",
    "\n",
    "totallist = []\n",
    "for csvdata in csv_filess:\n",
    "    df = pnd.read_csv(csvdata)\n",
    "    for i in range(14):\n",
    "        accuracy = np.sum(df.iloc[:,i] == label_test)/ len(label_test)\n",
    "        totallist.append(accuracy)\n",
    "varvec = [0.25,0.5,0.75,0.8,0.85,0.9,0.95,1]\n",
    "pclist = [i for i in varvec for _ in range(14)]\n",
    "klist = [i for _ in range(8) for i in range(2,16)]\n",
    "totallist = pnd.DataFrame({\"number of k\":klist,\"accuracy\":totallist,\"explained variance\":pnd.Categorical(pclist, ordered=True)})\n",
    "\n",
    "palette = sns.color_palette('viridis', len(totallist['explained variance'].unique()))\n",
    "variancepcsks = sns.relplot(\n",
    "data=totallist,\n",
    "x = 'number of k',\n",
    "y= 'accuracy',\n",
    "hue = 'explained variance',\n",
    "palette = palette\n",
    ")\n",
    "plt.axhline(y=0.9085,color=\"green\",linewidth=2),\n",
    "plt.text(x=totallist['number of k'].max()+0.8, y=0.9085, s='lenet5-inspired cnn', color='green')\n",
    "plt.axhline(y=0.9221,color=\"darkgreen\",linewidth=2),\n",
    "plt.text(x=totallist['number of k'].max()+0.8, y=0.9221, s='vgg-inspired cnn', color='darkgreen')\n",
    "#plt.savefig('projectsummary.png',dpi=600) "
   ]
  },
  {
   "cell_type": "code",
   "execution_count": 22,
   "metadata": {},
   "outputs": [
    {
     "name": "stdout",
     "output_type": "stream",
     "text": [
      "               T-shirt / Top  Trouser  Pullover  Dress  Coat  Sandal  Shirt   \n",
      "T-shirt / Top           -137      -12         2     18   -17     -14    202  \\\n",
      "Trouser                  -14      119       -13     -9   -14     -14    -12   \n",
      "Pullover                  -1      -14      -105     -2    88     -15     80   \n",
      "Dress                     -1        0        -1     39    14     -14      4   \n",
      "Coat                     -10      -11        82     11   -83     -14     66   \n",
      "Sandal                   -13      -13       -13    -13   -13      98    -13   \n",
      "Shirt                     54       -8        56      7    53     -10   -131   \n",
      "Sneaker                  -14      -15       -15    -15   -15      36    -15   \n",
      "Bag                       -7      -13       -12    -13   -12     -11     -8   \n",
      "Ankle Boot               -13      -14       -14    -14   -14      18    -14   \n",
      "\n",
      "               Sneaker  Bag  Ankle Boot  \n",
      "T-shirt / Top      -17   -9         -17  \n",
      "Trouser            -14  -14         -14  \n",
      "Pullover           -15   -2         -15  \n",
      "Dress              -14  -13         -14  \n",
      "Coat               -14   -9         -14  \n",
      "Sandal               2  -12          -7  \n",
      "Shirt              -11    3         -11  \n",
      "Sneaker             29  -11          35  \n",
      "Bag                -13  110         -13  \n",
      "Ankle Boot          18  -11          61  \n"
     ]
    }
   ],
   "source": [
    "y_pred = pnd.read_csv(\"C:/Users/basti/compmeth2022/topic01_team04/Results/95var.csv\").iloc[:,2]\n",
    "conf = sklearn.metrics.confusion_matrix(y_pred, label_test)\n",
    "conf_df = pnd.DataFrame(conf, index=class_names, columns=class_names)\n",
    "rowsums = conf_df.sum(axis=1)\n",
    "acc = np.sum(y_pred == label_test)/ len(label_test)\n",
    "for i in range(10):\n",
    "    for j in range(10):\n",
    "        if i != j:\n",
    "            conf_df.values[i,j] -= (1-acc)*rowsums[i]/9\n",
    "        else: \n",
    "            conf_df.values[i,j] -= acc*rowsums[i]\n",
    "print(conf_df)"
   ]
  }
 ],
 "metadata": {
  "kernelspec": {
   "display_name": "Python 3",
   "language": "python",
   "name": "python3"
  },
  "language_info": {
   "codemirror_mode": {
    "name": "ipython",
    "version": 3
   },
   "file_extension": ".py",
   "mimetype": "text/x-python",
   "name": "python",
   "nbconvert_exporter": "python",
   "pygments_lexer": "ipython3",
   "version": "3.10.4"
  },
  "orig_nbformat": 4
 },
 "nbformat": 4,
 "nbformat_minor": 2
}
