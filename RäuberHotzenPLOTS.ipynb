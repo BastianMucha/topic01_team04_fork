{
 "cells": [
  {
   "attachments": {},
   "cell_type": "markdown",
   "metadata": {},
   "source": [
    "# Plots\n",
    "## Accuracy für KNN "
   ]
  },
  {
   "cell_type": "code",
   "execution_count": 10,
   "metadata": {},
   "outputs": [],
   "source": [
    "import numpy as np\n",
    "import pandas as pnd\n",
    "import sklearn\n",
    "from sklearn.preprocessing import label_binarize\n",
    "from sklearn.metrics import confusion_matrix, roc_curve, auc\n",
    "from functions.KNN import*"
   ]
  },
  {
   "cell_type": "code",
   "execution_count": 12,
   "metadata": {},
   "outputs": [
    {
     "name": "stdout",
     "output_type": "stream",
     "text": [
      "(784, 784)\n",
      "Our eigenvectors explain 95.02224534091702 percent of total variance\n",
      "256 eigenvectors are used\n"
     ]
    },
    {
     "ename": "ValueError",
     "evalue": "('Lengths must match to compare', (14,), (10000,))",
     "output_type": "error",
     "traceback": [
      "\u001b[1;31m---------------------------------------------------------------------------\u001b[0m",
      "\u001b[1;31mValueError\u001b[0m                                Traceback (most recent call last)",
      "Cell \u001b[1;32mIn[12], line 49\u001b[0m\n\u001b[0;32m     47\u001b[0m     df \u001b[39m=\u001b[39m pnd\u001b[39m.\u001b[39mread_csv(csvdata)\n\u001b[0;32m     48\u001b[0m     \u001b[39mfor\u001b[39;00m i \u001b[39min\u001b[39;00m \u001b[39mrange\u001b[39m(\u001b[39m14\u001b[39m):\n\u001b[1;32m---> 49\u001b[0m         accuracy \u001b[39m=\u001b[39m np\u001b[39m.\u001b[39msum(df\u001b[39m.\u001b[39;49miloc[:,i] \u001b[39m==\u001b[39;49m label_test)\u001b[39m/\u001b[39m \u001b[39mlen\u001b[39m(label_test)\n\u001b[0;32m     50\u001b[0m         totallist\u001b[39m.\u001b[39mappend(accuracy)\n\u001b[0;32m     51\u001b[0m varvec \u001b[39m=\u001b[39m [\u001b[39m0.25\u001b[39m,\u001b[39m0.5\u001b[39m,\u001b[39m0.75\u001b[39m,\u001b[39m0.8\u001b[39m,\u001b[39m0.85\u001b[39m,\u001b[39m0.9\u001b[39m,\u001b[39m0.95\u001b[39m,\u001b[39m1\u001b[39m]\n",
      "File \u001b[1;32mc:\\Users\\Ole Decker\\mambaforge\\envs\\compmeth2022\\lib\\site-packages\\pandas\\core\\ops\\common.py:81\u001b[0m, in \u001b[0;36m_unpack_zerodim_and_defer.<locals>.new_method\u001b[1;34m(self, other)\u001b[0m\n\u001b[0;32m     77\u001b[0m             \u001b[39mreturn\u001b[39;00m \u001b[39mNotImplemented\u001b[39m\n\u001b[0;32m     79\u001b[0m other \u001b[39m=\u001b[39m item_from_zerodim(other)\n\u001b[1;32m---> 81\u001b[0m \u001b[39mreturn\u001b[39;00m method(\u001b[39mself\u001b[39;49m, other)\n",
      "File \u001b[1;32mc:\\Users\\Ole Decker\\mambaforge\\envs\\compmeth2022\\lib\\site-packages\\pandas\\core\\arraylike.py:40\u001b[0m, in \u001b[0;36mOpsMixin.__eq__\u001b[1;34m(self, other)\u001b[0m\n\u001b[0;32m     38\u001b[0m \u001b[39m@unpack_zerodim_and_defer\u001b[39m(\u001b[39m\"\u001b[39m\u001b[39m__eq__\u001b[39m\u001b[39m\"\u001b[39m)\n\u001b[0;32m     39\u001b[0m \u001b[39mdef\u001b[39;00m \u001b[39m__eq__\u001b[39m(\u001b[39mself\u001b[39m, other):\n\u001b[1;32m---> 40\u001b[0m     \u001b[39mreturn\u001b[39;00m \u001b[39mself\u001b[39;49m\u001b[39m.\u001b[39;49m_cmp_method(other, operator\u001b[39m.\u001b[39;49meq)\n",
      "File \u001b[1;32mc:\\Users\\Ole Decker\\mambaforge\\envs\\compmeth2022\\lib\\site-packages\\pandas\\core\\series.py:6092\u001b[0m, in \u001b[0;36mSeries._cmp_method\u001b[1;34m(self, other, op)\u001b[0m\n\u001b[0;32m   6089\u001b[0m rvalues \u001b[39m=\u001b[39m extract_array(other, extract_numpy\u001b[39m=\u001b[39m\u001b[39mTrue\u001b[39;00m, extract_range\u001b[39m=\u001b[39m\u001b[39mTrue\u001b[39;00m)\n\u001b[0;32m   6091\u001b[0m \u001b[39mwith\u001b[39;00m np\u001b[39m.\u001b[39merrstate(\u001b[39mall\u001b[39m\u001b[39m=\u001b[39m\u001b[39m\"\u001b[39m\u001b[39mignore\u001b[39m\u001b[39m\"\u001b[39m):\n\u001b[1;32m-> 6092\u001b[0m     res_values \u001b[39m=\u001b[39m ops\u001b[39m.\u001b[39;49mcomparison_op(lvalues, rvalues, op)\n\u001b[0;32m   6094\u001b[0m \u001b[39mreturn\u001b[39;00m \u001b[39mself\u001b[39m\u001b[39m.\u001b[39m_construct_result(res_values, name\u001b[39m=\u001b[39mres_name)\n",
      "File \u001b[1;32mc:\\Users\\Ole Decker\\mambaforge\\envs\\compmeth2022\\lib\\site-packages\\pandas\\core\\ops\\array_ops.py:270\u001b[0m, in \u001b[0;36mcomparison_op\u001b[1;34m(left, right, op)\u001b[0m\n\u001b[0;32m    265\u001b[0m \u001b[39mif\u001b[39;00m \u001b[39misinstance\u001b[39m(rvalues, (np\u001b[39m.\u001b[39mndarray, ABCExtensionArray)):\n\u001b[0;32m    266\u001b[0m     \u001b[39m# TODO: make this treatment consistent across ops and classes.\u001b[39;00m\n\u001b[0;32m    267\u001b[0m     \u001b[39m#  We are not catching all listlikes here (e.g. frozenset, tuple)\u001b[39;00m\n\u001b[0;32m    268\u001b[0m     \u001b[39m#  The ambiguous case is object-dtype.  See GH#27803\u001b[39;00m\n\u001b[0;32m    269\u001b[0m     \u001b[39mif\u001b[39;00m \u001b[39mlen\u001b[39m(lvalues) \u001b[39m!=\u001b[39m \u001b[39mlen\u001b[39m(rvalues):\n\u001b[1;32m--> 270\u001b[0m         \u001b[39mraise\u001b[39;00m \u001b[39mValueError\u001b[39;00m(\n\u001b[0;32m    271\u001b[0m             \u001b[39m\"\u001b[39m\u001b[39mLengths must match to compare\u001b[39m\u001b[39m\"\u001b[39m, lvalues\u001b[39m.\u001b[39mshape, rvalues\u001b[39m.\u001b[39mshape\n\u001b[0;32m    272\u001b[0m         )\n\u001b[0;32m    274\u001b[0m \u001b[39mif\u001b[39;00m should_extension_dispatch(lvalues, rvalues) \u001b[39mor\u001b[39;00m (\n\u001b[0;32m    275\u001b[0m     (\u001b[39misinstance\u001b[39m(rvalues, (Timedelta, BaseOffset, Timestamp)) \u001b[39mor\u001b[39;00m right \u001b[39mis\u001b[39;00m NaT)\n\u001b[0;32m    276\u001b[0m     \u001b[39mand\u001b[39;00m \u001b[39mnot\u001b[39;00m is_object_dtype(lvalues\u001b[39m.\u001b[39mdtype)\n\u001b[0;32m    277\u001b[0m ):\n\u001b[0;32m    278\u001b[0m     \u001b[39m# Call the method on lvalues\u001b[39;00m\n\u001b[0;32m    279\u001b[0m     res_values \u001b[39m=\u001b[39m op(lvalues, rvalues)\n",
      "\u001b[1;31mValueError\u001b[0m: ('Lengths must match to compare', (14,), (10000,))"
     ]
    }
   ],
   "source": [
    "import csv\n",
    "import seaborn as sns\n",
    "from scipy import spatial\n",
    "from scipy.spatial import KDTree\n",
    "from collections import Counter\n",
    "from scipy.stats import mode\n",
    "from functions.PCA import pca\n",
    "from pathlib import Path\n",
    "import matplotlib.pyplot as plt\n",
    "import os\n",
    "import timeit\n",
    "from itertools import cycle\n",
    "from collections import Counter\n",
    "from scipy.stats import mode\n",
    "from scipy import spatial\n",
    "import glob\n",
    "\n",
    "\n",
    "\n",
    "dataset = 1\n",
    "match dataset:\n",
    "    case 1:\n",
    "        test = 'fashion-mnist_test.csv'\n",
    "        train = 'fashion-mnist_train.csv'\n",
    "    case 2: \n",
    "        test = \"mnist_test.csv\"\n",
    "        train = \"mnist_train.csv\"\n",
    "testdata = pnd.read_csv(test)\n",
    "traindata = pnd.read_csv(train)\n",
    "\n",
    "testdata_pixel = testdata.drop(testdata.columns[0], axis=1).to_numpy()\n",
    "traindata_pixel = traindata.drop(traindata.columns[0], axis=1).to_numpy()\n",
    "label_train = traindata[traindata.columns[0]].to_numpy()\n",
    "label_test = testdata[testdata.columns[0]].to_numpy()\n",
    "\n",
    "\n",
    "PCs_train, PCs_test = pca(traindata_pixel,testdata_pixel,0.95)\n",
    "\n",
    "class_names = np.array([\"T-shirt / Top\", \"Trouser\", \"Pullover\", \"Dress\", \"Coat\", \"Sandal\", \"Shirt\", \"Sneaker\", \"Bag\", \"Ankle Boot\"])\n",
    "\n",
    "folder_path = 'Results/'  # Path to the \"results\" folder\n",
    "csv_filess = glob.glob(folder_path + '/*.csv')\n",
    "\n",
    "\n",
    "totallist = []\n",
    "for csvdata in csv_filess:\n",
    "    df = pnd.read_csv(csvdata)\n",
    "    for i in range(14):\n",
    "        accuracy = np.sum(df.iloc[:,i] == label_test)/ len(label_test)\n",
    "        totallist.append(accuracy)\n",
    "varvec = [0.25,0.5,0.75,0.8,0.85,0.9,0.95,1]\n",
    "pclist = [i for i in varvec for _ in range(14)]\n",
    "klist = [i for _ in range(8) for i in range(2,16)]\n",
    "totallist = pnd.DataFrame({\"number of k\":klist,\"accuracy\":totallist,\"explained variance\":pnd.Categorical(pclist, ordered=True)})\n",
    "\n",
    "palette = sns.color_palette('viridis', len(totallist['explained variance'].unique()))\n",
    "variancepcsks = sns.relplot(\n",
    "data=totallist,\n",
    "x = 'number of k',\n",
    "y= 'accuracy',\n",
    "hue = 'explained variance',\n",
    "palette = palette\n",
    ")\n",
    "plt.axhline(y=0.9085,color=\"green\",linewidth=2),\n",
    "plt.text(x=totallist['number of k'].max()+0.8, y=0.9085, s='lenet5-inspired cnn', color='green')\n",
    "plt.axhline(y=0.9221,color=\"darkgreen\",linewidth=2),\n",
    "plt.text(x=totallist['number of k'].max()+0.8, y=0.9221, s='vgg-inspired cnn', color='darkgreen')\n",
    "#plt.savefig('projectsummary.png',dpi=600) "
   ]
  },
  {
   "cell_type": "code",
   "execution_count": 7,
   "metadata": {},
   "outputs": [
    {
     "ename": "NameError",
     "evalue": "name 'label_test' is not defined",
     "output_type": "error",
     "traceback": [
      "\u001b[1;31m---------------------------------------------------------------------------\u001b[0m",
      "\u001b[1;31mNameError\u001b[0m                                 Traceback (most recent call last)",
      "Cell \u001b[1;32mIn[7], line 2\u001b[0m\n\u001b[0;32m      1\u001b[0m y_pred \u001b[39m=\u001b[39m pnd\u001b[39m.\u001b[39mread_csv(\u001b[39m\"\u001b[39m\u001b[39mResults/95var.csv\u001b[39m\u001b[39m\"\u001b[39m)\u001b[39m.\u001b[39miloc[:,\u001b[39m2\u001b[39m]\n\u001b[1;32m----> 2\u001b[0m conf \u001b[39m=\u001b[39m sklearn\u001b[39m.\u001b[39mmetrics\u001b[39m.\u001b[39mconfusion_matrix(y_pred, label_test)\n\u001b[0;32m      3\u001b[0m conf_df \u001b[39m=\u001b[39m pnd\u001b[39m.\u001b[39mDataFrame(conf, index\u001b[39m=\u001b[39mclass_names, columns\u001b[39m=\u001b[39mclass_names)\n\u001b[0;32m      4\u001b[0m conf_df \u001b[39m=\u001b[39m conf_df\u001b[39m.\u001b[39mastype(\u001b[39mfloat\u001b[39m)\n",
      "\u001b[1;31mNameError\u001b[0m: name 'label_test' is not defined"
     ]
    }
   ],
   "source": [
    "y_pred = pnd.read_csv(\"./Results/95var.csv\").iloc[:,2]\n",
    "conf = sklearn.metrics.confusion_matrix(y_pred, label_test)\n",
    "conf_df = pnd.DataFrame(conf, index=class_names, columns=class_names)\n",
    "conf_df = conf_df.astype(float)\n",
    "rowsums = conf_df.sum(axis=1)\n",
    "acc = np.sum(y_pred == label_test)/ len(label_test)\n",
    "for i in range(len(conf_df)):\n",
    "    for j in range(len(conf_df.columns)):\n",
    "        if i != j:\n",
    "            conf_df.values[i,j] -= (1-acc)*rowsums[i]/(len(conf_df)-1)\n",
    "            conf_df.values[i,j] *= -1\n",
    "        else: \n",
    "            conf_df.values[i,j] -= acc*rowsums[i]\n",
    "sns.heatmap(conf_df, annot=True, cmap= \"RdBu\", annot_kws={\"fontsize\":6},fmt=\",.1f\",center=0)\n",
    "#plt.savefig('knn_chi.png',dpi=600)"
   ]
  },
  {
   "cell_type": "code",
   "execution_count": 6,
   "metadata": {},
   "outputs": [
    {
     "ename": "FileNotFoundError",
     "evalue": "[Errno 2] No such file or directory: 'C:/Users/awark/Bioinfo Projekt/Results/95var.csv'",
     "output_type": "error",
     "traceback": [
      "\u001b[1;31m---------------------------------------------------------------------------\u001b[0m",
      "\u001b[1;31mFileNotFoundError\u001b[0m                         Traceback (most recent call last)",
      "Cell \u001b[1;32mIn[6], line 2\u001b[0m\n\u001b[0;32m      1\u001b[0m \u001b[39m# Confusion Matrix vor k = 4 and PC Variance 95%\u001b[39;00m\n\u001b[1;32m----> 2\u001b[0m dftest \u001b[39m=\u001b[39m pnd\u001b[39m.\u001b[39;49mread_csv(\u001b[39m'\u001b[39;49m\u001b[39mC:/Users/awark/Bioinfo Projekt/Results/95var.csv\u001b[39;49m\u001b[39m'\u001b[39;49m)\n\u001b[0;32m      3\u001b[0m y_pred \u001b[39m=\u001b[39m np\u001b[39m.\u001b[39marray(dftest[\u001b[39m'\u001b[39m\u001b[39m2\u001b[39m\u001b[39m'\u001b[39m])\n\u001b[0;32m      4\u001b[0m y_true \u001b[39m=\u001b[39m label_test\n",
      "File \u001b[1;32mc:\\Users\\Ole Decker\\mambaforge\\envs\\compmeth2022\\lib\\site-packages\\pandas\\io\\parsers\\readers.py:912\u001b[0m, in \u001b[0;36mread_csv\u001b[1;34m(filepath_or_buffer, sep, delimiter, header, names, index_col, usecols, dtype, engine, converters, true_values, false_values, skipinitialspace, skiprows, skipfooter, nrows, na_values, keep_default_na, na_filter, verbose, skip_blank_lines, parse_dates, infer_datetime_format, keep_date_col, date_parser, date_format, dayfirst, cache_dates, iterator, chunksize, compression, thousands, decimal, lineterminator, quotechar, quoting, doublequote, escapechar, comment, encoding, encoding_errors, dialect, on_bad_lines, delim_whitespace, low_memory, memory_map, float_precision, storage_options, dtype_backend)\u001b[0m\n\u001b[0;32m    899\u001b[0m kwds_defaults \u001b[39m=\u001b[39m _refine_defaults_read(\n\u001b[0;32m    900\u001b[0m     dialect,\n\u001b[0;32m    901\u001b[0m     delimiter,\n\u001b[1;32m   (...)\u001b[0m\n\u001b[0;32m    908\u001b[0m     dtype_backend\u001b[39m=\u001b[39mdtype_backend,\n\u001b[0;32m    909\u001b[0m )\n\u001b[0;32m    910\u001b[0m kwds\u001b[39m.\u001b[39mupdate(kwds_defaults)\n\u001b[1;32m--> 912\u001b[0m \u001b[39mreturn\u001b[39;00m _read(filepath_or_buffer, kwds)\n",
      "File \u001b[1;32mc:\\Users\\Ole Decker\\mambaforge\\envs\\compmeth2022\\lib\\site-packages\\pandas\\io\\parsers\\readers.py:577\u001b[0m, in \u001b[0;36m_read\u001b[1;34m(filepath_or_buffer, kwds)\u001b[0m\n\u001b[0;32m    574\u001b[0m _validate_names(kwds\u001b[39m.\u001b[39mget(\u001b[39m\"\u001b[39m\u001b[39mnames\u001b[39m\u001b[39m\"\u001b[39m, \u001b[39mNone\u001b[39;00m))\n\u001b[0;32m    576\u001b[0m \u001b[39m# Create the parser.\u001b[39;00m\n\u001b[1;32m--> 577\u001b[0m parser \u001b[39m=\u001b[39m TextFileReader(filepath_or_buffer, \u001b[39m*\u001b[39m\u001b[39m*\u001b[39mkwds)\n\u001b[0;32m    579\u001b[0m \u001b[39mif\u001b[39;00m chunksize \u001b[39mor\u001b[39;00m iterator:\n\u001b[0;32m    580\u001b[0m     \u001b[39mreturn\u001b[39;00m parser\n",
      "File \u001b[1;32mc:\\Users\\Ole Decker\\mambaforge\\envs\\compmeth2022\\lib\\site-packages\\pandas\\io\\parsers\\readers.py:1407\u001b[0m, in \u001b[0;36mTextFileReader.__init__\u001b[1;34m(self, f, engine, **kwds)\u001b[0m\n\u001b[0;32m   1404\u001b[0m     \u001b[39mself\u001b[39m\u001b[39m.\u001b[39moptions[\u001b[39m\"\u001b[39m\u001b[39mhas_index_names\u001b[39m\u001b[39m\"\u001b[39m] \u001b[39m=\u001b[39m kwds[\u001b[39m\"\u001b[39m\u001b[39mhas_index_names\u001b[39m\u001b[39m\"\u001b[39m]\n\u001b[0;32m   1406\u001b[0m \u001b[39mself\u001b[39m\u001b[39m.\u001b[39mhandles: IOHandles \u001b[39m|\u001b[39m \u001b[39mNone\u001b[39;00m \u001b[39m=\u001b[39m \u001b[39mNone\u001b[39;00m\n\u001b[1;32m-> 1407\u001b[0m \u001b[39mself\u001b[39m\u001b[39m.\u001b[39m_engine \u001b[39m=\u001b[39m \u001b[39mself\u001b[39;49m\u001b[39m.\u001b[39;49m_make_engine(f, \u001b[39mself\u001b[39;49m\u001b[39m.\u001b[39;49mengine)\n",
      "File \u001b[1;32mc:\\Users\\Ole Decker\\mambaforge\\envs\\compmeth2022\\lib\\site-packages\\pandas\\io\\parsers\\readers.py:1661\u001b[0m, in \u001b[0;36mTextFileReader._make_engine\u001b[1;34m(self, f, engine)\u001b[0m\n\u001b[0;32m   1659\u001b[0m     \u001b[39mif\u001b[39;00m \u001b[39m\"\u001b[39m\u001b[39mb\u001b[39m\u001b[39m\"\u001b[39m \u001b[39mnot\u001b[39;00m \u001b[39min\u001b[39;00m mode:\n\u001b[0;32m   1660\u001b[0m         mode \u001b[39m+\u001b[39m\u001b[39m=\u001b[39m \u001b[39m\"\u001b[39m\u001b[39mb\u001b[39m\u001b[39m\"\u001b[39m\n\u001b[1;32m-> 1661\u001b[0m \u001b[39mself\u001b[39m\u001b[39m.\u001b[39mhandles \u001b[39m=\u001b[39m get_handle(\n\u001b[0;32m   1662\u001b[0m     f,\n\u001b[0;32m   1663\u001b[0m     mode,\n\u001b[0;32m   1664\u001b[0m     encoding\u001b[39m=\u001b[39;49m\u001b[39mself\u001b[39;49m\u001b[39m.\u001b[39;49moptions\u001b[39m.\u001b[39;49mget(\u001b[39m\"\u001b[39;49m\u001b[39mencoding\u001b[39;49m\u001b[39m\"\u001b[39;49m, \u001b[39mNone\u001b[39;49;00m),\n\u001b[0;32m   1665\u001b[0m     compression\u001b[39m=\u001b[39;49m\u001b[39mself\u001b[39;49m\u001b[39m.\u001b[39;49moptions\u001b[39m.\u001b[39;49mget(\u001b[39m\"\u001b[39;49m\u001b[39mcompression\u001b[39;49m\u001b[39m\"\u001b[39;49m, \u001b[39mNone\u001b[39;49;00m),\n\u001b[0;32m   1666\u001b[0m     memory_map\u001b[39m=\u001b[39;49m\u001b[39mself\u001b[39;49m\u001b[39m.\u001b[39;49moptions\u001b[39m.\u001b[39;49mget(\u001b[39m\"\u001b[39;49m\u001b[39mmemory_map\u001b[39;49m\u001b[39m\"\u001b[39;49m, \u001b[39mFalse\u001b[39;49;00m),\n\u001b[0;32m   1667\u001b[0m     is_text\u001b[39m=\u001b[39;49mis_text,\n\u001b[0;32m   1668\u001b[0m     errors\u001b[39m=\u001b[39;49m\u001b[39mself\u001b[39;49m\u001b[39m.\u001b[39;49moptions\u001b[39m.\u001b[39;49mget(\u001b[39m\"\u001b[39;49m\u001b[39mencoding_errors\u001b[39;49m\u001b[39m\"\u001b[39;49m, \u001b[39m\"\u001b[39;49m\u001b[39mstrict\u001b[39;49m\u001b[39m\"\u001b[39;49m),\n\u001b[0;32m   1669\u001b[0m     storage_options\u001b[39m=\u001b[39;49m\u001b[39mself\u001b[39;49m\u001b[39m.\u001b[39;49moptions\u001b[39m.\u001b[39;49mget(\u001b[39m\"\u001b[39;49m\u001b[39mstorage_options\u001b[39;49m\u001b[39m\"\u001b[39;49m, \u001b[39mNone\u001b[39;49;00m),\n\u001b[0;32m   1670\u001b[0m )\n\u001b[0;32m   1671\u001b[0m \u001b[39massert\u001b[39;00m \u001b[39mself\u001b[39m\u001b[39m.\u001b[39mhandles \u001b[39mis\u001b[39;00m \u001b[39mnot\u001b[39;00m \u001b[39mNone\u001b[39;00m\n\u001b[0;32m   1672\u001b[0m f \u001b[39m=\u001b[39m \u001b[39mself\u001b[39m\u001b[39m.\u001b[39mhandles\u001b[39m.\u001b[39mhandle\n",
      "File \u001b[1;32mc:\\Users\\Ole Decker\\mambaforge\\envs\\compmeth2022\\lib\\site-packages\\pandas\\io\\common.py:859\u001b[0m, in \u001b[0;36mget_handle\u001b[1;34m(path_or_buf, mode, encoding, compression, memory_map, is_text, errors, storage_options)\u001b[0m\n\u001b[0;32m    854\u001b[0m \u001b[39melif\u001b[39;00m \u001b[39misinstance\u001b[39m(handle, \u001b[39mstr\u001b[39m):\n\u001b[0;32m    855\u001b[0m     \u001b[39m# Check whether the filename is to be opened in binary mode.\u001b[39;00m\n\u001b[0;32m    856\u001b[0m     \u001b[39m# Binary mode does not support 'encoding' and 'newline'.\u001b[39;00m\n\u001b[0;32m    857\u001b[0m     \u001b[39mif\u001b[39;00m ioargs\u001b[39m.\u001b[39mencoding \u001b[39mand\u001b[39;00m \u001b[39m\"\u001b[39m\u001b[39mb\u001b[39m\u001b[39m\"\u001b[39m \u001b[39mnot\u001b[39;00m \u001b[39min\u001b[39;00m ioargs\u001b[39m.\u001b[39mmode:\n\u001b[0;32m    858\u001b[0m         \u001b[39m# Encoding\u001b[39;00m\n\u001b[1;32m--> 859\u001b[0m         handle \u001b[39m=\u001b[39m \u001b[39mopen\u001b[39;49m(\n\u001b[0;32m    860\u001b[0m             handle,\n\u001b[0;32m    861\u001b[0m             ioargs\u001b[39m.\u001b[39;49mmode,\n\u001b[0;32m    862\u001b[0m             encoding\u001b[39m=\u001b[39;49mioargs\u001b[39m.\u001b[39;49mencoding,\n\u001b[0;32m    863\u001b[0m             errors\u001b[39m=\u001b[39;49merrors,\n\u001b[0;32m    864\u001b[0m             newline\u001b[39m=\u001b[39;49m\u001b[39m\"\u001b[39;49m\u001b[39m\"\u001b[39;49m,\n\u001b[0;32m    865\u001b[0m         )\n\u001b[0;32m    866\u001b[0m     \u001b[39melse\u001b[39;00m:\n\u001b[0;32m    867\u001b[0m         \u001b[39m# Binary mode\u001b[39;00m\n\u001b[0;32m    868\u001b[0m         handle \u001b[39m=\u001b[39m \u001b[39mopen\u001b[39m(handle, ioargs\u001b[39m.\u001b[39mmode)\n",
      "\u001b[1;31mFileNotFoundError\u001b[0m: [Errno 2] No such file or directory: 'C:/Users/awark/Bioinfo Projekt/Results/95var.csv'"
     ]
    }
   ],
   "source": [
    "# Confusion Matrix vor k = 4 and PC Variance 95%\n",
    "dftest = pnd.read_csv('C:/Users/awark/Bioinfo Projekt/Results/95var.csv')\n",
    "y_pred = np.array(dftest['2'])\n",
    "y_true = label_test\n",
    "class_names = np.array([\"T-shirt / Top\", \"Trouser\", \"Pullover\", \"Dress\", \"Coat\", \"Sandal\", \"Shirt\", \"Sneaker\", \"Bag\", \"Ankle Boot\"])\n",
    "conf = sklearn.metrics.confusion_marix(y_pred, label_test)\n",
    "conf_df = pnd.DataFrame(conf, index=class_names, columns=class_names)\n",
    "conf_df = round(conf_df*100 / conf_df.sum(axis=1),2)\n",
    "print(conf_df)\n",
    "\n",
    "sns.heatmap(conf_df, annot=True, cmap='RdYlGn')"
   ]
  },
  {
   "cell_type": "code",
   "execution_count": 7,
   "metadata": {},
   "outputs": [
    {
     "ename": "NameError",
     "evalue": "name 'csv_filess' is not defined",
     "output_type": "error",
     "traceback": [
      "\u001b[1;31m---------------------------------------------------------------------------\u001b[0m",
      "\u001b[1;31mNameError\u001b[0m                                 Traceback (most recent call last)",
      "Cell \u001b[1;32mIn[7], line 5\u001b[0m\n\u001b[0;32m      2\u001b[0m listrec \u001b[39m=\u001b[39m []\n\u001b[0;32m      3\u001b[0m listfscore \u001b[39m=\u001b[39m []\n\u001b[1;32m----> 5\u001b[0m \u001b[39mfor\u001b[39;00m csvdata \u001b[39min\u001b[39;00m csv_filess:\n\u001b[0;32m      6\u001b[0m     dfmeasures \u001b[39m=\u001b[39m pnd\u001b[39m.\u001b[39mread_csv(csvdata)\n\u001b[0;32m      7\u001b[0m     \u001b[39mfor\u001b[39;00m i \u001b[39min\u001b[39;00m \u001b[39mrange\u001b[39m(\u001b[39m14\u001b[39m):\n",
      "\u001b[1;31mNameError\u001b[0m: name 'csv_filess' is not defined"
     ]
    }
   ],
   "source": [
    "listprec = []\n",
    "listrec = []\n",
    "listfscore = []\n",
    "\n",
    "for csvdata in csv_filess:\n",
    "    dfmeasures = pnd.read_csv(csvdata)\n",
    "    for i in range(14):\n",
    "        ytrue=label_test\n",
    "        ypred = dfmeasures.iloc[4]\n",
    "        prf = sklearn.metrics.precision_recall_fscore_support(ytrue, ypred, average=None, labels=label_test)\n",
    "        precision=prf[0]\n",
    "        recall=prf[1]\n",
    "        fscore=prf[2]       \n",
    "        listprec.append(precision)\n",
    "        listrec.append(recall)\n",
    "        listfscore.append(fscore)\n",
    "\n",
    "listprec95 = []\n",
    "listrec95 = []\n",
    "listfscore95 = []\n",
    "listprec95avg = []\n",
    "\n",
    "dfmeasures_95var = pnd.read_csv('C:/Users/awark/Bioinfo Projekt/Results/95var.csv')\n",
    "for i in range(14):\n",
    "    ypred=dfmeasures['2']\n",
    "    ytrue = label_test\n",
    "    prf95=sklearn.metrics.precision_recall_fscore_support(ytrue, ypred, average=None, labels=label_test)\n",
    "    prf95avg=sklearn.metrics.average_precision_score(ytrue, ypred)\n",
    "    precision95 = prf95[0]\n",
    "    recall95 = prf95[1]\n",
    "    fscore95 = prf95[2]\n",
    "    listprec95.append(precision)\n",
    "    listrec95.append(recall)\n",
    "    listfscore95.append(fscore)\n",
    "\n",
    "\n",
    "        \n"
   ]
  },
  {
   "attachments": {},
   "cell_type": "markdown",
   "metadata": {},
   "source": [
    "Timeit Befehl: KNN kdtrees gegen KNN"
   ]
  },
  {
   "cell_type": "code",
   "execution_count": 8,
   "metadata": {},
   "outputs": [
    {
     "ename": "NameError",
     "evalue": "name 'PCs_test' is not defined",
     "output_type": "error",
     "traceback": [
      "\u001b[1;31m---------------------------------------------------------------------------\u001b[0m",
      "\u001b[1;31mNameError\u001b[0m                                 Traceback (most recent call last)",
      "Cell \u001b[1;32mIn[8], line 33\u001b[0m\n\u001b[0;32m     30\u001b[0m         result \u001b[39m=\u001b[39m np\u001b[39m.\u001b[39mconcatenate((result, batch_result), axis\u001b[39m=\u001b[39m\u001b[39m0\u001b[39m)\n\u001b[0;32m     31\u001b[0m     \u001b[39mreturn\u001b[39;00m result\n\u001b[1;32m---> 33\u001b[0m knn_kdtree(PCs_test, PCs_test, \u001b[39m4\u001b[39m, label_train, label_test, \u001b[39m50\u001b[39m)\n\u001b[0;32m     35\u001b[0m knn_kdtree_timeit \u001b[39m=\u001b[39m timeit\u001b[39m.\u001b[39mtimeit(\u001b[39m'\u001b[39m\u001b[39m\"\u001b[39m\u001b[39m-\u001b[39m\u001b[39m\"\u001b[39m\u001b[39m.join(str(n) for n in range(100))\u001b[39m\u001b[39m'\u001b[39m, number\u001b[39m=\u001b[39m\u001b[39m1000000\u001b[39m)\n\u001b[0;32m     37\u001b[0m \u001b[39m### 1,10,20,50,100\u001b[39;00m\n",
      "\u001b[1;31mNameError\u001b[0m: name 'PCs_test' is not defined"
     ]
    }
   ],
   "source": [
    "def knn_kdtree(PCs_train, PCs_test, k, label_train, label_test, testsize):\n",
    "    \"\"\"returns the accuray of the KNN for test images\n",
    "\n",
    "    Args:\n",
    "        PCs_train (numpy array): transformed training data\n",
    "        PCs_test (numpy array): transformed testing data\n",
    "        k (int): number of neighbours \n",
    "        label_train (numpy array 1D): labels of training data\n",
    "        label_test (numpy array 1D): labels of testing data\n",
    "        testsize (int): number of testing images you want to classify\n",
    "        \n",
    "    Returns:\n",
    "        knn for number of testsize images\n",
    "    \"\"\"\n",
    "\n",
    "    result = np.array([])\n",
    "    kd_tree = spatial.KDTree(PCs_train,leafsize=10)\n",
    "    count_count = 0\n",
    "    for i in range(0, len(label_test), testsize):\n",
    "        if count_count % 10 == 0:\n",
    "            print(\"Current progress is \" + str(count_count*100/(len(label_test)/testsize)) + \" percent.\")\n",
    "        count_count += 1\n",
    "        dist, neighbour_index = kd_tree.query(PCs_test[i:i+testsize, None],p=2,k=k, workers = -1)\n",
    "        neighbour_label = label_train[neighbour_index]\n",
    "        batch_result = [mode(neighbour_label,axis=2)[0]]\n",
    "        batch_result = np.array(batch_result)\n",
    "        batch_result = np.squeeze(batch_result)\n",
    "        batch_result = batch_result.astype(int)\n",
    "        result = result.astype(int)\n",
    "        result = np.concatenate((result, batch_result), axis=0)\n",
    "    return result\n",
    "\n",
    "knn_kdtree(PCs_test, PCs_test, 4, label_train, label_test, 50)\n",
    "\n",
    "knn_kdtree_timeit = timeit.timeit('\"-\".join(str(n) for n in range(100))', number=1000000)\n",
    "\n",
    "### 1,10,20,50,100\n"
   ]
  },
  {
   "cell_type": "code",
   "execution_count": 9,
   "metadata": {},
   "outputs": [
    {
     "ename": "NameError",
     "evalue": "name 'PCs_train' is not defined",
     "output_type": "error",
     "traceback": [
      "\u001b[1;31m---------------------------------------------------------------------------\u001b[0m",
      "\u001b[1;31mNameError\u001b[0m                                 Traceback (most recent call last)",
      "Cell \u001b[1;32mIn[9], line 1\u001b[0m\n\u001b[1;32m----> 1\u001b[0m knn_quality(PCs_train, PCs_test, \u001b[39m4\u001b[39m, label_train, label_test, \u001b[39m50\u001b[39m)\n\u001b[0;32m      2\u001b[0m timeit_knnquality \u001b[39m=\u001b[39m timeit\u001b[39m.\u001b[39mtimeit(\u001b[39m'\u001b[39m\u001b[39m\"\u001b[39m\u001b[39m-\u001b[39m\u001b[39m\"\u001b[39m\u001b[39m.join(str(n) for n in range(100))\u001b[39m\u001b[39m'\u001b[39m, number\u001b[39m=\u001b[39m\u001b[39m1000000\u001b[39m) \n",
      "\u001b[1;31mNameError\u001b[0m: name 'PCs_train' is not defined"
     ]
    }
   ],
   "source": [
    "knn_quality(PCs_train, PCs_test, 4, label_train, label_test, 50)\n",
    "timeit_knnquality = timeit.timeit('\"-\".join(str(n) for n in range(100))', number=1000000) "
   ]
  },
  {
   "cell_type": "code",
   "execution_count": 10,
   "metadata": {},
   "outputs": [
    {
     "ename": "NameError",
     "evalue": "name 'PCs_train' is not defined",
     "output_type": "error",
     "traceback": [
      "\u001b[1;31m---------------------------------------------------------------------------\u001b[0m",
      "\u001b[1;31mNameError\u001b[0m                                 Traceback (most recent call last)",
      "Cell \u001b[1;32mIn[10], line 38\u001b[0m\n\u001b[0;32m     36\u001b[0m leafsizes \u001b[39m=\u001b[39m np\u001b[39m.\u001b[39marray([\u001b[39m1\u001b[39m, \u001b[39m10\u001b[39m, \u001b[39m20\u001b[39m, \u001b[39m50\u001b[39m, \u001b[39m100\u001b[39m])\n\u001b[0;32m     37\u001b[0m \u001b[39mfor\u001b[39;00m i \u001b[39min\u001b[39;00m leafsizes:\n\u001b[1;32m---> 38\u001b[0m     knn_kdtree_mod(PCs_train, PCs_test, \u001b[39m4\u001b[39m, label_train, label_test, \u001b[39m50\u001b[39m, i)\n\u001b[0;32m     39\u001b[0m     timeit_leafsize\u001b[39m.\u001b[39mappend(timeit\u001b[39m.\u001b[39mtimeit(\u001b[39m'\u001b[39m\u001b[39m\"\u001b[39m\u001b[39m-\u001b[39m\u001b[39m\"\u001b[39m\u001b[39m.join(str(n) for n in range(100))\u001b[39m\u001b[39m'\u001b[39m, number\u001b[39m=\u001b[39m\u001b[39m1000000\u001b[39m))\n",
      "\u001b[1;31mNameError\u001b[0m: name 'PCs_train' is not defined"
     ]
    }
   ],
   "source": [
    "def knn_kdtree_mod(PCs_train, PCs_test, k, label_train, label_test, testsize, leafsize):\n",
    "    \"\"\"returns the accuray of the KNN for test images\n",
    "\n",
    "    Args:\n",
    "        PCs_train (numpy array): transformed training data\n",
    "        PCs_test (numpy array): transformed testing data\n",
    "        k (int): number of neighbours \n",
    "        label_train (numpy array 1D): labels of training data\n",
    "        label_test (numpy array 1D): labels of testing data\n",
    "        testsize (int): number of testing images you want to classify\n",
    "        \n",
    "    Returns:\n",
    "        knn for number of testsize images\n",
    "    \"\"\"\n",
    "\n",
    "    result = np.array([])\n",
    "    kd_tree = spatial.KDTree(PCs_train,leafsize)\n",
    "    count_count = 0\n",
    "    for i in range(0, len(label_test), testsize):\n",
    "        if count_count % 10 == 0:\n",
    "            print(\"Current progress is \" + str(count_count*100/(len(label_test)/testsize)) + \" percent.\")\n",
    "        count_count += 1\n",
    "        dist, neighbour_index = kd_tree.query(PCs_test[i:i+testsize, None],p=2,k=k, workers = -1)\n",
    "        neighbour_label = label_train[neighbour_index]\n",
    "        batch_result = [mode(neighbour_label,axis=2)[0]]\n",
    "        batch_result = np.array(batch_result)\n",
    "        batch_result = np.squeeze(batch_result)\n",
    "        batch_result = batch_result.astype(int)\n",
    "        result = result.astype(int)\n",
    "        result = np.concatenate((result, batch_result), axis=0)\n",
    "    return result\n",
    "\n",
    "timeit.timeit('\"-\".join(str(n) for n in range(100))', number=1000000)\n",
    "\n",
    "timeit_leafsize = []\n",
    "leafsizes = np.array([1, 10, 20, 50, 100])\n",
    "for i in leafsizes:\n",
    "    knn_kdtree_mod(PCs_train, PCs_test, 4, label_train, label_test, 50, i)\n",
    "    timeit_leafsize.append(timeit.timeit('\"-\".join(str(n) for n in range(100))', number=1000000))\n",
    "\n"
   ]
  },
  {
   "cell_type": "code",
   "execution_count": null,
   "metadata": {},
   "outputs": [
    {
     "ename": "NameError",
     "evalue": "name 'timeit_leafsize' is not defined",
     "output_type": "error",
     "traceback": [
      "\u001b[1;31m---------------------------------------------------------------------------\u001b[0m",
      "\u001b[1;31mNameError\u001b[0m                                 Traceback (most recent call last)",
      "\u001b[1;32mc:\\Users\\awark\\Bioinfo Projekt\\RäuberHotzenPLOTS.ipynb Cell 11\u001b[0m in \u001b[0;36m<cell line: 1>\u001b[1;34m()\u001b[0m\n\u001b[1;32m----> <a href='vscode-notebook-cell:/c%3A/Users/awark/Bioinfo%20Projekt/R%C3%A4uberHotzenPLOTS.ipynb#X13sZmlsZQ%3D%3D?line=0'>1</a>\u001b[0m timeit \u001b[39m=\u001b[39m pnd\u001b[39m.\u001b[39mDataFrame(timeit_leafsize, index\u001b[39m=\u001b[39m([\u001b[39m'\u001b[39m\u001b[39m1\u001b[39m\u001b[39m'\u001b[39m, \u001b[39m'\u001b[39m\u001b[39m10\u001b[39m\u001b[39m'\u001b[39m, \u001b[39m'\u001b[39m\u001b[39m20\u001b[39m\u001b[39m'\u001b[39m, \u001b[39m'\u001b[39m\u001b[39m50\u001b[39m\u001b[39m'\u001b[39m, \u001b[39m'\u001b[39m\u001b[39m100\u001b[39m\u001b[39m'\u001b[39m]),columns\u001b[39m=\u001b[39m([\u001b[39m'\u001b[39m\u001b[39mtimeit\u001b[39m\u001b[39m'\u001b[39m]))\n\u001b[0;32m      <a href='vscode-notebook-cell:/c%3A/Users/awark/Bioinfo%20Projekt/R%C3%A4uberHotzenPLOTS.ipynb#X13sZmlsZQ%3D%3D?line=1'>2</a>\u001b[0m \u001b[39mprint\u001b[39m(timeit)\n",
      "\u001b[1;31mNameError\u001b[0m: name 'timeit_leafsize' is not defined"
     ]
    }
   ],
   "source": [
    "timeit = pnd.DataFrame(timeit_leafsize, index=(['1', '10', '20', '50', '100']),columns=(['timeit']))\n",
    "print(timeit)\n",
    "\n"
   ]
  },
  {
   "cell_type": "code",
   "execution_count": null,
   "metadata": {},
   "outputs": [
    {
     "data": {
      "image/png": "[encoded data removed]",
      "text/plain": [
       "<Figure size 432x288 with 1 Axes>"
      ]
     },
     "metadata": {
      "needs_background": "light"
     },
     "output_type": "display_data"
    }
   ],
   "source": [
    "# ROC curve in Python\n",
    "n_classes = 10\n",
    "dfmeasures_95var = pnd.read_csv('C:/Users/awark/Bioinfo Projekt/Results/95var.csv')\n",
    "ypred = np.array(label_binarize(dfmeasures_95var['2'], classes=range(n_classes)))\n",
    "\n",
    "y_bin = label_binarize(label_test, classes=range(n_classes))\n",
    "\n",
    "fpr = dict()\n",
    "tpr = dict()\n",
    "roc_auc = dict()\n",
    "for i in range(n_classes):\n",
    "    fpr[i], tpr[i], _ = roc_curve(y_bin[:, i], np.array(ypred[:, i]))\n",
    "    roc_auc[i] = auc(fpr[i], tpr[i])\n",
    "\n",
    "# Plot all ROC curves\n",
    "plt.figure()\n",
    "colors = cycle(['blue', 'red', 'green', 'purple', 'orange', 'brown', 'pink', 'gray', 'olive', 'cyan'])\n",
    "for i, color in zip(range(n_classes), colors):\n",
    "    plt.plot(fpr[i], tpr[i], color=color, lw=2, label='ROC curve of class {0} (area = {1:0.2f})'.format(i, roc_auc[i]))\n",
    "\n",
    "plt.plot([0, 1], [0, 1], 'k--', lw=2)\n",
    "plt.xlim([0.0, 1.0])\n",
    "plt.ylim([0.0, 1.05])\n",
    "plt.xlabel('False Positive Rate')\n",
    "plt.ylabel('True Positive Rate')\n",
    "plt.title('Receiver Operating Characteristic (ROC) Curve')\n",
    "plt.legend(loc=\"lower right\")\n",
    "plt.savefig('roc.png', dpi=600)\n",
    "plt.show()\n",
    "\n",
    "\n"
   ]
  }
 ],
 "metadata": {
  "kernelspec": {
   "display_name": "Python 3",
   "language": "python",
   "name": "python3"
  },
  "language_info": {
   "codemirror_mode": {
    "name": "ipython",
    "version": 3
   },
   "file_extension": ".py",
   "mimetype": "text/x-python",
   "name": "python",
   "nbconvert_exporter": "python",
   "pygments_lexer": "ipython3",
   "version": "3.10.4"
  },
  "orig_nbformat": 4
 },
 "nbformat": 4,
 "nbformat_minor": 2
}
