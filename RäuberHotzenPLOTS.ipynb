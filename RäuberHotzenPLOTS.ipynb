{
 "cells": [
  {
   "attachments": {},
   "cell_type": "markdown",
   "metadata": {},
   "source": [
    "# Plots\n",
    "## Accuracy für KNN "
   ]
  },
  {
   "cell_type": "code",
   "execution_count": 2,
   "metadata": {},
   "outputs": [],
   "source": [
    "import numpy as np\n",
    "import pandas as pnd"
   ]
  },
  {
   "cell_type": "code",
   "execution_count": 38,
   "metadata": {},
   "outputs": [
    {
     "name": "stdout",
     "output_type": "stream",
     "text": [
      "[[0.46, 0.4874, 0.4964, 0.515, 0.5181, 0.5282, 0.5258, 0.5312, 0.5342, 0.5362, 0.539, 0.5408, 0.544, 0.545], [0.6979, 0.7314, 0.7371, 0.7428, 0.7449, 0.7459, 0.7509, 0.7535, 0.7532, 0.7548, 0.7532, 0.7558, 0.7566, 0.7579], [0.8301, 0.8449, 0.8469, 0.8494, 0.8508, 0.853, 0.8538, 0.8552, 0.8546, 0.8526, 0.8521, 0.8519, 0.8513, 0.8525], [0.8403, 0.8516, 0.8569, 0.8591, 0.863, 0.8611, 0.8601, 0.8589, 0.8625, 0.8582, 0.8589, 0.8591, 0.8591, 0.8575], [0.8455, 0.8571, 0.8635, 0.8673, 0.8672, 0.8671, 0.8669, 0.8675, 0.8671, 0.8647, 0.8653, 0.8636, 0.8646, 0.8639], [0.8516, 0.8623, 0.8683, 0.8695, 0.8689, 0.867, 0.8684, 0.8688, 0.8689, 0.868, 0.8657, 0.8646, 0.8653, 0.8643], [0.856, 0.8656, 0.8701, 0.867, 0.8698, 0.867, 0.8682, 0.8668, 0.8675, 0.8652, 0.8663, 0.8656, 0.8633, 0.8625], [0.8532, 0.8566, 0.862, 0.8612, 0.8602, 0.8601, 0.8624, 0.8598, 0.8592, 0.8575, 0.8572, 0.8552, 0.8557, 0.8537]]\n"
     ]
    },
    {
     "ename": "TypeError",
     "evalue": "Index(...) must be called with a collection of some kind, 'number of k' was passed",
     "output_type": "error",
     "traceback": [
      "\u001b[1;31m---------------------------------------------------------------------------\u001b[0m",
      "\u001b[1;31mTypeError\u001b[0m                                 Traceback (most recent call last)",
      "\u001b[1;32mc:\\Users\\awark\\Bioinfo Projekt\\RäuberHotzenPLOTS.ipynb Cell 3\u001b[0m in \u001b[0;36m<cell line: 48>\u001b[1;34m()\u001b[0m\n\u001b[0;32m     <a href='vscode-notebook-cell:/c%3A/Users/awark/Bioinfo%20Projekt/R%C3%A4uberHotzenPLOTS.ipynb#W3sZmlsZQ%3D%3D?line=44'>45</a>\u001b[0m     totallist\u001b[39m.\u001b[39mappend(accuracylist)\n\u001b[0;32m     <a href='vscode-notebook-cell:/c%3A/Users/awark/Bioinfo%20Projekt/R%C3%A4uberHotzenPLOTS.ipynb#W3sZmlsZQ%3D%3D?line=45'>46</a>\u001b[0m \u001b[39mprint\u001b[39m(totallist)\n\u001b[1;32m---> <a href='vscode-notebook-cell:/c%3A/Users/awark/Bioinfo%20Projekt/R%C3%A4uberHotzenPLOTS.ipynb#W3sZmlsZQ%3D%3D?line=47'>48</a>\u001b[0m totallist \u001b[39m=\u001b[39m pnd\u001b[39m.\u001b[39;49mDataFrame(totallist, index \u001b[39m=\u001b[39;49m \u001b[39m\"\u001b[39;49m\u001b[39mvariace\u001b[39;49m\u001b[39m\"\u001b[39;49m, columns\u001b[39m=\u001b[39;49m\u001b[39m'\u001b[39;49m\u001b[39mnumber of k\u001b[39;49m\u001b[39m'\u001b[39;49m)\n\u001b[0;32m     <a href='vscode-notebook-cell:/c%3A/Users/awark/Bioinfo%20Projekt/R%C3%A4uberHotzenPLOTS.ipynb#W3sZmlsZQ%3D%3D?line=48'>49</a>\u001b[0m \u001b[39mprint\u001b[39m(totallist)\n\u001b[0;32m     <a href='vscode-notebook-cell:/c%3A/Users/awark/Bioinfo%20Projekt/R%C3%A4uberHotzenPLOTS.ipynb#W3sZmlsZQ%3D%3D?line=49'>50</a>\u001b[0m totallist \u001b[39m=\u001b[39m totallist\u001b[39m.\u001b[39mpivot(index\u001b[39m=\u001b[39m\u001b[39m\"\u001b[39m\u001b[39mvariance\u001b[39m\u001b[39m\"\u001b[39m, columns\u001b[39m=\u001b[39m\u001b[39m\"\u001b[39m\u001b[39mnumber of k\u001b[39m\u001b[39m\"\u001b[39m)\n",
      "File \u001b[1;32mc:\\Users\\awark\\mambaforge\\envs\\compmeth2022\\lib\\site-packages\\pandas\\core\\frame.py:781\u001b[0m, in \u001b[0;36mDataFrame.__init__\u001b[1;34m(self, data, index, columns, dtype, copy)\u001b[0m\n\u001b[0;32m    778\u001b[0m \u001b[39mif\u001b[39;00m \u001b[39mnot\u001b[39;00m \u001b[39misinstance\u001b[39m(data, np\u001b[39m.\u001b[39mndarray) \u001b[39mand\u001b[39;00m treat_as_nested(data):\n\u001b[0;32m    779\u001b[0m     \u001b[39m# exclude ndarray as we may have cast it a few lines above\u001b[39;00m\n\u001b[0;32m    780\u001b[0m     \u001b[39mif\u001b[39;00m columns \u001b[39mis\u001b[39;00m \u001b[39mnot\u001b[39;00m \u001b[39mNone\u001b[39;00m:\n\u001b[1;32m--> 781\u001b[0m         columns \u001b[39m=\u001b[39m ensure_index(columns)\n\u001b[0;32m    782\u001b[0m     arrays, columns, index \u001b[39m=\u001b[39m nested_data_to_arrays(\n\u001b[0;32m    783\u001b[0m         \u001b[39m# error: Argument 3 to \"nested_data_to_arrays\" has incompatible\u001b[39;00m\n\u001b[0;32m    784\u001b[0m         \u001b[39m# type \"Optional[Collection[Any]]\"; expected \"Optional[Index]\"\u001b[39;00m\n\u001b[1;32m   (...)\u001b[0m\n\u001b[0;32m    788\u001b[0m         dtype,\n\u001b[0;32m    789\u001b[0m     )\n\u001b[0;32m    790\u001b[0m     mgr \u001b[39m=\u001b[39m arrays_to_mgr(\n\u001b[0;32m    791\u001b[0m         arrays,\n\u001b[0;32m    792\u001b[0m         columns,\n\u001b[1;32m   (...)\u001b[0m\n\u001b[0;32m    795\u001b[0m         typ\u001b[39m=\u001b[39mmanager,\n\u001b[0;32m    796\u001b[0m     )\n",
      "File \u001b[1;32mc:\\Users\\awark\\mambaforge\\envs\\compmeth2022\\lib\\site-packages\\pandas\\core\\indexes\\base.py:7125\u001b[0m, in \u001b[0;36mensure_index\u001b[1;34m(index_like, copy)\u001b[0m\n\u001b[0;32m   7123\u001b[0m         \u001b[39mreturn\u001b[39;00m Index(index_like, copy\u001b[39m=\u001b[39mcopy, tupleize_cols\u001b[39m=\u001b[39m\u001b[39mFalse\u001b[39;00m)\n\u001b[0;32m   7124\u001b[0m \u001b[39melse\u001b[39;00m:\n\u001b[1;32m-> 7125\u001b[0m     \u001b[39mreturn\u001b[39;00m Index(index_like, copy\u001b[39m=\u001b[39;49mcopy)\n",
      "File \u001b[1;32mc:\\Users\\awark\\mambaforge\\envs\\compmeth2022\\lib\\site-packages\\pandas\\core\\indexes\\base.py:516\u001b[0m, in \u001b[0;36mIndex.__new__\u001b[1;34m(cls, data, dtype, copy, name, tupleize_cols)\u001b[0m\n\u001b[0;32m    513\u001b[0m         data \u001b[39m=\u001b[39m com\u001b[39m.\u001b[39masarray_tuplesafe(data, dtype\u001b[39m=\u001b[39m_dtype_obj)\n\u001b[0;32m    515\u001b[0m \u001b[39melif\u001b[39;00m is_scalar(data):\n\u001b[1;32m--> 516\u001b[0m     \u001b[39mraise\u001b[39;00m \u001b[39mcls\u001b[39;49m\u001b[39m.\u001b[39;49m_raise_scalar_data_error(data)\n\u001b[0;32m    517\u001b[0m \u001b[39melif\u001b[39;00m \u001b[39mhasattr\u001b[39m(data, \u001b[39m\"\u001b[39m\u001b[39m__array__\u001b[39m\u001b[39m\"\u001b[39m):\n\u001b[0;32m    518\u001b[0m     \u001b[39mreturn\u001b[39;00m Index(np\u001b[39m.\u001b[39masarray(data), dtype\u001b[39m=\u001b[39mdtype, copy\u001b[39m=\u001b[39mcopy, name\u001b[39m=\u001b[39mname)\n",
      "File \u001b[1;32mc:\\Users\\awark\\mambaforge\\envs\\compmeth2022\\lib\\site-packages\\pandas\\core\\indexes\\base.py:5065\u001b[0m, in \u001b[0;36mIndex._raise_scalar_data_error\u001b[1;34m(cls, data)\u001b[0m\n\u001b[0;32m   5060\u001b[0m \u001b[39m@final\u001b[39m\n\u001b[0;32m   5061\u001b[0m \u001b[39m@classmethod\u001b[39m\n\u001b[0;32m   5062\u001b[0m \u001b[39mdef\u001b[39;00m \u001b[39m_raise_scalar_data_error\u001b[39m(\u001b[39mcls\u001b[39m, data):\n\u001b[0;32m   5063\u001b[0m     \u001b[39m# We return the TypeError so that we can raise it from the constructor\u001b[39;00m\n\u001b[0;32m   5064\u001b[0m     \u001b[39m#  in order to keep mypy happy\u001b[39;00m\n\u001b[1;32m-> 5065\u001b[0m     \u001b[39mraise\u001b[39;00m \u001b[39mTypeError\u001b[39;00m(\n\u001b[0;32m   5066\u001b[0m         \u001b[39mf\u001b[39m\u001b[39m\"\u001b[39m\u001b[39m{\u001b[39;00m\u001b[39mcls\u001b[39m\u001b[39m.\u001b[39m\u001b[39m__name__\u001b[39m\u001b[39m}\u001b[39;00m\u001b[39m(...) must be called with a collection of some \u001b[39m\u001b[39m\"\u001b[39m\n\u001b[0;32m   5067\u001b[0m         \u001b[39mf\u001b[39m\u001b[39m\"\u001b[39m\u001b[39mkind, \u001b[39m\u001b[39m{\u001b[39;00m\u001b[39mrepr\u001b[39m(data)\u001b[39m}\u001b[39;00m\u001b[39m was passed\u001b[39m\u001b[39m\"\u001b[39m\n\u001b[0;32m   5068\u001b[0m     )\n",
      "\u001b[1;31mTypeError\u001b[0m: Index(...) must be called with a collection of some kind, 'number of k' was passed"
     ]
    }
   ],
   "source": [
    "import csv\n",
    "import seaborn as sns\n",
    "from scipy import spatial\n",
    "from collections import Counter\n",
    "from scipy.stats import mode\n",
    "from functions.PCA import pca\n",
    "from pathlib import Path\n",
    "import os\n",
    "import glob\n",
    "\n",
    "dataset = 1\n",
    "match dataset:\n",
    "    case 1:\n",
    "        test = 'fashion-mnist_test.csv'\n",
    "        train = 'fashion-mnist_train.csv'\n",
    "    case 2: \n",
    "        test = \"mnist_test.csv\"\n",
    "        train = \"mnist_train.csv\"\n",
    "testdata = pnd.read_csv(test)\n",
    "traindata = pnd.read_csv(train)\n",
    "\n",
    "testdata_pixel = testdata.drop(testdata.columns[0], axis=1).to_numpy()\n",
    "traindata_pixel = traindata.drop(traindata.columns[0], axis=1).to_numpy()\n",
    "label_train = traindata[traindata.columns[0]].to_numpy()\n",
    "label_test = testdata[testdata.columns[0]].to_numpy()\n",
    "\n",
    "class_names = np.array([\"T-shirt / Top\", \"Trouser\", \"Pullover\", \"Dress\", \"Coat\", \"Sandal\", \"Shirt\", \"Sneaker\", \"Bag\", \"Ankle Boot\"])\n",
    "\n",
    "folder_path = 'C:/Users/awark/Bioinfo Projekt/Results/'  # Path to the \"results\" folder\n",
    "csv_files = [f for f in os.listdir(folder_path) if f.endswith('.csv')]\n",
    "\n",
    "\n",
    "csv_filess = glob.glob(folder_path + '/*.csv')\n",
    "\n",
    "\n",
    "\n",
    "#knnallk = pnd.read_csv('C:/Users/awark/Bioinfo Projekt/Results/out.csv')\n",
    "totallist = []\n",
    "for csvdata in csv_filess:\n",
    "    df = pnd.read_csv(csvdata)\n",
    "    accuracylist = []\n",
    "    for i in range(14):\n",
    "        accuracy = np.sum(df.iloc[:,i] == label_test)/ len(label_test)\n",
    "        accuracylist.append(accuracy)\n",
    "    totallist.append(accuracylist)\n",
    "print(totallist)\n",
    "\n",
    "totallist = pnd.DataFrame(totallist, index = \"variace\", columns='number of k')\n",
    "print(totallist)\n",
    "totallist = totallist.pivot(index=\"variance\", columns=\"number of k\")\n",
    "sns.relplot(data=totallist, x=\"variance\", y=\"number of k\", col=\"accuracy\")\n",
    "\n"
   ]
  }
 ],
 "metadata": {
  "kernelspec": {
   "display_name": "Python 3",
   "language": "python",
   "name": "python3"
  },
  "language_info": {
   "codemirror_mode": {
    "name": "ipython",
    "version": 3
   },
   "file_extension": ".py",
   "mimetype": "text/x-python",
   "name": "python",
   "nbconvert_exporter": "python",
   "pygments_lexer": "ipython3",
   "version": "3.10.4"
  },
  "orig_nbformat": 4
 },
 "nbformat": 4,
 "nbformat_minor": 2
}
