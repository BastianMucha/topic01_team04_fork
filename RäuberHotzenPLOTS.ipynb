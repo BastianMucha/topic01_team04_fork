{
 "cells": [
  {
   "attachments": {},
   "cell_type": "markdown",
   "metadata": {},
   "source": [
    "# Plots\n",
    "## Accuracy für KNN "
   ]
  },
  {
   "cell_type": "code",
   "execution_count": 1,
   "metadata": {},
   "outputs": [],
   "source": [
    "import numpy as np\n",
    "import pandas as pnd"
   ]
  },
  {
   "cell_type": "code",
   "execution_count": 22,
   "metadata": {},
   "outputs": [
    {
     "name": "stdout",
     "output_type": "stream",
     "text": [
      "     number of k  accuracy explained variance\n",
      "0              2    0.4600               0.25\n",
      "1              3    0.4874               0.25\n",
      "2              4    0.4964               0.25\n",
      "3              5    0.5150               0.25\n",
      "4              6    0.5181               0.25\n",
      "..           ...       ...                ...\n",
      "107           11    0.8575               1.00\n",
      "108           12    0.8572               1.00\n",
      "109           13    0.8552               1.00\n",
      "110           14    0.8557               1.00\n",
      "111           15    0.8537               1.00\n",
      "\n",
      "[112 rows x 3 columns]\n"
     ]
    },
    {
     "data": {
      "image/png": "[encoded data removed]",
      "text/plain": [
       "<Figure size 463.125x360 with 1 Axes>"
      ]
     },
     "metadata": {
      "needs_background": "light"
     },
     "output_type": "display_data"
    }
   ],
   "source": [
    "import csv\n",
    "import seaborn as sns\n",
    "from scipy import spatial\n",
    "from collections import Counter\n",
    "from scipy.stats import mode\n",
    "from functions.PCA import pca\n",
    "from pathlib import Path\n",
    "import matplotlib.pyplot as plt\n",
    "import os\n",
    "import glob\n",
    "\n",
    "dataset = 1\n",
    "match dataset:\n",
    "    case 1:\n",
    "        test = 'fashion-mnist_test.csv'\n",
    "        train = 'fashion-mnist_train.csv'\n",
    "    case 2: \n",
    "        test = \"mnist_test.csv\"\n",
    "        train = \"mnist_train.csv\"\n",
    "testdata = pnd.read_csv(test)\n",
    "traindata = pnd.read_csv(train)\n",
    "\n",
    "testdata_pixel = testdata.drop(testdata.columns[0], axis=1).to_numpy()\n",
    "traindata_pixel = traindata.drop(traindata.columns[0], axis=1).to_numpy()\n",
    "label_train = traindata[traindata.columns[0]].to_numpy()\n",
    "label_test = testdata[testdata.columns[0]].to_numpy()\n",
    "\n",
    "class_names = np.array([\"T-shirt / Top\", \"Trouser\", \"Pullover\", \"Dress\", \"Coat\", \"Sandal\", \"Shirt\", \"Sneaker\", \"Bag\", \"Ankle Boot\"])\n",
    "\n",
    "folder_path = 'C:/Users/awark/Bioinfo Projekt/Results/'  # Path to the \"results\" folder\n",
    "csv_files = [f for f in os.listdir(folder_path) if f.endswith('.csv')]\n",
    "\n",
    "\n",
    "csv_filess = glob.glob(folder_path + '/*.csv')\n",
    "\n",
    "\n",
    "\n",
    "#knnallk = pnd.read_csv('C:/Users/awark/Bioinfo Projekt/Results/out.csv')\n",
    "totallist = []\n",
    "for csvdata in csv_filess:\n",
    "    df = pnd.read_csv(csvdata)\n",
    "    for i in range(14):\n",
    "        accuracy = np.sum(df.iloc[:,i] == label_test)/ len(label_test)\n",
    "        totallist.append(accuracy)\n",
    "varvec = [0.25,0.5,0.75,0.8,0.85,0.9,0.95,1]\n",
    "pclist = [i for i in varvec for _ in range(14)]\n",
    "klist = [i for _ in range(8) for i in range(2,16)]\n",
    "totallist = pnd.DataFrame({\"number of k\":klist,\"accuracy\":totallist,\"explained variance\":pnd.Categorical(pclist, ordered=True)})\n",
    "\n",
    "print(totallist)\n",
    "palette = sns.color_palette('viridis', len(totallist['explained variance'].unique()))\n",
    "variancepcsks = sns.relplot(\n",
    "data=totallist,\n",
    "x = 'number of k',\n",
    "y= 'accuracy',\n",
    "hue = 'explained variance',\n",
    "palette = palette\n",
    ")\n",
    "plt.savefig('variancepcsks.png')"
   ]
  }
 ],
 "metadata": {
  "kernelspec": {
   "display_name": "Python 3",
   "language": "python",
   "name": "python3"
  },
  "language_info": {
   "codemirror_mode": {
    "name": "ipython",
    "version": 3
   },
   "file_extension": ".py",
   "mimetype": "text/x-python",
   "name": "python",
   "nbconvert_exporter": "python",
   "pygments_lexer": "ipython3",
   "version": "3.10.4"
  },
  "orig_nbformat": 4
 },
 "nbformat": 4,
 "nbformat_minor": 2
}
